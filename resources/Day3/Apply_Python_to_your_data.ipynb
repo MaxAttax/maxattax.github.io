{
 "cells": [
  {
   "cell_type": "code",
   "execution_count": null,
   "metadata": {
    "ExecuteTime": {
     "end_time": "2018-09-21T18:03:48.988876Z",
     "start_time": "2018-09-21T18:03:48.981894Z"
    }
   },
   "outputs": [],
   "source": [
    "import pandas as pd"
   ]
  },
  {
   "cell_type": "markdown",
   "metadata": {},
   "source": [
    "# Introduction to your own data"
   ]
  },
  {
   "cell_type": "code",
   "execution_count": null,
   "metadata": {
    "ExecuteTime": {
     "end_time": "2018-09-21T22:41:00.207599Z",
     "start_time": "2018-09-21T22:41:00.197726Z"
    }
   },
   "outputs": [],
   "source": [
    "# read in exemplary data\n",
    "\n",
    "\n",
    "\n"
   ]
  },
  {
   "cell_type": "code",
   "execution_count": null,
   "metadata": {
    "ExecuteTime": {
     "end_time": "2018-09-21T22:42:11.276916Z",
     "start_time": "2018-09-21T22:42:11.270360Z"
    }
   },
   "outputs": [],
   "source": [
    "# display a few rows of the data that we just read in\n",
    "\n",
    "\n"
   ]
  },
  {
   "cell_type": "code",
   "execution_count": null,
   "metadata": {
    "ExecuteTime": {
     "end_time": "2018-09-21T22:42:22.207825Z",
     "start_time": "2018-09-21T22:42:22.206323Z"
    }
   },
   "outputs": [],
   "source": [
    "# get a description of the data\n",
    "\n",
    "\n"
   ]
  },
  {
   "cell_type": "code",
   "execution_count": null,
   "metadata": {
    "ExecuteTime": {
     "end_time": "2018-09-21T22:42:44.480911Z",
     "start_time": "2018-09-21T22:42:44.462845Z"
    }
   },
   "outputs": [],
   "source": [
    "# Save the description of the data as an Excel file\n",
    "\n",
    "\n",
    "\n"
   ]
  },
  {
   "cell_type": "markdown",
   "metadata": {},
   "source": [
    "# Concatenating DataFrames"
   ]
  },
  {
   "cell_type": "markdown",
   "metadata": {},
   "source": [
    "### Two DataFrames can be concatenated like this:"
   ]
  },
  {
   "cell_type": "code",
   "execution_count": null,
   "metadata": {
    "ExecuteTime": {
     "end_time": "2018-09-21T18:03:58.016446Z",
     "start_time": "2018-09-21T18:03:50.258135Z"
    }
   },
   "outputs": [],
   "source": [
    "df_cof_dctest_01 = pd.read_excel(\"data/original_data/insite.dce_COF_DCTest_main (01).xlsx\")\n",
    "df_cof_dctest_02 = pd.read_excel(\"data/original_data/insite.dce_COF_DCTest_main (02).xlsx\")\n",
    "\n",
    "df_concatenated = pd.concat([df_cof_dctest_01, df_cof_dctest_02])"
   ]
  },
  {
   "cell_type": "markdown",
   "metadata": {},
   "source": [
    "### Let's check the length of the two original DataFrames and the new combined one"
   ]
  },
  {
   "cell_type": "code",
   "execution_count": null,
   "metadata": {
    "ExecuteTime": {
     "end_time": "2018-09-21T18:03:58.024881Z",
     "start_time": "2018-09-21T18:03:58.018799Z"
    }
   },
   "outputs": [],
   "source": [
    "print(\"Length of the first DataFrame: \" + str( len(df_cof_dctest_01) ))\n",
    "print(\"Length of the first DataFrame: \" + str( len(df_cof_dctest_02) ))\n",
    "print(\"Length of the concatenated DataFrame: \" + str( len(df_concatenated) ))"
   ]
  },
  {
   "cell_type": "markdown",
   "metadata": {
    "ExecuteTime": {
     "end_time": "2018-09-21T14:33:49.744904Z",
     "start_time": "2018-09-21T14:33:49.738046Z"
    }
   },
   "source": [
    "### Try to concatenate the first two insite.dce_final_main Excel files to one DataFrame!"
   ]
  },
  {
   "cell_type": "code",
   "execution_count": null,
   "metadata": {
    "ExecuteTime": {
     "end_time": "2018-09-21T14:38:17.102854Z",
     "start_time": "2018-09-21T14:38:17.098867Z"
    }
   },
   "outputs": [],
   "source": [
    "# Enter your code below this comment\n",
    "\n",
    "\n",
    "\n",
    "\n",
    "\n"
   ]
  },
  {
   "cell_type": "code",
   "execution_count": null,
   "metadata": {
    "ExecuteTime": {
     "end_time": "2018-09-21T14:39:28.792234Z",
     "start_time": "2018-09-21T14:39:28.784091Z"
    }
   },
   "outputs": [],
   "source": [
    "# Enter code to check if your concatenation was successful\n",
    "\n",
    "\n"
   ]
  },
  {
   "cell_type": "markdown",
   "metadata": {},
   "source": [
    "### Here is a solution to concatenate all Excel files that belong together"
   ]
  },
  {
   "cell_type": "code",
   "execution_count": null,
   "metadata": {
    "ExecuteTime": {
     "end_time": "2018-09-21T18:04:05.696002Z",
     "start_time": "2018-09-21T18:04:05.688896Z"
    }
   },
   "outputs": [],
   "source": [
    "import os\n",
    "\n",
    "# os.listdir() generates a list of all elements in a certain directory. The directory has to be specified inside the \n",
    "# parantheses of the listdir() function.\n",
    "\n",
    "for file in os.listdir(\"data/original_data/\"):   # this for loop prints all files inside the \"original_data\" folder\n",
    "    print(file)"
   ]
  },
  {
   "cell_type": "markdown",
   "metadata": {},
   "source": [
    "The dc_final_main-files and the dce_COF_DCTest_main-files need to concatenated!"
   ]
  },
  {
   "cell_type": "code",
   "execution_count": null,
   "metadata": {
    "ExecuteTime": {
     "end_time": "2018-09-21T18:04:08.081506Z",
     "start_time": "2018-09-21T18:04:08.072304Z"
    }
   },
   "outputs": [],
   "source": [
    "def concat_excel_tables(distinct_name):\n",
    "    \"\"\"\n",
    "    This function can be used to read in multiple Excel files and return a concatenated DataFrame containing the data\n",
    "    from the Excel files.\n",
    "    -------------\n",
    "    ...distinct_name: a string that is included in the names of the files that are to be concatenated \n",
    "    \"\"\"\n",
    "    # get a list of all data inside the original_data folder\n",
    "    files = os.listdir(\"data/original_data\")\n",
    "    \n",
    "    # create a list that only contain the distinct_name in their file name (i.e. a list with the target files)\n",
    "    target_files = [f for f in files if distinct_name in f]\n",
    "\n",
    "    # create an empty list \"data\" and a counter \"i\"\n",
    "    data = []\n",
    "    i = 0\n",
    "\n",
    "    # iterate through the list with all target file names\n",
    "    for file in target_files:\n",
    "        i += 1\n",
    "        # read in the current file from an Excel file and append it to the data list\n",
    "        data.append(pd.read_excel(\"data/original_data/\"+file))\n",
    "        # print the progress of the read-in process\n",
    "        print(\"%s of %s files are read in!\" % (i, len(target_files)))\n",
    "    \n",
    "    # concatenate all DataFrames that were just added to the data list\n",
    "    df = pd.concat(data, axis=0, sort=False, ignore_index=True)\n",
    "\n",
    "    return df"
   ]
  },
  {
   "cell_type": "code",
   "execution_count": null,
   "metadata": {
    "ExecuteTime": {
     "end_time": "2018-09-21T18:04:34.088411Z",
     "start_time": "2018-09-21T18:04:11.653814Z"
    }
   },
   "outputs": [],
   "source": [
    "df_final_main = concat_excel_tables(\"insite.dce_final_main\")"
   ]
  },
  {
   "cell_type": "markdown",
   "metadata": {},
   "source": [
    "### Try to use the function to concatenate all the dce_COF_DCTest_main Excel files to one DataFrame. Then save the DataFrame to a CSV file"
   ]
  },
  {
   "cell_type": "code",
   "execution_count": null,
   "metadata": {
    "ExecuteTime": {
     "end_time": "2018-09-21T15:49:01.450445Z",
     "start_time": "2018-09-21T15:49:01.443579Z"
    }
   },
   "outputs": [],
   "source": [
    "# use the function defined above to concat the dce_COF_DCTest_main Excel files  \n",
    "\n"
   ]
  },
  {
   "cell_type": "code",
   "execution_count": null,
   "metadata": {
    "ExecuteTime": {
     "end_time": "2018-09-21T15:48:25.691641Z",
     "start_time": "2018-09-21T15:48:25.683206Z"
    }
   },
   "outputs": [],
   "source": [
    "# save the concatenated data to a CSV file\n",
    "\n"
   ]
  },
  {
   "cell_type": "markdown",
   "metadata": {},
   "source": [
    "# Merging DataFrames"
   ]
  },
  {
   "cell_type": "markdown",
   "metadata": {},
   "source": [
    "The data/preprocessed_data/csv_original_data folder contains CSV files for all data provided. Data that had to be concatenated are already concatenated!"
   ]
  },
  {
   "attachments": {
    "grafik.png": {
     "image/png": "[encoded data removed]"
    }
   },
   "cell_type": "markdown",
   "metadata": {},
   "source": [
    "![grafik.png](attachment:grafik.png)"
   ]
  },
  {
   "cell_type": "markdown",
   "metadata": {},
   "source": [
    "### Merging the COF_TOSA_Aligner data"
   ]
  },
  {
   "cell_type": "markdown",
   "metadata": {},
   "source": [
    "The CSV files contain the indexes of the respective DataFrames that were saved to the files. If we just read them in again as DataFrames, pandas would create new indexes and the old index would be treated as a normal column. To avoid this we specify \"index_col=0\". Now the old index (which is in column 0 of the CSV files) will be used as index."
   ]
  },
  {
   "cell_type": "code",
   "execution_count": null,
   "metadata": {
    "ExecuteTime": {
     "end_time": "2018-09-21T16:11:24.719537Z",
     "start_time": "2018-09-21T16:11:24.177466Z"
    }
   },
   "outputs": [],
   "source": [
    "df_tosa_main = pd.read_csv(\"data/preprocessed_data/csv_original_data/insite.dce_COF_TOSA_Aligner_main.csv\", index_col=0)\n",
    "df_tosa = pd.read_csv(\"data/preprocessed_data/csv_original_data/insite.dc_COF_TOSA_Aligner.csv\", index_col=0)"
   ]
  },
  {
   "cell_type": "code",
   "execution_count": null,
   "metadata": {
    "ExecuteTime": {
     "end_time": "2018-09-21T16:11:24.726764Z",
     "start_time": "2018-09-21T16:11:24.722113Z"
    }
   },
   "outputs": [],
   "source": [
    "# Check the shapes (i.e. the number of rows and columns) of the DataFrames\n",
    "print(df_tosa_main.shape)\n",
    "print(df_tosa.shape)"
   ]
  },
  {
   "cell_type": "code",
   "execution_count": null,
   "metadata": {
    "ExecuteTime": {
     "end_time": "2018-09-21T16:11:25.186797Z",
     "start_time": "2018-09-21T16:11:24.990411Z"
    }
   },
   "outputs": [],
   "source": [
    "df_tosa_merged = df_tosa_main.merge(df_tosa,\n",
    "                                    left_on=\"ParentHistoryID\",\n",
    "                                    right_on=\"dc_COF_TOSA_AlignerHistoryId\",\n",
    "                                    suffixes=(\"_tosa\", \"_tosa_main\"))"
   ]
  },
  {
   "cell_type": "code",
   "execution_count": null,
   "metadata": {
    "ExecuteTime": {
     "end_time": "2018-09-21T16:11:26.046975Z",
     "start_time": "2018-09-21T16:11:26.040639Z"
    }
   },
   "outputs": [],
   "source": [
    "# Check the shape of the merged DataFrame\n",
    "print(df_tosa_merged.shape)"
   ]
  },
  {
   "cell_type": "code",
   "execution_count": null,
   "metadata": {
    "ExecuteTime": {
     "end_time": "2018-09-21T16:11:29.029947Z",
     "start_time": "2018-09-21T16:11:27.299938Z"
    }
   },
   "outputs": [],
   "source": [
    "df_tosa_merged.to_csv(\"df_tosa_merged.csv\")"
   ]
  },
  {
   "cell_type": "markdown",
   "metadata": {},
   "source": [
    "### Try to merge the COF_DCTest data and save it in a file!"
   ]
  },
  {
   "cell_type": "code",
   "execution_count": null,
   "metadata": {
    "ExecuteTime": {
     "end_time": "2018-09-21T16:08:58.911217Z",
     "start_time": "2018-09-21T16:08:58.905348Z"
    }
   },
   "outputs": [],
   "source": [
    "# Enter your code here. Also check if the merge was successful (utilizing the .shape() method, which was also used above)\n",
    "\n",
    "\n"
   ]
  },
  {
   "cell_type": "code",
   "execution_count": null,
   "metadata": {
    "ExecuteTime": {
     "end_time": "2018-09-21T18:05:27.084352Z",
     "start_time": "2018-09-21T18:05:27.079174Z"
    }
   },
   "outputs": [],
   "source": [
    "# Check if the shape of your merged DataFrame looks reasonable like we did in the example\n",
    "\n",
    "\n"
   ]
  },
  {
   "cell_type": "code",
   "execution_count": null,
   "metadata": {},
   "outputs": [],
   "source": [
    "# save the merged DataFrame to a file\n",
    "\n"
   ]
  },
  {
   "cell_type": "markdown",
   "metadata": {},
   "source": [
    "### Try to merge the (previously merged) tosa aligner data with the (also previously merged) dctest data"
   ]
  },
  {
   "cell_type": "code",
   "execution_count": null,
   "metadata": {},
   "outputs": [],
   "source": []
  },
  {
   "cell_type": "code",
   "execution_count": null,
   "metadata": {},
   "outputs": [],
   "source": []
  },
  {
   "cell_type": "markdown",
   "metadata": {},
   "source": [
    "# Basic Preprocessing"
   ]
  },
  {
   "cell_type": "markdown",
   "metadata": {},
   "source": [
    "### Drop all columns that only contain missing values (using for instance your merged DataFrame)"
   ]
  },
  {
   "cell_type": "code",
   "execution_count": null,
   "metadata": {
    "ExecuteTime": {
     "end_time": "2018-09-21T16:30:09.848164Z",
     "start_time": "2018-09-21T16:30:09.840032Z"
    }
   },
   "outputs": [],
   "source": [
    "# Enter your code here\n",
    "\n",
    "\n",
    "\n"
   ]
  },
  {
   "cell_type": "markdown",
   "metadata": {},
   "source": [
    "### Drop all columns with 0 variance (i.e. there is only one unique value in the column)"
   ]
  },
  {
   "cell_type": "markdown",
   "metadata": {},
   "source": [
    "In PartNum there seems to be only one unique value. However there are missing values as well:"
   ]
  },
  {
   "cell_type": "code",
   "execution_count": null,
   "metadata": {
    "ExecuteTime": {
     "end_time": "2018-09-21T16:26:27.481982Z",
     "start_time": "2018-09-21T16:26:27.473983Z"
    }
   },
   "outputs": [],
   "source": [
    "df_tosa_merged[\"PartNum\"].unique()"
   ]
  },
  {
   "cell_type": "markdown",
   "metadata": {},
   "source": [
    "The following line of code allows us to get an array (similar to a list) of all unique (non-missing) values:"
   ]
  },
  {
   "cell_type": "code",
   "execution_count": null,
   "metadata": {
    "ExecuteTime": {
     "end_time": "2018-09-21T16:27:17.215188Z",
     "start_time": "2018-09-21T16:27:17.208084Z"
    }
   },
   "outputs": [],
   "source": [
    "df_tosa_merged[\"PartNum\"].dropna().unique()"
   ]
  },
  {
   "cell_type": "markdown",
   "metadata": {},
   "source": [
    "Using the len() function we can check the number of unique values."
   ]
  },
  {
   "cell_type": "code",
   "execution_count": null,
   "metadata": {
    "ExecuteTime": {
     "end_time": "2018-09-21T16:29:31.088865Z",
     "start_time": "2018-09-21T16:29:31.081499Z"
    }
   },
   "outputs": [],
   "source": [
    "len(df_tosa_merged[\"PartNum\"].dropna().unique())"
   ]
  },
  {
   "cell_type": "markdown",
   "metadata": {},
   "source": [
    "We can get all columns of a DataFrame as follows:"
   ]
  },
  {
   "cell_type": "code",
   "execution_count": null,
   "metadata": {
    "ExecuteTime": {
     "end_time": "2018-09-21T16:30:47.429243Z",
     "start_time": "2018-09-21T16:30:47.421613Z"
    }
   },
   "outputs": [],
   "source": [
    "df_tosa_merged.columns"
   ]
  },
  {
   "cell_type": "code",
   "execution_count": null,
   "metadata": {
    "ExecuteTime": {
     "end_time": "2018-09-21T16:34:56.134065Z",
     "start_time": "2018-09-21T16:34:55.988462Z"
    }
   },
   "outputs": [],
   "source": [
    "# Let's iterate through all columns and drop all that only contain one unique value.\n",
    "# (using DataFrame.drop(columns=column_name))\n",
    "\n",
    "\n",
    "\n"
   ]
  },
  {
   "cell_type": "markdown",
   "metadata": {},
   "source": [
    "### Let's read in the all_data.csv file from data/preprocessed_data/csv_without_empty_cols_and_merged\n",
    "For this data\n",
    "- all empty columns were already removed\n",
    "- also all columns without any variance were removed\n",
    "- moreover, all columns that were used as key to merge the data and all remaining columns having \"ID\" or \"Id\" in their name were dropped\n",
    "- additionally I dropped all columns from final, that were not declared as relevant output by you\n",
    "\n",
    "(Having no domain expertise regarding your data, I decided to neglect the Ids, as they provide no Information to me. If they contain valuable information to you, you should later create your own merged data file which still contains the Ids.)"
   ]
  },
  {
   "cell_type": "code",
   "execution_count": null,
   "metadata": {
    "ExecuteTime": {
     "end_time": "2018-09-21T17:03:52.684722Z",
     "start_time": "2018-09-21T17:03:50.495571Z"
    }
   },
   "outputs": [],
   "source": [
    "df_all = pd.read_csv(\"data/preprocessed_data/csv_without_empty_cols_and_merged/all_data.csv\", index_col=0)"
   ]
  },
  {
   "cell_type": "code",
   "execution_count": null,
   "metadata": {
    "ExecuteTime": {
     "end_time": "2018-09-21T16:46:09.595204Z",
     "start_time": "2018-09-21T16:46:09.568891Z"
    }
   },
   "outputs": [],
   "source": [
    "df_all.head()"
   ]
  },
  {
   "cell_type": "markdown",
   "metadata": {},
   "source": [
    "### Let's handle all those -99999 and -9999 values"
   ]
  },
  {
   "cell_type": "code",
   "execution_count": null,
   "metadata": {
    "ExecuteTime": {
     "end_time": "2018-09-21T17:02:44.018498Z",
     "start_time": "2018-09-21T17:02:41.792047Z"
    }
   },
   "outputs": [],
   "source": [
    "df_all.min()"
   ]
  },
  {
   "cell_type": "code",
   "execution_count": null,
   "metadata": {},
   "outputs": [],
   "source": [
    "# Enter code to treat -99999 and -9999 as missing values\n",
    "\n",
    "\n"
   ]
  },
  {
   "cell_type": "code",
   "execution_count": null,
   "metadata": {
    "ExecuteTime": {
     "end_time": "2018-09-21T16:59:19.576468Z",
     "start_time": "2018-09-21T16:59:17.231720Z"
    }
   },
   "outputs": [],
   "source": [
    "df_all.min()"
   ]
  },
  {
   "cell_type": "code",
   "execution_count": null,
   "metadata": {},
   "outputs": [],
   "source": []
  },
  {
   "cell_type": "markdown",
   "metadata": {},
   "source": [
    "# Dropping duplicates"
   ]
  },
  {
   "cell_type": "code",
   "execution_count": null,
   "metadata": {
    "ExecuteTime": {
     "end_time": "2018-09-21T17:04:01.471890Z",
     "start_time": "2018-09-21T17:04:01.467523Z"
    }
   },
   "outputs": [],
   "source": [
    "# Check how many rows our data currently has\n",
    "print(df_all.shape)"
   ]
  },
  {
   "cell_type": "code",
   "execution_count": null,
   "metadata": {
    "ExecuteTime": {
     "end_time": "2018-09-21T17:08:43.421531Z",
     "start_time": "2018-09-21T17:08:42.728689Z"
    }
   },
   "outputs": [],
   "source": [
    "# Enter code here\n",
    "\n",
    "\n",
    "\n"
   ]
  },
  {
   "cell_type": "code",
   "execution_count": null,
   "metadata": {
    "ExecuteTime": {
     "end_time": "2018-09-21T17:04:03.482297Z",
     "start_time": "2018-09-21T17:04:03.476056Z"
    }
   },
   "outputs": [],
   "source": [
    "# Check if duplicates were removed\n",
    "df_all.shape"
   ]
  },
  {
   "cell_type": "markdown",
   "metadata": {},
   "source": [
    "# Taking care of the almost empty rows (from the final_main data)"
   ]
  },
  {
   "cell_type": "markdown",
   "metadata": {},
   "source": [
    "display() is only available for Jupyter Notebooks. It will displayer DataFrames in a nicer form than print() does."
   ]
  },
  {
   "cell_type": "code",
   "execution_count": null,
   "metadata": {
    "ExecuteTime": {
     "end_time": "2018-09-21T17:08:48.000136Z",
     "start_time": "2018-09-21T17:08:47.971910Z"
    }
   },
   "outputs": [],
   "source": [
    "display(df_all.head(10))"
   ]
  },
  {
   "cell_type": "markdown",
   "metadata": {},
   "source": [
    "Lets for example check how many missing values we find in the second row (index = 1) of the DataFrame"
   ]
  },
  {
   "cell_type": "code",
   "execution_count": null,
   "metadata": {
    "ExecuteTime": {
     "end_time": "2018-09-21T17:35:04.605288Z",
     "start_time": "2018-09-21T17:35:04.598309Z"
    }
   },
   "outputs": [],
   "source": [
    "df_all.loc[1,].isna().sum()"
   ]
  },
  {
   "cell_type": "markdown",
   "metadata": {},
   "source": [
    "(compared to the final_main Excel file, we see only very few missing values. That is because all final columns that were not specified as relevant output in your use case description have been dropped by me)"
   ]
  },
  {
   "cell_type": "markdown",
   "metadata": {},
   "source": [
    "### Let's drop all rows that contain at least 14 missing values\n",
    "\n",
    "Use \"df_all.dropna?\" to find the correct parameters for the dropping process"
   ]
  },
  {
   "cell_type": "code",
   "execution_count": null,
   "metadata": {
    "ExecuteTime": {
     "end_time": "2018-09-21T17:29:01.856909Z",
     "start_time": "2018-09-21T17:29:01.812260Z"
    }
   },
   "outputs": [],
   "source": [
    "df_all.dropna?"
   ]
  },
  {
   "cell_type": "code",
   "execution_count": null,
   "metadata": {
    "ExecuteTime": {
     "end_time": "2018-09-21T17:36:58.037827Z",
     "start_time": "2018-09-21T17:36:57.871963Z"
    }
   },
   "outputs": [],
   "source": [
    "# Enter code here\n",
    "\n",
    "\n",
    "\n",
    "df_all.dropna(axis=0, thresh=75, inplace=True)"
   ]
  },
  {
   "cell_type": "markdown",
   "metadata": {},
   "source": [
    "# Fill missing values with the median"
   ]
  },
  {
   "cell_type": "code",
   "execution_count": null,
   "metadata": {
    "ExecuteTime": {
     "end_time": "2018-09-21T17:37:19.685187Z",
     "start_time": "2018-09-21T17:37:19.588502Z"
    }
   },
   "outputs": [],
   "source": [
    "df_all.isna().sum()"
   ]
  },
  {
   "cell_type": "code",
   "execution_count": null,
   "metadata": {
    "ExecuteTime": {
     "end_time": "2018-09-21T17:38:02.194488Z",
     "start_time": "2018-09-21T17:37:58.402103Z"
    }
   },
   "outputs": [],
   "source": [
    "# Enter code here\n",
    "\n",
    "\n",
    "\n",
    "\n"
   ]
  },
  {
   "cell_type": "code",
   "execution_count": null,
   "metadata": {
    "ExecuteTime": {
     "end_time": "2018-09-21T17:38:03.070906Z",
     "start_time": "2018-09-21T17:38:02.963943Z"
    }
   },
   "outputs": [],
   "source": [
    "df_all.isna().sum()"
   ]
  },
  {
   "cell_type": "markdown",
   "metadata": {},
   "source": [
    "# Save your preprocessed data!"
   ]
  },
  {
   "cell_type": "code",
   "execution_count": null,
   "metadata": {},
   "outputs": [],
   "source": [
    "# Enter code here\n",
    "\n",
    "\n",
    "\n"
   ]
  },
  {
   "cell_type": "markdown",
   "metadata": {},
   "source": [
    "# Creating a scatter plot"
   ]
  },
  {
   "cell_type": "code",
   "execution_count": null,
   "metadata": {
    "ExecuteTime": {
     "end_time": "2018-09-21T17:54:29.415603Z",
     "start_time": "2018-09-21T17:54:29.409161Z"
    }
   },
   "outputs": [],
   "source": [
    "% matplotlib qt\n",
    "\n",
    "# import the required library (matplotlib.pyplot). It is usally imported as the alias \"plt\"\n",
    "\n",
    "\n",
    "\n",
    "def plot_scatter(x, y):\n",
    "    # Enter your code here to create a scatter plot\n",
    "    \n",
    "    # first create a new figure\n",
    "    \n",
    "    # now create the scatter plot\n",
    "    \n",
    "    # Add an x-axis and a y-axis label to your plot\n",
    "    \n",
    "    # show the scatter plot\n",
    "    \n",
    "    "
   ]
  },
  {
   "cell_type": "markdown",
   "metadata": {
    "ExecuteTime": {
     "end_time": "2018-09-21T17:56:40.640145Z",
     "start_time": "2018-09-21T17:56:40.500958Z"
    }
   },
   "source": [
    "### Explore the following combinations with your scatter plot function:\n",
    "- WIGGLE_pMAX_W vs. TxOma_mW\n",
    "- T_PO_W vs. TxOma_mW\n",
    "- VI_KINK vs. Ldi_mA\n",
    "- T_PO_dBm vs. TxPower_dBm\n",
    "- SLOPE_WperA vs. TxPower_dBm\n",
    "- R_LD_ohm vs TxCrossing_pct\n",
    "\n",
    "You can get the corresponding data from the DataFrame that we previously preprocessed"
   ]
  },
  {
   "cell_type": "code",
   "execution_count": null,
   "metadata": {
    "ExecuteTime": {
     "end_time": "2018-09-21T18:01:39.087882Z",
     "start_time": "2018-09-21T18:01:38.956568Z"
    }
   },
   "outputs": [],
   "source": [
    "# Use your scatter function here\n",
    "\n",
    "\n",
    "\n"
   ]
  },
  {
   "cell_type": "code",
   "execution_count": null,
   "metadata": {},
   "outputs": [],
   "source": []
  }
 ],
 "metadata": {
  "kernelspec": {
   "display_name": "Python 3",
   "language": "python",
   "name": "python3"
  },
  "language_info": {
   "codemirror_mode": {
    "name": "ipython",
    "version": 3
   },
   "file_extension": ".py",
   "mimetype": "text/x-python",
   "name": "python",
   "nbconvert_exporter": "python",
   "pygments_lexer": "ipython3",
   "version": "3.6.5"
  },
  "toc": {
   "base_numbering": 1,
   "nav_menu": {},
   "number_sections": true,
   "sideBar": true,
   "skip_h1_title": false,
   "title_cell": "Table of Contents",
   "title_sidebar": "Contents",
   "toc_cell": false,
   "toc_position": {},
   "toc_section_display": true,
   "toc_window_display": false
  }
 },
 "nbformat": 4,
 "nbformat_minor": 2
}
