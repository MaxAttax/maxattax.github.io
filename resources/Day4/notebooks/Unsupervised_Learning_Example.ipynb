{
 "cells": [
  {
   "cell_type": "markdown",
   "metadata": {},
   "source": [
    "# Importing required libraries"
   ]
  },
  {
   "cell_type": "code",
   "execution_count": 415,
   "metadata": {
    "ExecuteTime": {
     "end_time": "2018-09-24T17:09:27.799696Z",
     "start_time": "2018-09-24T17:09:27.796671Z"
    }
   },
   "outputs": [],
   "source": [
    "import pandas as pd\n",
    "import seaborn as sns\n",
    "import matplotlib.pyplot as plt\n",
    "from sklearn.manifold import TSNE\n",
    "from sklearn.cluster import DBSCAN"
   ]
  },
  {
   "cell_type": "markdown",
   "metadata": {},
   "source": [
    "# Reading in the data"
   ]
  },
  {
   "cell_type": "code",
   "execution_count": 416,
   "metadata": {
    "ExecuteTime": {
     "end_time": "2018-09-24T17:09:27.812661Z",
     "start_time": "2018-09-24T17:09:27.804650Z"
    }
   },
   "outputs": [],
   "source": [
    "path = \"data/preprocessed_data/csv_without_empty_cols_and_merged/\""
   ]
  },
  {
   "cell_type": "code",
   "execution_count": 417,
   "metadata": {
    "ExecuteTime": {
     "end_time": "2018-09-24T17:09:29.194108Z",
     "start_time": "2018-09-24T17:09:27.814656Z"
    }
   },
   "outputs": [],
   "source": [
    "path = \"data/preprocessed_data/csv_without_empty_cols_and_merged/\"\n",
    "\n",
    "df_tosa = pd.read_csv(path+\"cof_tosa_aligner.csv\", index_col=0, na_values=[-9999, -99999])\n",
    "df_dctest = pd.read_csv(path+\"cof_dctest.csv\", index_col=0, na_values=[-9999, -99999], low_memory=False)\n",
    "df_final = pd.read_csv(path+\"final.csv\", index_col=0, na_values=[-9999, -99999])\n"
   ]
  },
  {
   "cell_type": "markdown",
   "metadata": {},
   "source": [
    "# Taking care of OsaSerialNum duplicates (DCTest)"
   ]
  },
  {
   "cell_type": "code",
   "execution_count": 418,
   "metadata": {
    "ExecuteTime": {
     "end_time": "2018-09-24T17:09:29.199921Z",
     "start_time": "2018-09-24T17:09:29.195930Z"
    }
   },
   "outputs": [],
   "source": [
    "# df_dctest.sort_values(by=[\"OsaSerialNum\", \"TestTimeStamp\"], inplace=True)"
   ]
  },
  {
   "cell_type": "code",
   "execution_count": 419,
   "metadata": {
    "ExecuteTime": {
     "end_time": "2018-09-24T17:09:29.205918Z",
     "start_time": "2018-09-24T17:09:29.201915Z"
    }
   },
   "outputs": [],
   "source": [
    "# df_dctest.drop_duplicates(subset=\"OsaSerialNum\", keep=\"last\", inplace=True)"
   ]
  },
  {
   "cell_type": "markdown",
   "metadata": {},
   "source": [
    "# Taking care of Containername duplicates (Tosa)"
   ]
  },
  {
   "cell_type": "code",
   "execution_count": 420,
   "metadata": {
    "ExecuteTime": {
     "end_time": "2018-09-24T17:09:29.211921Z",
     "start_time": "2018-09-24T17:09:29.207898Z"
    }
   },
   "outputs": [],
   "source": [
    "# df_tosa.sort_values(by=[\"Containername\", \"TestTimeStamp\"], inplace=True)"
   ]
  },
  {
   "cell_type": "code",
   "execution_count": 421,
   "metadata": {
    "ExecuteTime": {
     "end_time": "2018-09-24T17:09:29.219868Z",
     "start_time": "2018-09-24T17:09:29.213882Z"
    }
   },
   "outputs": [],
   "source": [
    "# df_tosa.drop_duplicates(subset=\"Containername\", keep=\"last\", inplace=True)"
   ]
  },
  {
   "cell_type": "markdown",
   "metadata": {},
   "source": [
    "# Dropping duplicates and almost empty rows from the output data"
   ]
  },
  {
   "cell_type": "code",
   "execution_count": 422,
   "metadata": {
    "ExecuteTime": {
     "end_time": "2018-09-24T17:09:29.278709Z",
     "start_time": "2018-09-24T17:09:29.222858Z"
    }
   },
   "outputs": [],
   "source": [
    "df_final.drop_duplicates(inplace=True)\n",
    "\n",
    "# Instead of removing all rows that do not reach a certain threshhold of non-missing values, like we\n",
    "# did in the other excercise before, I just dropped all rows that miss the value for \"ModuleTxCalPower_dBm\".\n",
    "# This will remove the columns where all the output data are missing (but possibly also some other rows, if we\n",
    "# are unlucky).\n",
    "df_final.dropna(subset=[\"ModuleTxCalPower_dBm\"], inplace=True)"
   ]
  },
  {
   "cell_type": "markdown",
   "metadata": {},
   "source": [
    "# Merging the DataFrames"
   ]
  },
  {
   "cell_type": "code",
   "execution_count": 423,
   "metadata": {
    "ExecuteTime": {
     "end_time": "2018-09-24T17:09:29.547989Z",
     "start_time": "2018-09-24T17:09:29.280704Z"
    }
   },
   "outputs": [
    {
     "name": "stdout",
     "output_type": "stream",
     "text": [
      "(33746, 32)\n",
      "(33967, 84)\n",
      "(37839, 116)\n"
     ]
    }
   ],
   "source": [
    "df_input = df_tosa.merge(df_dctest,\n",
    "                         left_on=\"Containername\",\n",
    "                         right_on=\"OsaSerialNum\",\n",
    "                         suffixes=(\"_tosa\", \"_dctest\"))\n",
    "\n",
    "print(df_tosa.shape)\n",
    "print(df_dctest.shape)\n",
    "print(df_input.shape)"
   ]
  },
  {
   "cell_type": "code",
   "execution_count": 424,
   "metadata": {
    "ExecuteTime": {
     "end_time": "2018-09-24T17:09:30.354016Z",
     "start_time": "2018-09-24T17:09:29.548986Z"
    }
   },
   "outputs": [],
   "source": [
    "df_traceability = pd.read_excel(\"data/original_data/Linkage Map and Traceability.xlsx\", \"Traceability\")"
   ]
  },
  {
   "cell_type": "code",
   "execution_count": 425,
   "metadata": {
    "ExecuteTime": {
     "end_time": "2018-09-24T17:09:30.419820Z",
     "start_time": "2018-09-24T17:09:30.355829Z"
    }
   },
   "outputs": [],
   "source": [
    "df_input = df_input.merge(df_traceability,\n",
    "                          on=\"Component\")"
   ]
  },
  {
   "cell_type": "code",
   "execution_count": 426,
   "metadata": {
    "ExecuteTime": {
     "end_time": "2018-09-24T17:09:30.426250Z",
     "start_time": "2018-09-24T17:09:30.421263Z"
    }
   },
   "outputs": [
    {
     "data": {
      "text/plain": [
       "(37839, 117)"
      ]
     },
     "execution_count": 426,
     "metadata": {},
     "output_type": "execute_result"
    }
   ],
   "source": [
    "df_input.shape"
   ]
  },
  {
   "cell_type": "code",
   "execution_count": 427,
   "metadata": {
    "ExecuteTime": {
     "end_time": "2018-09-24T17:09:30.498097Z",
     "start_time": "2018-09-24T17:09:30.428256Z"
    }
   },
   "outputs": [],
   "source": [
    "df = df_input.merge(df_final,\n",
    "                    left_on=\"ToContainer\",\n",
    "                    right_on=\"ModuleSerialNum\",\n",
    "                    suffixes=(\"\",\"_final\"))"
   ]
  },
  {
   "cell_type": "markdown",
   "metadata": {},
   "source": [
    "# Removing ID columns"
   ]
  },
  {
   "cell_type": "code",
   "execution_count": 428,
   "metadata": {
    "ExecuteTime": {
     "end_time": "2018-09-24T17:09:30.613775Z",
     "start_time": "2018-09-24T17:09:30.499056Z"
    }
   },
   "outputs": [
    {
     "name": "stdout",
     "output_type": "stream",
     "text": [
      "['CDOTypeId_tosa', 'DataCollectionDefId_tosa', 'dc_COF_TOSA_AlignerHistoryId', 'HistoryId_tosa', 'HistoryMainlineId_tosa', 'TxnId_tosa', 'CDOTypeId_dctest', 'DataCollectionDefId_dctest', 'dc_COF_DCTestHistoryId', 'HistoryId_dctest', 'HistoryMainlineId_dctest', 'TxnId_dctest', 'dce_HistoryID_tosa', 'ParentHistoryID_tosa', 'dce_HistoryID_dctest', 'ParentHistoryID_dctest']\n"
     ]
    }
   ],
   "source": [
    "ids = list(df.filter(like=\"Id\").columns)\n",
    "ids += list(df.filter(like=\"HistoryID\").columns)\n",
    "print(ids)\n",
    "\n",
    "df.drop(columns=ids, inplace=True)"
   ]
  },
  {
   "cell_type": "markdown",
   "metadata": {},
   "source": [
    "# Removing columns without variance"
   ]
  },
  {
   "cell_type": "code",
   "execution_count": 429,
   "metadata": {
    "ExecuteTime": {
     "end_time": "2018-09-24T17:09:31.358791Z",
     "start_time": "2018-09-24T17:09:30.615775Z"
    }
   },
   "outputs": [
    {
     "name": "stdout",
     "output_type": "stream",
     "text": [
      "Columns without variance: ['EngrDataDefID_tosa', 'ParentTableID_tosa', 'ChangeCount_tosa', 'PartNum', 'TestOperator_tosa', 'WhichTest_tosa', 'EngrDataDefID_dctest', 'ParentTableID_dctest', 'FXT_VCSL', 'Wavelength_nm', 'BaseAssemblyNum', 'BasePartNum', 'ChangeCount_dctest', 'IsRetest', 'OsaPartNum', 'Rework', 'TestPlanDate', 'TestPlanName', 'TestPlanVersion', 'WhichTest_dctest']\n"
     ]
    },
    {
     "data": {
      "text/plain": [
       "(37786, 97)"
      ]
     },
     "execution_count": 429,
     "metadata": {},
     "output_type": "execute_result"
    }
   ],
   "source": [
    "# Dropping columns without variance\n",
    "dropped_columns = []\n",
    "\n",
    "for c in df.columns:\n",
    "    count_of_unique_values = len(df[c].dropna().unique())\n",
    "    if count_of_unique_values == 1:      \n",
    "        df.drop(columns=c, inplace=True)\n",
    "        dropped_columns.append(c)\n",
    "        \n",
    "print(\"Columns without variance: %s\" % dropped_columns)\n",
    "\n",
    "df.shape"
   ]
  },
  {
   "cell_type": "code",
   "execution_count": 430,
   "metadata": {
    "ExecuteTime": {
     "end_time": "2018-09-24T17:09:34.371880Z",
     "start_time": "2018-09-24T17:09:31.360766Z"
    }
   },
   "outputs": [],
   "source": [
    "df.to_csv(\"data_for_modelling.csv\")"
   ]
  },
  {
   "cell_type": "markdown",
   "metadata": {},
   "source": [
    "# Preparing input"
   ]
  },
  {
   "cell_type": "code",
   "execution_count": 431,
   "metadata": {
    "ExecuteTime": {
     "end_time": "2018-09-24T17:09:34.433711Z",
     "start_time": "2018-09-24T17:09:34.373870Z"
    }
   },
   "outputs": [],
   "source": [
    "# Getting all values of ErrAbbr that occured at least 100 times\n",
    "df = df[df.groupby(\"ErrAbbr\")[\"ErrAbbr\"].transform(len) > 100]\n",
    "\n",
    "# Filtering for all rows that do not contain \"PASS\"\n",
    "df = df[(df[\"ErrAbbr\"] != \"PASS\")]"
   ]
  },
  {
   "cell_type": "code",
   "execution_count": 432,
   "metadata": {
    "ExecuteTime": {
     "end_time": "2018-09-24T17:09:34.441689Z",
     "start_time": "2018-09-24T17:09:34.434708Z"
    }
   },
   "outputs": [
    {
     "data": {
      "text/plain": [
       "-1732    236\n",
       "TxCal    206\n",
       "LoPwr    159\n",
       "RxMsk    146\n",
       "Name: ErrAbbr, dtype: int64"
      ]
     },
     "execution_count": 432,
     "metadata": {},
     "output_type": "execute_result"
    }
   ],
   "source": [
    "df[\"ErrAbbr\"].value_counts()"
   ]
  },
  {
   "cell_type": "code",
   "execution_count": 433,
   "metadata": {
    "ExecuteTime": {
     "end_time": "2018-09-24T17:09:34.451662Z",
     "start_time": "2018-09-24T17:09:34.443684Z"
    }
   },
   "outputs": [],
   "source": [
    "X = df.drop(columns=df_final.columns)"
   ]
  },
  {
   "cell_type": "markdown",
   "metadata": {},
   "source": [
    "## Estimating missing input data"
   ]
  },
  {
   "cell_type": "code",
   "execution_count": 434,
   "metadata": {
    "ExecuteTime": {
     "end_time": "2018-09-24T17:09:34.552393Z",
     "start_time": "2018-09-24T17:09:34.452660Z"
    }
   },
   "outputs": [],
   "source": [
    "# Handling missing values\n",
    "X.dropna(axis=1, how=\"all\", inplace=True)\n",
    "X.fillna(X.median(), inplace=True)"
   ]
  },
  {
   "cell_type": "markdown",
   "metadata": {
    "ExecuteTime": {
     "end_time": "2018-09-23T09:31:08.040353Z",
     "start_time": "2018-09-23T09:31:08.031324Z"
    }
   },
   "source": [
    "## Transforming the categorical variables"
   ]
  },
  {
   "cell_type": "code",
   "execution_count": 435,
   "metadata": {
    "ExecuteTime": {
     "end_time": "2018-09-24T17:09:34.592287Z",
     "start_time": "2018-09-24T17:09:34.554388Z"
    }
   },
   "outputs": [],
   "source": [
    "categorical_variables = [\"TestStation_tosa\", \"TestStation_dctest\", \"Site\", \"Att_bins\", \"SlotNum\"]\n",
    "\n",
    "# Transform categorical_variables to binary dummy variables\n",
    "X = pd.get_dummies(X, columns=categorical_variables)\n",
    "\n",
    "# Remove all remaining categorical columns\n",
    "X = X.select_dtypes(exclude=object)"
   ]
  },
  {
   "cell_type": "code",
   "execution_count": 436,
   "metadata": {
    "ExecuteTime": {
     "end_time": "2018-09-24T17:09:34.656127Z",
     "start_time": "2018-09-24T17:09:34.594281Z"
    }
   },
   "outputs": [
    {
     "data": {
      "text/html": [
       "<div>\n",
       "<style scoped>\n",
       "    .dataframe tbody tr th:only-of-type {\n",
       "        vertical-align: middle;\n",
       "    }\n",
       "\n",
       "    .dataframe tbody tr th {\n",
       "        vertical-align: top;\n",
       "    }\n",
       "\n",
       "    .dataframe thead th {\n",
       "        text-align: right;\n",
       "    }\n",
       "</style>\n",
       "<table border=\"1\" class=\"dataframe\">\n",
       "  <thead>\n",
       "    <tr style=\"text-align: right;\">\n",
       "      <th></th>\n",
       "      <th>LDPWR_mWs</th>\n",
       "      <th>AliPwr_mWs</th>\n",
       "      <th>CurePwr_mWs</th>\n",
       "      <th>ITH_mA</th>\n",
       "      <th>Slope_Eff</th>\n",
       "      <th>LD_Res</th>\n",
       "      <th>LD_Volt</th>\n",
       "      <th>CALF_COMP</th>\n",
       "      <th>CALF_CONN</th>\n",
       "      <th>T_PO_W</th>\n",
       "      <th>ID_PD_A</th>\n",
       "      <th>BVR_PD_V</th>\n",
       "      <th>BOND_A</th>\n",
       "      <th>BVR_LD_A</th>\n",
       "      <th>SNP_BK</th>\n",
       "      <th>PO_LD_W</th>\n",
       "      <th>VF_LD_V</th>\n",
       "      <th>PO_PCT</th>\n",
       "      <th>SLOPE_WperA</th>\n",
       "      <th>KINK</th>\n",
       "      <th>CORREL</th>\n",
       "      <th>THOLD_A</th>\n",
       "      <th>ROLL</th>\n",
       "      <th>I_NOM_A</th>\n",
       "      <th>IL_PD_A</th>\n",
       "      <th>R_LD_ohm</th>\n",
       "      <th>TRACK8_AperW</th>\n",
       "      <th>TRACK10_AperW</th>\n",
       "      <th>TRACK12_AperW</th>\n",
       "      <th>TRACK15_AperW</th>\n",
       "      <th>DELTRK</th>\n",
       "      <th>PO_H_W</th>\n",
       "      <th>PO_L_W</th>\n",
       "      <th>KINK1</th>\n",
       "      <th>KINK2</th>\n",
       "      <th>WIGGLE_dB</th>\n",
       "      <th>FFT</th>\n",
       "      <th>KINKMULT1</th>\n",
       "      <th>IMAX_A</th>\n",
       "      <th>KINKMULT2</th>\n",
       "      <th>PMAX_W</th>\n",
       "      <th>KINK2BETTER</th>\n",
       "      <th>VI_MASK</th>\n",
       "      <th>VI_KINK</th>\n",
       "      <th>PO_PCT2</th>\n",
       "      <th>T_PO_dBm</th>\n",
       "      <th>PO_LD_dBm</th>\n",
       "      <th>BMRipStd</th>\n",
       "      <th>Wiggle_pMin_W</th>\n",
       "      <th>WIGGLE_pMax_W</th>\n",
       "      <th>TestDuration_s</th>\n",
       "      <th>TestResult</th>\n",
       "      <th>TestStation_tosa_AT-ALIGNCOFT-01</th>\n",
       "      <th>TestStation_tosa_AT-ALIGNCOFT-02</th>\n",
       "      <th>TestStation_tosa_AT-ALIGNCOFT-03</th>\n",
       "      <th>TestStation_tosa_AT-ALIGNCOFT-04</th>\n",
       "      <th>TestStation_tosa_AT-ALIGNCOFT-05</th>\n",
       "      <th>TestStation_tosa_AT-ALIGNCOFT-06</th>\n",
       "      <th>TestStation_tosa_AT-ALIGNCOFT-07</th>\n",
       "      <th>TestStation_tosa_AT-ALIGNCOFT-08</th>\n",
       "      <th>TestStation_tosa_AT-ALIGNCOFT-09</th>\n",
       "      <th>TestStation_tosa_AT-ALIGNCOFT-10</th>\n",
       "      <th>TestStation_dctest_IPH_COFT_01</th>\n",
       "      <th>TestStation_dctest_IPH_COFT_02</th>\n",
       "      <th>TestStation_dctest_IPH_COFT_03</th>\n",
       "      <th>TestStation_dctest_IPH_COFT_04</th>\n",
       "      <th>TestStation_dctest_IPH_COFT_05</th>\n",
       "      <th>TestStation_dctest_IPH_COFT_06</th>\n",
       "      <th>TestStation_dctest_IPH_COFT_07</th>\n",
       "      <th>TestStation_dctest_IPH_COFT_08</th>\n",
       "      <th>TestStation_dctest_IPH_COFT_09</th>\n",
       "      <th>Site_0</th>\n",
       "      <th>Site_1</th>\n",
       "      <th>Site_2</th>\n",
       "      <th>Site_3</th>\n",
       "      <th>Site_4</th>\n",
       "      <th>Site_5</th>\n",
       "      <th>Site_6</th>\n",
       "      <th>Site_7</th>\n",
       "      <th>Site_8</th>\n",
       "      <th>Site_9</th>\n",
       "      <th>Att_bins_-1</th>\n",
       "      <th>Att_bins_0</th>\n",
       "      <th>Att_bins_1</th>\n",
       "      <th>Att_bins_2</th>\n",
       "      <th>Att_bins_3</th>\n",
       "      <th>Att_bins_4</th>\n",
       "      <th>Att_bins_5</th>\n",
       "      <th>SlotNum_0.0</th>\n",
       "      <th>SlotNum_1.0</th>\n",
       "      <th>SlotNum_2.0</th>\n",
       "      <th>SlotNum_3.0</th>\n",
       "      <th>SlotNum_4.0</th>\n",
       "      <th>SlotNum_5.0</th>\n",
       "      <th>SlotNum_6.0</th>\n",
       "      <th>SlotNum_7.0</th>\n",
       "      <th>SlotNum_8.0</th>\n",
       "      <th>SlotNum_9.0</th>\n",
       "    </tr>\n",
       "  </thead>\n",
       "  <tbody>\n",
       "    <tr>\n",
       "      <th>13</th>\n",
       "      <td>3.3820</td>\n",
       "      <td>0.5775</td>\n",
       "      <td>0.5660</td>\n",
       "      <td>0.0</td>\n",
       "      <td>0.0</td>\n",
       "      <td>0.0</td>\n",
       "      <td>0.0</td>\n",
       "      <td>2.0401</td>\n",
       "      <td>1.9964</td>\n",
       "      <td>0.000402</td>\n",
       "      <td>2.131228e-09</td>\n",
       "      <td>31.005</td>\n",
       "      <td>2.085000e-08</td>\n",
       "      <td>1.208360e-09</td>\n",
       "      <td>0.0</td>\n",
       "      <td>0.000337</td>\n",
       "      <td>2.076523</td>\n",
       "      <td>83.72990</td>\n",
       "      <td>0.047092</td>\n",
       "      <td>0.557364</td>\n",
       "      <td>0.999624</td>\n",
       "      <td>0.001061</td>\n",
       "      <td>-2.528080</td>\n",
       "      <td>0.0135</td>\n",
       "      <td>0.000552</td>\n",
       "      <td>52.78397</td>\n",
       "      <td>1.713896</td>\n",
       "      <td>1.615484</td>\n",
       "      <td>1.562788</td>\n",
       "      <td>1.521265</td>\n",
       "      <td>0.941677</td>\n",
       "      <td>0.000536</td>\n",
       "      <td>0.000484</td>\n",
       "      <td>50.51240</td>\n",
       "      <td>233.0817</td>\n",
       "      <td>0.126665</td>\n",
       "      <td>0.169505</td>\n",
       "      <td>129.91130</td>\n",
       "      <td>0.0200</td>\n",
       "      <td>2.113647</td>\n",
       "      <td>0.000774</td>\n",
       "      <td>6.166465</td>\n",
       "      <td>0.0</td>\n",
       "      <td>5.769901</td>\n",
       "      <td>83.06193</td>\n",
       "      <td>-3.956720</td>\n",
       "      <td>-4.727914</td>\n",
       "      <td>0.295899</td>\n",
       "      <td>0.000334</td>\n",
       "      <td>0.000344</td>\n",
       "      <td>22</td>\n",
       "      <td>-10293</td>\n",
       "      <td>0</td>\n",
       "      <td>1</td>\n",
       "      <td>0</td>\n",
       "      <td>0</td>\n",
       "      <td>0</td>\n",
       "      <td>0</td>\n",
       "      <td>0</td>\n",
       "      <td>0</td>\n",
       "      <td>0</td>\n",
       "      <td>0</td>\n",
       "      <td>0</td>\n",
       "      <td>0</td>\n",
       "      <td>1</td>\n",
       "      <td>0</td>\n",
       "      <td>0</td>\n",
       "      <td>0</td>\n",
       "      <td>0</td>\n",
       "      <td>0</td>\n",
       "      <td>0</td>\n",
       "      <td>0</td>\n",
       "      <td>0</td>\n",
       "      <td>0</td>\n",
       "      <td>0</td>\n",
       "      <td>0</td>\n",
       "      <td>1</td>\n",
       "      <td>0</td>\n",
       "      <td>0</td>\n",
       "      <td>0</td>\n",
       "      <td>0</td>\n",
       "      <td>0</td>\n",
       "      <td>0</td>\n",
       "      <td>0</td>\n",
       "      <td>0</td>\n",
       "      <td>0</td>\n",
       "      <td>0</td>\n",
       "      <td>1</td>\n",
       "      <td>0</td>\n",
       "      <td>0</td>\n",
       "      <td>0</td>\n",
       "      <td>0</td>\n",
       "      <td>0</td>\n",
       "      <td>1</td>\n",
       "      <td>0</td>\n",
       "      <td>0</td>\n",
       "      <td>0</td>\n",
       "      <td>0</td>\n",
       "    </tr>\n",
       "    <tr>\n",
       "      <th>14</th>\n",
       "      <td>3.3820</td>\n",
       "      <td>0.5775</td>\n",
       "      <td>0.5660</td>\n",
       "      <td>0.0</td>\n",
       "      <td>0.0</td>\n",
       "      <td>0.0</td>\n",
       "      <td>0.0</td>\n",
       "      <td>2.0071</td>\n",
       "      <td>2.0109</td>\n",
       "      <td>0.000603</td>\n",
       "      <td>7.796370e-10</td>\n",
       "      <td>31.001</td>\n",
       "      <td>3.990000e-09</td>\n",
       "      <td>4.498360e-10</td>\n",
       "      <td>0.0</td>\n",
       "      <td>0.000536</td>\n",
       "      <td>2.080706</td>\n",
       "      <td>88.89952</td>\n",
       "      <td>0.068550</td>\n",
       "      <td>0.689251</td>\n",
       "      <td>0.999669</td>\n",
       "      <td>0.000910</td>\n",
       "      <td>-4.386859</td>\n",
       "      <td>0.0089</td>\n",
       "      <td>0.000551</td>\n",
       "      <td>53.26843</td>\n",
       "      <td>1.025409</td>\n",
       "      <td>1.035641</td>\n",
       "      <td>1.027327</td>\n",
       "      <td>1.019694</td>\n",
       "      <td>0.984602</td>\n",
       "      <td>0.000806</td>\n",
       "      <td>0.000729</td>\n",
       "      <td>26.26116</td>\n",
       "      <td>173.4647</td>\n",
       "      <td>0.083197</td>\n",
       "      <td>0.363242</td>\n",
       "      <td>119.56060</td>\n",
       "      <td>0.0199</td>\n",
       "      <td>2.077588</td>\n",
       "      <td>0.001058</td>\n",
       "      <td>5.800860</td>\n",
       "      <td>0.0</td>\n",
       "      <td>5.896650</td>\n",
       "      <td>87.46564</td>\n",
       "      <td>-2.194358</td>\n",
       "      <td>-2.705364</td>\n",
       "      <td>0.261453</td>\n",
       "      <td>0.000528</td>\n",
       "      <td>0.000538</td>\n",
       "      <td>25</td>\n",
       "      <td>0</td>\n",
       "      <td>0</td>\n",
       "      <td>1</td>\n",
       "      <td>0</td>\n",
       "      <td>0</td>\n",
       "      <td>0</td>\n",
       "      <td>0</td>\n",
       "      <td>0</td>\n",
       "      <td>0</td>\n",
       "      <td>0</td>\n",
       "      <td>0</td>\n",
       "      <td>1</td>\n",
       "      <td>0</td>\n",
       "      <td>0</td>\n",
       "      <td>0</td>\n",
       "      <td>0</td>\n",
       "      <td>0</td>\n",
       "      <td>0</td>\n",
       "      <td>0</td>\n",
       "      <td>0</td>\n",
       "      <td>0</td>\n",
       "      <td>0</td>\n",
       "      <td>0</td>\n",
       "      <td>0</td>\n",
       "      <td>0</td>\n",
       "      <td>1</td>\n",
       "      <td>0</td>\n",
       "      <td>0</td>\n",
       "      <td>0</td>\n",
       "      <td>0</td>\n",
       "      <td>0</td>\n",
       "      <td>0</td>\n",
       "      <td>0</td>\n",
       "      <td>0</td>\n",
       "      <td>0</td>\n",
       "      <td>0</td>\n",
       "      <td>1</td>\n",
       "      <td>0</td>\n",
       "      <td>0</td>\n",
       "      <td>0</td>\n",
       "      <td>0</td>\n",
       "      <td>0</td>\n",
       "      <td>1</td>\n",
       "      <td>0</td>\n",
       "      <td>0</td>\n",
       "      <td>0</td>\n",
       "      <td>0</td>\n",
       "    </tr>\n",
       "    <tr>\n",
       "      <th>27</th>\n",
       "      <td>3.3765</td>\n",
       "      <td>0.0000</td>\n",
       "      <td>0.0000</td>\n",
       "      <td>0.0</td>\n",
       "      <td>0.0</td>\n",
       "      <td>0.0</td>\n",
       "      <td>0.0</td>\n",
       "      <td>2.0401</td>\n",
       "      <td>1.9964</td>\n",
       "      <td>0.000621</td>\n",
       "      <td>3.127711e-09</td>\n",
       "      <td>31.011</td>\n",
       "      <td>1.619000e-08</td>\n",
       "      <td>6.474027e-10</td>\n",
       "      <td>0.0</td>\n",
       "      <td>0.000561</td>\n",
       "      <td>2.075640</td>\n",
       "      <td>90.38322</td>\n",
       "      <td>0.071896</td>\n",
       "      <td>0.765628</td>\n",
       "      <td>0.999524</td>\n",
       "      <td>0.000916</td>\n",
       "      <td>-5.415378</td>\n",
       "      <td>0.0085</td>\n",
       "      <td>0.000531</td>\n",
       "      <td>52.64173</td>\n",
       "      <td>0.969051</td>\n",
       "      <td>0.941226</td>\n",
       "      <td>0.962550</td>\n",
       "      <td>0.958889</td>\n",
       "      <td>1.018765</td>\n",
       "      <td>0.000833</td>\n",
       "      <td>0.000767</td>\n",
       "      <td>28.24946</td>\n",
       "      <td>100.4635</td>\n",
       "      <td>0.107034</td>\n",
       "      <td>0.368255</td>\n",
       "      <td>76.91773</td>\n",
       "      <td>0.0200</td>\n",
       "      <td>1.886027</td>\n",
       "      <td>0.001087</td>\n",
       "      <td>5.804416</td>\n",
       "      <td>0.0</td>\n",
       "      <td>5.778452</td>\n",
       "      <td>88.24277</td>\n",
       "      <td>-2.071950</td>\n",
       "      <td>-2.511072</td>\n",
       "      <td>0.408408</td>\n",
       "      <td>0.000548</td>\n",
       "      <td>0.000561</td>\n",
       "      <td>22</td>\n",
       "      <td>0</td>\n",
       "      <td>0</td>\n",
       "      <td>1</td>\n",
       "      <td>0</td>\n",
       "      <td>0</td>\n",
       "      <td>0</td>\n",
       "      <td>0</td>\n",
       "      <td>0</td>\n",
       "      <td>0</td>\n",
       "      <td>0</td>\n",
       "      <td>0</td>\n",
       "      <td>0</td>\n",
       "      <td>0</td>\n",
       "      <td>1</td>\n",
       "      <td>0</td>\n",
       "      <td>0</td>\n",
       "      <td>0</td>\n",
       "      <td>0</td>\n",
       "      <td>0</td>\n",
       "      <td>0</td>\n",
       "      <td>0</td>\n",
       "      <td>0</td>\n",
       "      <td>0</td>\n",
       "      <td>0</td>\n",
       "      <td>0</td>\n",
       "      <td>1</td>\n",
       "      <td>0</td>\n",
       "      <td>0</td>\n",
       "      <td>0</td>\n",
       "      <td>0</td>\n",
       "      <td>0</td>\n",
       "      <td>0</td>\n",
       "      <td>0</td>\n",
       "      <td>0</td>\n",
       "      <td>1</td>\n",
       "      <td>0</td>\n",
       "      <td>0</td>\n",
       "      <td>0</td>\n",
       "      <td>0</td>\n",
       "      <td>0</td>\n",
       "      <td>0</td>\n",
       "      <td>0</td>\n",
       "      <td>1</td>\n",
       "      <td>0</td>\n",
       "      <td>0</td>\n",
       "      <td>0</td>\n",
       "      <td>0</td>\n",
       "    </tr>\n",
       "    <tr>\n",
       "      <th>28</th>\n",
       "      <td>3.3765</td>\n",
       "      <td>0.5716</td>\n",
       "      <td>0.5603</td>\n",
       "      <td>0.0</td>\n",
       "      <td>0.0</td>\n",
       "      <td>0.0</td>\n",
       "      <td>0.0</td>\n",
       "      <td>2.0401</td>\n",
       "      <td>1.9964</td>\n",
       "      <td>0.000621</td>\n",
       "      <td>3.127711e-09</td>\n",
       "      <td>31.011</td>\n",
       "      <td>1.619000e-08</td>\n",
       "      <td>6.474027e-10</td>\n",
       "      <td>0.0</td>\n",
       "      <td>0.000561</td>\n",
       "      <td>2.075640</td>\n",
       "      <td>90.38322</td>\n",
       "      <td>0.071896</td>\n",
       "      <td>0.765628</td>\n",
       "      <td>0.999524</td>\n",
       "      <td>0.000916</td>\n",
       "      <td>-5.415378</td>\n",
       "      <td>0.0085</td>\n",
       "      <td>0.000531</td>\n",
       "      <td>52.64173</td>\n",
       "      <td>0.969051</td>\n",
       "      <td>0.941226</td>\n",
       "      <td>0.962550</td>\n",
       "      <td>0.958889</td>\n",
       "      <td>1.018765</td>\n",
       "      <td>0.000833</td>\n",
       "      <td>0.000767</td>\n",
       "      <td>28.24946</td>\n",
       "      <td>100.4635</td>\n",
       "      <td>0.107034</td>\n",
       "      <td>0.368255</td>\n",
       "      <td>76.91773</td>\n",
       "      <td>0.0200</td>\n",
       "      <td>1.886027</td>\n",
       "      <td>0.001087</td>\n",
       "      <td>5.804416</td>\n",
       "      <td>0.0</td>\n",
       "      <td>5.778452</td>\n",
       "      <td>88.24277</td>\n",
       "      <td>-2.071950</td>\n",
       "      <td>-2.511072</td>\n",
       "      <td>0.408408</td>\n",
       "      <td>0.000548</td>\n",
       "      <td>0.000561</td>\n",
       "      <td>22</td>\n",
       "      <td>0</td>\n",
       "      <td>0</td>\n",
       "      <td>1</td>\n",
       "      <td>0</td>\n",
       "      <td>0</td>\n",
       "      <td>0</td>\n",
       "      <td>0</td>\n",
       "      <td>0</td>\n",
       "      <td>0</td>\n",
       "      <td>0</td>\n",
       "      <td>0</td>\n",
       "      <td>0</td>\n",
       "      <td>0</td>\n",
       "      <td>1</td>\n",
       "      <td>0</td>\n",
       "      <td>0</td>\n",
       "      <td>0</td>\n",
       "      <td>0</td>\n",
       "      <td>0</td>\n",
       "      <td>0</td>\n",
       "      <td>0</td>\n",
       "      <td>0</td>\n",
       "      <td>0</td>\n",
       "      <td>0</td>\n",
       "      <td>0</td>\n",
       "      <td>1</td>\n",
       "      <td>0</td>\n",
       "      <td>0</td>\n",
       "      <td>0</td>\n",
       "      <td>0</td>\n",
       "      <td>0</td>\n",
       "      <td>0</td>\n",
       "      <td>0</td>\n",
       "      <td>0</td>\n",
       "      <td>0</td>\n",
       "      <td>1</td>\n",
       "      <td>0</td>\n",
       "      <td>0</td>\n",
       "      <td>0</td>\n",
       "      <td>0</td>\n",
       "      <td>0</td>\n",
       "      <td>0</td>\n",
       "      <td>1</td>\n",
       "      <td>0</td>\n",
       "      <td>0</td>\n",
       "      <td>0</td>\n",
       "      <td>0</td>\n",
       "    </tr>\n",
       "    <tr>\n",
       "      <th>103</th>\n",
       "      <td>3.3221</td>\n",
       "      <td>0.5672</td>\n",
       "      <td>0.5653</td>\n",
       "      <td>0.0</td>\n",
       "      <td>0.0</td>\n",
       "      <td>0.0</td>\n",
       "      <td>0.0</td>\n",
       "      <td>2.0352</td>\n",
       "      <td>2.0120</td>\n",
       "      <td>0.000632</td>\n",
       "      <td>2.196320e-09</td>\n",
       "      <td>31.004</td>\n",
       "      <td>1.854000e-08</td>\n",
       "      <td>3.018457e-10</td>\n",
       "      <td>0.0</td>\n",
       "      <td>0.000564</td>\n",
       "      <td>2.092213</td>\n",
       "      <td>89.36993</td>\n",
       "      <td>0.072621</td>\n",
       "      <td>0.633654</td>\n",
       "      <td>0.999375</td>\n",
       "      <td>0.000877</td>\n",
       "      <td>-5.383078</td>\n",
       "      <td>0.0084</td>\n",
       "      <td>0.000567</td>\n",
       "      <td>54.28913</td>\n",
       "      <td>1.021971</td>\n",
       "      <td>0.993983</td>\n",
       "      <td>1.018520</td>\n",
       "      <td>0.987671</td>\n",
       "      <td>0.993650</td>\n",
       "      <td>0.000841</td>\n",
       "      <td>0.000769</td>\n",
       "      <td>28.81562</td>\n",
       "      <td>435.9929</td>\n",
       "      <td>0.141585</td>\n",
       "      <td>0.471527</td>\n",
       "      <td>276.26880</td>\n",
       "      <td>0.0200</td>\n",
       "      <td>2.441332</td>\n",
       "      <td>0.001066</td>\n",
       "      <td>6.380777</td>\n",
       "      <td>0.0</td>\n",
       "      <td>5.758220</td>\n",
       "      <td>86.92415</td>\n",
       "      <td>-1.995694</td>\n",
       "      <td>-2.483780</td>\n",
       "      <td>0.449284</td>\n",
       "      <td>0.000549</td>\n",
       "      <td>0.000567</td>\n",
       "      <td>22</td>\n",
       "      <td>0</td>\n",
       "      <td>0</td>\n",
       "      <td>1</td>\n",
       "      <td>0</td>\n",
       "      <td>0</td>\n",
       "      <td>0</td>\n",
       "      <td>0</td>\n",
       "      <td>0</td>\n",
       "      <td>0</td>\n",
       "      <td>0</td>\n",
       "      <td>0</td>\n",
       "      <td>0</td>\n",
       "      <td>0</td>\n",
       "      <td>0</td>\n",
       "      <td>1</td>\n",
       "      <td>0</td>\n",
       "      <td>0</td>\n",
       "      <td>0</td>\n",
       "      <td>0</td>\n",
       "      <td>0</td>\n",
       "      <td>0</td>\n",
       "      <td>0</td>\n",
       "      <td>0</td>\n",
       "      <td>0</td>\n",
       "      <td>0</td>\n",
       "      <td>0</td>\n",
       "      <td>0</td>\n",
       "      <td>0</td>\n",
       "      <td>1</td>\n",
       "      <td>0</td>\n",
       "      <td>0</td>\n",
       "      <td>0</td>\n",
       "      <td>0</td>\n",
       "      <td>0</td>\n",
       "      <td>0</td>\n",
       "      <td>1</td>\n",
       "      <td>0</td>\n",
       "      <td>0</td>\n",
       "      <td>0</td>\n",
       "      <td>0</td>\n",
       "      <td>0</td>\n",
       "      <td>0</td>\n",
       "      <td>0</td>\n",
       "      <td>0</td>\n",
       "      <td>0</td>\n",
       "      <td>1</td>\n",
       "      <td>0</td>\n",
       "    </tr>\n",
       "  </tbody>\n",
       "</table>\n",
       "</div>"
      ],
      "text/plain": [
       "     LDPWR_mWs  AliPwr_mWs  CurePwr_mWs  ITH_mA  Slope_Eff  LD_Res  LD_Volt  \\\n",
       "13      3.3820      0.5775       0.5660     0.0        0.0     0.0      0.0   \n",
       "14      3.3820      0.5775       0.5660     0.0        0.0     0.0      0.0   \n",
       "27      3.3765      0.0000       0.0000     0.0        0.0     0.0      0.0   \n",
       "28      3.3765      0.5716       0.5603     0.0        0.0     0.0      0.0   \n",
       "103     3.3221      0.5672       0.5653     0.0        0.0     0.0      0.0   \n",
       "\n",
       "     CALF_COMP  CALF_CONN    T_PO_W       ID_PD_A  BVR_PD_V        BOND_A  \\\n",
       "13      2.0401     1.9964  0.000402  2.131228e-09    31.005  2.085000e-08   \n",
       "14      2.0071     2.0109  0.000603  7.796370e-10    31.001  3.990000e-09   \n",
       "27      2.0401     1.9964  0.000621  3.127711e-09    31.011  1.619000e-08   \n",
       "28      2.0401     1.9964  0.000621  3.127711e-09    31.011  1.619000e-08   \n",
       "103     2.0352     2.0120  0.000632  2.196320e-09    31.004  1.854000e-08   \n",
       "\n",
       "         BVR_LD_A  SNP_BK   PO_LD_W   VF_LD_V    PO_PCT  SLOPE_WperA  \\\n",
       "13   1.208360e-09     0.0  0.000337  2.076523  83.72990     0.047092   \n",
       "14   4.498360e-10     0.0  0.000536  2.080706  88.89952     0.068550   \n",
       "27   6.474027e-10     0.0  0.000561  2.075640  90.38322     0.071896   \n",
       "28   6.474027e-10     0.0  0.000561  2.075640  90.38322     0.071896   \n",
       "103  3.018457e-10     0.0  0.000564  2.092213  89.36993     0.072621   \n",
       "\n",
       "         KINK    CORREL   THOLD_A      ROLL  I_NOM_A   IL_PD_A  R_LD_ohm  \\\n",
       "13   0.557364  0.999624  0.001061 -2.528080   0.0135  0.000552  52.78397   \n",
       "14   0.689251  0.999669  0.000910 -4.386859   0.0089  0.000551  53.26843   \n",
       "27   0.765628  0.999524  0.000916 -5.415378   0.0085  0.000531  52.64173   \n",
       "28   0.765628  0.999524  0.000916 -5.415378   0.0085  0.000531  52.64173   \n",
       "103  0.633654  0.999375  0.000877 -5.383078   0.0084  0.000567  54.28913   \n",
       "\n",
       "     TRACK8_AperW  TRACK10_AperW  TRACK12_AperW  TRACK15_AperW    DELTRK  \\\n",
       "13       1.713896       1.615484       1.562788       1.521265  0.941677   \n",
       "14       1.025409       1.035641       1.027327       1.019694  0.984602   \n",
       "27       0.969051       0.941226       0.962550       0.958889  1.018765   \n",
       "28       0.969051       0.941226       0.962550       0.958889  1.018765   \n",
       "103      1.021971       0.993983       1.018520       0.987671  0.993650   \n",
       "\n",
       "       PO_H_W    PO_L_W     KINK1     KINK2  WIGGLE_dB       FFT  KINKMULT1  \\\n",
       "13   0.000536  0.000484  50.51240  233.0817   0.126665  0.169505  129.91130   \n",
       "14   0.000806  0.000729  26.26116  173.4647   0.083197  0.363242  119.56060   \n",
       "27   0.000833  0.000767  28.24946  100.4635   0.107034  0.368255   76.91773   \n",
       "28   0.000833  0.000767  28.24946  100.4635   0.107034  0.368255   76.91773   \n",
       "103  0.000841  0.000769  28.81562  435.9929   0.141585  0.471527  276.26880   \n",
       "\n",
       "     IMAX_A  KINKMULT2    PMAX_W  KINK2BETTER  VI_MASK   VI_KINK   PO_PCT2  \\\n",
       "13   0.0200   2.113647  0.000774     6.166465      0.0  5.769901  83.06193   \n",
       "14   0.0199   2.077588  0.001058     5.800860      0.0  5.896650  87.46564   \n",
       "27   0.0200   1.886027  0.001087     5.804416      0.0  5.778452  88.24277   \n",
       "28   0.0200   1.886027  0.001087     5.804416      0.0  5.778452  88.24277   \n",
       "103  0.0200   2.441332  0.001066     6.380777      0.0  5.758220  86.92415   \n",
       "\n",
       "     T_PO_dBm  PO_LD_dBm  BMRipStd  Wiggle_pMin_W  WIGGLE_pMax_W  \\\n",
       "13  -3.956720  -4.727914  0.295899       0.000334       0.000344   \n",
       "14  -2.194358  -2.705364  0.261453       0.000528       0.000538   \n",
       "27  -2.071950  -2.511072  0.408408       0.000548       0.000561   \n",
       "28  -2.071950  -2.511072  0.408408       0.000548       0.000561   \n",
       "103 -1.995694  -2.483780  0.449284       0.000549       0.000567   \n",
       "\n",
       "     TestDuration_s  TestResult  TestStation_tosa_AT-ALIGNCOFT-01  \\\n",
       "13               22      -10293                                 0   \n",
       "14               25           0                                 0   \n",
       "27               22           0                                 0   \n",
       "28               22           0                                 0   \n",
       "103              22           0                                 0   \n",
       "\n",
       "     TestStation_tosa_AT-ALIGNCOFT-02  TestStation_tosa_AT-ALIGNCOFT-03  \\\n",
       "13                                  1                                 0   \n",
       "14                                  1                                 0   \n",
       "27                                  1                                 0   \n",
       "28                                  1                                 0   \n",
       "103                                 1                                 0   \n",
       "\n",
       "     TestStation_tosa_AT-ALIGNCOFT-04  TestStation_tosa_AT-ALIGNCOFT-05  \\\n",
       "13                                  0                                 0   \n",
       "14                                  0                                 0   \n",
       "27                                  0                                 0   \n",
       "28                                  0                                 0   \n",
       "103                                 0                                 0   \n",
       "\n",
       "     TestStation_tosa_AT-ALIGNCOFT-06  TestStation_tosa_AT-ALIGNCOFT-07  \\\n",
       "13                                  0                                 0   \n",
       "14                                  0                                 0   \n",
       "27                                  0                                 0   \n",
       "28                                  0                                 0   \n",
       "103                                 0                                 0   \n",
       "\n",
       "     TestStation_tosa_AT-ALIGNCOFT-08  TestStation_tosa_AT-ALIGNCOFT-09  \\\n",
       "13                                  0                                 0   \n",
       "14                                  0                                 0   \n",
       "27                                  0                                 0   \n",
       "28                                  0                                 0   \n",
       "103                                 0                                 0   \n",
       "\n",
       "     TestStation_tosa_AT-ALIGNCOFT-10  TestStation_dctest_IPH_COFT_01  \\\n",
       "13                                  0                               0   \n",
       "14                                  0                               1   \n",
       "27                                  0                               0   \n",
       "28                                  0                               0   \n",
       "103                                 0                               0   \n",
       "\n",
       "     TestStation_dctest_IPH_COFT_02  TestStation_dctest_IPH_COFT_03  \\\n",
       "13                                0                               1   \n",
       "14                                0                               0   \n",
       "27                                0                               1   \n",
       "28                                0                               1   \n",
       "103                               0                               0   \n",
       "\n",
       "     TestStation_dctest_IPH_COFT_04  TestStation_dctest_IPH_COFT_05  \\\n",
       "13                                0                               0   \n",
       "14                                0                               0   \n",
       "27                                0                               0   \n",
       "28                                0                               0   \n",
       "103                               1                               0   \n",
       "\n",
       "     TestStation_dctest_IPH_COFT_06  TestStation_dctest_IPH_COFT_07  \\\n",
       "13                                0                               0   \n",
       "14                                0                               0   \n",
       "27                                0                               0   \n",
       "28                                0                               0   \n",
       "103                               0                               0   \n",
       "\n",
       "     TestStation_dctest_IPH_COFT_08  TestStation_dctest_IPH_COFT_09  Site_0  \\\n",
       "13                                0                               0       0   \n",
       "14                                0                               0       0   \n",
       "27                                0                               0       0   \n",
       "28                                0                               0       0   \n",
       "103                               0                               0       0   \n",
       "\n",
       "     Site_1  Site_2  Site_3  Site_4  Site_5  Site_6  Site_7  Site_8  Site_9  \\\n",
       "13        0       0       0       0       1       0       0       0       0   \n",
       "14        0       0       0       0       1       0       0       0       0   \n",
       "27        0       0       0       0       1       0       0       0       0   \n",
       "28        0       0       0       0       1       0       0       0       0   \n",
       "103       0       0       0       0       0       0       0       1       0   \n",
       "\n",
       "     Att_bins_-1  Att_bins_0  Att_bins_1  Att_bins_2  Att_bins_3  Att_bins_4  \\\n",
       "13             0           0           0           0           0           0   \n",
       "14             0           0           0           0           0           0   \n",
       "27             0           0           0           0           1           0   \n",
       "28             0           0           0           0           0           1   \n",
       "103            0           0           0           0           0           1   \n",
       "\n",
       "     Att_bins_5  SlotNum_0.0  SlotNum_1.0  SlotNum_2.0  SlotNum_3.0  \\\n",
       "13            1            0            0            0            0   \n",
       "14            1            0            0            0            0   \n",
       "27            0            0            0            0            0   \n",
       "28            0            0            0            0            0   \n",
       "103           0            0            0            0            0   \n",
       "\n",
       "     SlotNum_4.0  SlotNum_5.0  SlotNum_6.0  SlotNum_7.0  SlotNum_8.0  \\\n",
       "13             0            1            0            0            0   \n",
       "14             0            1            0            0            0   \n",
       "27             0            1            0            0            0   \n",
       "28             0            1            0            0            0   \n",
       "103            0            0            0            0            1   \n",
       "\n",
       "     SlotNum_9.0  \n",
       "13             0  \n",
       "14             0  \n",
       "27             0  \n",
       "28             0  \n",
       "103            0  "
      ]
     },
     "metadata": {},
     "output_type": "display_data"
    }
   ],
   "source": [
    "with pd.option_context('display.max_columns', 150):\n",
    "    display(X.head())"
   ]
  },
  {
   "cell_type": "markdown",
   "metadata": {},
   "source": [
    "# t-SNE (Dimensionality reduction)"
   ]
  },
  {
   "cell_type": "code",
   "execution_count": 437,
   "metadata": {
    "ExecuteTime": {
     "end_time": "2018-09-24T17:09:34.661103Z",
     "start_time": "2018-09-24T17:09:34.657113Z"
    }
   },
   "outputs": [],
   "source": [
    "from sklearn.manifold import TSNE"
   ]
  },
  {
   "cell_type": "code",
   "execution_count": 438,
   "metadata": {
    "ExecuteTime": {
     "end_time": "2018-09-24T17:09:46.330902Z",
     "start_time": "2018-09-24T17:09:34.663097Z"
    },
    "scrolled": true
   },
   "outputs": [
    {
     "name": "stdout",
     "output_type": "stream",
     "text": [
      "[t-SNE] Computing 76 nearest neighbors...\n",
      "[t-SNE] Indexed 747 samples in 0.003s...\n",
      "[t-SNE] Computed neighbors for 747 samples in 0.074s...\n",
      "[t-SNE] Computed conditional probabilities for sample 747 / 747\n",
      "[t-SNE] Mean sigma: 9.321415\n",
      "[t-SNE] Computed conditional probabilities in 0.045s\n",
      "[t-SNE] Iteration 50: error = 58.1109390, gradient norm = 0.4090248 (50 iterations in 0.820s)\n",
      "[t-SNE] Iteration 100: error = 53.7336617, gradient norm = 0.3861134 (50 iterations in 0.614s)\n",
      "[t-SNE] Iteration 150: error = 53.1771927, gradient norm = 0.3829151 (50 iterations in 0.591s)\n",
      "[t-SNE] Iteration 200: error = 52.4740562, gradient norm = 0.3744095 (50 iterations in 0.602s)\n",
      "[t-SNE] Iteration 250: error = 52.0477295, gradient norm = 0.3728378 (50 iterations in 0.589s)\n",
      "[t-SNE] KL divergence after 250 iterations with early exaggeration: 52.047729\n",
      "[t-SNE] Iteration 300: error = 0.4700342, gradient norm = 0.0020255 (50 iterations in 0.553s)\n",
      "[t-SNE] Iteration 350: error = 0.3851248, gradient norm = 0.0003768 (50 iterations in 0.549s)\n",
      "[t-SNE] Iteration 400: error = 0.3691801, gradient norm = 0.0002685 (50 iterations in 0.526s)\n",
      "[t-SNE] Iteration 450: error = 0.3625071, gradient norm = 0.0002308 (50 iterations in 0.527s)\n",
      "[t-SNE] Iteration 500: error = 0.3582513, gradient norm = 0.0002320 (50 iterations in 0.538s)\n",
      "[t-SNE] Iteration 550: error = 0.3553841, gradient norm = 0.0002110 (50 iterations in 0.550s)\n",
      "[t-SNE] Iteration 600: error = 0.3532050, gradient norm = 0.0002031 (50 iterations in 0.535s)\n",
      "[t-SNE] Iteration 650: error = 0.3510364, gradient norm = 0.0001761 (50 iterations in 0.575s)\n",
      "[t-SNE] Iteration 700: error = 0.3495183, gradient norm = 0.0001759 (50 iterations in 0.590s)\n",
      "[t-SNE] Iteration 750: error = 0.3483930, gradient norm = 0.0001940 (50 iterations in 0.582s)\n",
      "[t-SNE] Iteration 800: error = 0.3476799, gradient norm = 0.0001635 (50 iterations in 0.569s)\n",
      "[t-SNE] Iteration 850: error = 0.3463880, gradient norm = 0.0001711 (50 iterations in 0.557s)\n",
      "[t-SNE] Iteration 900: error = 0.3455016, gradient norm = 0.0001580 (50 iterations in 0.564s)\n",
      "[t-SNE] Iteration 950: error = 0.3448389, gradient norm = 0.0002026 (50 iterations in 0.547s)\n",
      "[t-SNE] Iteration 1000: error = 0.3442138, gradient norm = 0.0001683 (50 iterations in 0.561s)\n",
      "[t-SNE] Error after 1000 iterations: 0.344214\n"
     ]
    }
   ],
   "source": [
    "X_2d = TSNE(perplexity=25, verbose=10).fit_transform(X)"
   ]
  },
  {
   "cell_type": "code",
   "execution_count": 439,
   "metadata": {
    "ExecuteTime": {
     "end_time": "2018-09-24T17:09:46.336886Z",
     "start_time": "2018-09-24T17:09:46.332897Z"
    }
   },
   "outputs": [],
   "source": [
    "df_tsne = pd.DataFrame(X_2d, columns=[\"x\", \"y\"])"
   ]
  },
  {
   "cell_type": "code",
   "execution_count": 440,
   "metadata": {
    "ExecuteTime": {
     "end_time": "2018-09-24T17:09:46.356834Z",
     "start_time": "2018-09-24T17:09:46.337886Z"
    }
   },
   "outputs": [
    {
     "data": {
      "text/html": [
       "<div>\n",
       "<style scoped>\n",
       "    .dataframe tbody tr th:only-of-type {\n",
       "        vertical-align: middle;\n",
       "    }\n",
       "\n",
       "    .dataframe tbody tr th {\n",
       "        vertical-align: top;\n",
       "    }\n",
       "\n",
       "    .dataframe thead th {\n",
       "        text-align: right;\n",
       "    }\n",
       "</style>\n",
       "<table border=\"1\" class=\"dataframe\">\n",
       "  <thead>\n",
       "    <tr style=\"text-align: right;\">\n",
       "      <th></th>\n",
       "      <th>x</th>\n",
       "      <th>y</th>\n",
       "    </tr>\n",
       "  </thead>\n",
       "  <tbody>\n",
       "    <tr>\n",
       "      <th>0</th>\n",
       "      <td>47.342758</td>\n",
       "      <td>10.580793</td>\n",
       "    </tr>\n",
       "    <tr>\n",
       "      <th>1</th>\n",
       "      <td>-16.404428</td>\n",
       "      <td>21.963945</td>\n",
       "    </tr>\n",
       "    <tr>\n",
       "      <th>2</th>\n",
       "      <td>2.329787</td>\n",
       "      <td>40.350479</td>\n",
       "    </tr>\n",
       "    <tr>\n",
       "      <th>3</th>\n",
       "      <td>2.334367</td>\n",
       "      <td>40.361435</td>\n",
       "    </tr>\n",
       "    <tr>\n",
       "      <th>4</th>\n",
       "      <td>-26.720213</td>\n",
       "      <td>-12.970805</td>\n",
       "    </tr>\n",
       "  </tbody>\n",
       "</table>\n",
       "</div>"
      ],
      "text/plain": [
       "           x          y\n",
       "0  47.342758  10.580793\n",
       "1 -16.404428  21.963945\n",
       "2   2.329787  40.350479\n",
       "3   2.334367  40.361435\n",
       "4 -26.720213 -12.970805"
      ]
     },
     "execution_count": 440,
     "metadata": {},
     "output_type": "execute_result"
    }
   ],
   "source": [
    "df_tsne.head()"
   ]
  },
  {
   "cell_type": "markdown",
   "metadata": {},
   "source": [
    "__Our new two dimensional data has the same amount of rows as our original data!__"
   ]
  },
  {
   "cell_type": "code",
   "execution_count": 441,
   "metadata": {
    "ExecuteTime": {
     "end_time": "2018-09-24T17:09:46.366839Z",
     "start_time": "2018-09-24T17:09:46.358829Z"
    }
   },
   "outputs": [
    {
     "data": {
      "text/plain": [
       "(747, 2)"
      ]
     },
     "execution_count": 441,
     "metadata": {},
     "output_type": "execute_result"
    }
   ],
   "source": [
    "df_tsne.shape"
   ]
  },
  {
   "cell_type": "code",
   "execution_count": 442,
   "metadata": {
    "ExecuteTime": {
     "end_time": "2018-09-24T17:09:46.373790Z",
     "start_time": "2018-09-24T17:09:46.368800Z"
    }
   },
   "outputs": [
    {
     "data": {
      "text/plain": [
       "(747, 98)"
      ]
     },
     "execution_count": 442,
     "metadata": {},
     "output_type": "execute_result"
    }
   ],
   "source": [
    "X.shape"
   ]
  },
  {
   "cell_type": "code",
   "execution_count": 443,
   "metadata": {
    "ExecuteTime": {
     "end_time": "2018-09-24T17:09:46.386752Z",
     "start_time": "2018-09-24T17:09:46.375783Z"
    }
   },
   "outputs": [
    {
     "data": {
      "text/html": [
       "<div>\n",
       "<style scoped>\n",
       "    .dataframe tbody tr th:only-of-type {\n",
       "        vertical-align: middle;\n",
       "    }\n",
       "\n",
       "    .dataframe tbody tr th {\n",
       "        vertical-align: top;\n",
       "    }\n",
       "\n",
       "    .dataframe thead th {\n",
       "        text-align: right;\n",
       "    }\n",
       "</style>\n",
       "<table border=\"1\" class=\"dataframe\">\n",
       "  <thead>\n",
       "    <tr style=\"text-align: right;\">\n",
       "      <th></th>\n",
       "      <th>x</th>\n",
       "      <th>y</th>\n",
       "      <th>ErrAbbr</th>\n",
       "    </tr>\n",
       "  </thead>\n",
       "  <tbody>\n",
       "    <tr>\n",
       "      <th>0</th>\n",
       "      <td>47.342758</td>\n",
       "      <td>10.580793</td>\n",
       "      <td>RxMsk</td>\n",
       "    </tr>\n",
       "    <tr>\n",
       "      <th>1</th>\n",
       "      <td>-16.404428</td>\n",
       "      <td>21.963945</td>\n",
       "      <td>RxMsk</td>\n",
       "    </tr>\n",
       "    <tr>\n",
       "      <th>2</th>\n",
       "      <td>2.329787</td>\n",
       "      <td>40.350479</td>\n",
       "      <td>-1732</td>\n",
       "    </tr>\n",
       "    <tr>\n",
       "      <th>3</th>\n",
       "      <td>2.334367</td>\n",
       "      <td>40.361435</td>\n",
       "      <td>-1732</td>\n",
       "    </tr>\n",
       "    <tr>\n",
       "      <th>4</th>\n",
       "      <td>-26.720213</td>\n",
       "      <td>-12.970805</td>\n",
       "      <td>RxMsk</td>\n",
       "    </tr>\n",
       "  </tbody>\n",
       "</table>\n",
       "</div>"
      ],
      "text/plain": [
       "           x          y ErrAbbr\n",
       "0  47.342758  10.580793   RxMsk\n",
       "1 -16.404428  21.963945   RxMsk\n",
       "2   2.329787  40.350479   -1732\n",
       "3   2.334367  40.361435   -1732\n",
       "4 -26.720213 -12.970805   RxMsk"
      ]
     },
     "execution_count": 443,
     "metadata": {},
     "output_type": "execute_result"
    }
   ],
   "source": [
    "df_tsne[\"ErrAbbr\"] = df[\"ErrAbbr\"].values\n",
    "df_tsne.head()"
   ]
  },
  {
   "cell_type": "code",
   "execution_count": 444,
   "metadata": {
    "ExecuteTime": {
     "end_time": "2018-09-24T17:09:46.473520Z",
     "start_time": "2018-09-24T17:09:46.388747Z"
    }
   },
   "outputs": [],
   "source": [
    "% matplotlib qt\n",
    "\n",
    "import seaborn as sns\n",
    "import matplotlib.pyplot as plt\n",
    "\n",
    "plt.figure()\n",
    "sns.scatterplot(data=df_tsne, x=\"x\", y=\"y\", hue=\"ErrAbbr\")\n",
    "#plt.scatter(df_tsne[\"x\"], df_tsne[\"y\"])\n",
    "plt.show()"
   ]
  },
  {
   "cell_type": "markdown",
   "metadata": {},
   "source": [
    "# Clustering"
   ]
  },
  {
   "cell_type": "code",
   "execution_count": 445,
   "metadata": {
    "ExecuteTime": {
     "end_time": "2018-09-24T17:09:46.479505Z",
     "start_time": "2018-09-24T17:09:46.476513Z"
    }
   },
   "outputs": [],
   "source": [
    "from sklearn.cluster import KMeans"
   ]
  },
  {
   "cell_type": "markdown",
   "metadata": {},
   "source": [
    "## Clustering with KMeans"
   ]
  },
  {
   "cell_type": "code",
   "execution_count": 446,
   "metadata": {
    "ExecuteTime": {
     "end_time": "2018-09-24T17:09:46.573253Z",
     "start_time": "2018-09-24T17:09:46.481499Z"
    }
   },
   "outputs": [],
   "source": [
    "kmeans = KMeans()\n",
    "\n",
    "# fitting the data to the clustering algorithm\n",
    "kmeans.fit(X)\n",
    "\n",
    "# getting the cluster labels \n",
    "labels = kmeans.labels_"
   ]
  },
  {
   "cell_type": "code",
   "execution_count": 447,
   "metadata": {
    "ExecuteTime": {
     "end_time": "2018-09-24T17:09:46.582230Z",
     "start_time": "2018-09-24T17:09:46.574250Z"
    }
   },
   "outputs": [
    {
     "data": {
      "text/plain": [
       "5    284\n",
       "3    231\n",
       "0    106\n",
       "1     45\n",
       "6     35\n",
       "4     23\n",
       "7     22\n",
       "2      1\n",
       "dtype: int64"
      ]
     },
     "execution_count": 447,
     "metadata": {},
     "output_type": "execute_result"
    }
   ],
   "source": [
    "pd.Series(labels).value_counts()"
   ]
  },
  {
   "cell_type": "markdown",
   "metadata": {},
   "source": [
    "## Calculating value counts of the ErrAbbr per cluster"
   ]
  },
  {
   "cell_type": "code",
   "execution_count": 448,
   "metadata": {
    "ExecuteTime": {
     "end_time": "2018-09-24T17:09:46.659025Z",
     "start_time": "2018-09-24T17:09:46.584225Z"
    }
   },
   "outputs": [],
   "source": [
    "df_cluster_results = X\n",
    "df_cluster_results[\"cluster\"] = labels\n",
    "df_cluster_results[\"ErrAbbr\"] = df[\"ErrAbbr\"]"
   ]
  },
  {
   "cell_type": "code",
   "execution_count": 449,
   "metadata": {
    "ExecuteTime": {
     "end_time": "2018-09-24T17:09:46.669995Z",
     "start_time": "2018-09-24T17:09:46.661019Z"
    },
    "scrolled": false
   },
   "outputs": [
    {
     "data": {
      "text/plain": [
       "cluster  ErrAbbr\n",
       "0        TxCal      31\n",
       "         -1732      29\n",
       "         RxMsk      24\n",
       "         LoPwr      22\n",
       "1        LoPwr      14\n",
       "         TxCal      14\n",
       "         -1732       9\n",
       "         RxMsk       8\n",
       "2        TxCal       1\n",
       "3        -1732      82\n",
       "         TxCal      62\n",
       "         LoPwr      45\n",
       "         RxMsk      42\n",
       "4        TxCal      12\n",
       "         -1732       6\n",
       "         LoPwr       4\n",
       "         RxMsk       1\n",
       "5        -1732      80\n",
       "         TxCal      73\n",
       "         RxMsk      67\n",
       "         LoPwr      64\n",
       "6        -1732      22\n",
       "         TxCal       7\n",
       "         LoPwr       3\n",
       "         RxMsk       3\n",
       "7        -1732       8\n",
       "         LoPwr       7\n",
       "         TxCal       6\n",
       "         RxMsk       1\n",
       "Name: ErrAbbr, dtype: int64"
      ]
     },
     "execution_count": 449,
     "metadata": {},
     "output_type": "execute_result"
    }
   ],
   "source": [
    "df_cluster_results.groupby(\"cluster\")[\"ErrAbbr\"].value_counts()"
   ]
  },
  {
   "cell_type": "code",
   "execution_count": null,
   "metadata": {},
   "outputs": [],
   "source": []
  }
 ],
 "metadata": {
  "kernelspec": {
   "display_name": "Python 3",
   "language": "python",
   "name": "python3"
  },
  "language_info": {
   "codemirror_mode": {
    "name": "ipython",
    "version": 3
   },
   "file_extension": ".py",
   "mimetype": "text/x-python",
   "name": "python",
   "nbconvert_exporter": "python",
   "pygments_lexer": "ipython3",
   "version": "3.6.5"
  },
  "toc": {
   "base_numbering": 1,
   "nav_menu": {},
   "number_sections": true,
   "sideBar": true,
   "skip_h1_title": false,
   "title_cell": "Table of Contents",
   "title_sidebar": "Contents",
   "toc_cell": false,
   "toc_position": {
    "height": "calc(100% - 180px)",
    "left": "10px",
    "top": "150px",
    "width": "384px"
   },
   "toc_section_display": true,
   "toc_window_display": true
  }
 },
 "nbformat": 4,
 "nbformat_minor": 2
}
