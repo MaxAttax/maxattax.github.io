{
 "cells": [
  {
   "cell_type": "markdown",
   "metadata": {},
   "source": [
    "# General Information"
   ]
  },
  {
   "cell_type": "markdown",
   "metadata": {},
   "source": [
    "In Jupyter Notebooks you can use \"magic commands\". Two of those magic commands are \"% matplitlib qt\" and \"% matplotlib inline\". If you write \"% matplitlib qt\" on top of a cell in which you create a plot, the plot will be displayed in an interactive window. If you write \"% matplitlib inline\" on top of a cell in which you create a plot, the plot will be displayed \"inline\", i.e. immediately below the executed cell3. "
   ]
  },
  {
   "cell_type": "markdown",
   "metadata": {},
   "source": [
    "# Task 1: Write a function to plot the value counts of categorical variables as bar plots."
   ]
  },
  {
   "cell_type": "code",
   "execution_count": null,
   "metadata": {
    "ExecuteTime": {
     "end_time": "2018-09-21T22:58:58.074181Z",
     "start_time": "2018-09-21T22:58:58.052942Z"
    }
   },
   "outputs": [],
   "source": [
    "# Import all libraries that you might need to read in data and create different visualizations\n",
    "\n",
    "\n"
   ]
  },
  {
   "cell_type": "code",
   "execution_count": null,
   "metadata": {},
   "outputs": [],
   "source": [
    "def plot_value_counts(data, variable):\n",
    "    # write your code here\n"
   ]
  },
  {
   "cell_type": "code",
   "execution_count": null,
   "metadata": {
    "ExecuteTime": {
     "end_time": "2018-09-21T09:08:34.083522Z",
     "start_time": "2018-09-21T09:08:34.079544Z"
    }
   },
   "outputs": [],
   "source": [
    "% matplitlib inline\n",
    "# import a DataFrame\n",
    "\n",
    "\n",
    "# pass the DataFrame and a variable that you want to analize to your function \"plot_value_counts\"\n",
    "\n"
   ]
  },
  {
   "cell_type": "markdown",
   "metadata": {},
   "source": [
    "# Task 2: Write a function to plot scatter plots!"
   ]
  },
  {
   "cell_type": "code",
   "execution_count": null,
   "metadata": {},
   "outputs": [],
   "source": [
    "def plot_scatter(data, x, y):\n",
    "    # write your code here"
   ]
  },
  {
   "cell_type": "code",
   "execution_count": null,
   "metadata": {
    "ExecuteTime": {
     "end_time": "2018-09-21T09:14:37.960610Z",
     "start_time": "2018-09-21T09:14:37.957649Z"
    }
   },
   "outputs": [],
   "source": [
    "% matplitlib qt\n",
    "\n",
    "# import a DataFrame\n",
    "\n",
    "\n",
    "# pass the DataFrame and two variables to your scatter plot function to create the plot\n",
    "\n"
   ]
  },
  {
   "cell_type": "markdown",
   "metadata": {},
   "source": [
    "# Incorporate a boolean parameter „save_figure“ in your functions. If the paramater is set to True the created plot should be saved as a PNG file, else the plot should just be displayed."
   ]
  },
  {
   "cell_type": "code",
   "execution_count": null,
   "metadata": {
    "ExecuteTime": {
     "end_time": "2018-09-21T09:15:38.245489Z",
     "start_time": "2018-09-21T09:15:38.240500Z"
    }
   },
   "outputs": [],
   "source": [
    "def plot_value_counts(data, variable, save_figure):\n",
    "    # write your code here"
   ]
  },
  {
   "cell_type": "code",
   "execution_count": null,
   "metadata": {},
   "outputs": [],
   "source": [
    "def plot_scatter(data, x, y, save_figure):\n",
    "    # write your code here"
   ]
  },
  {
   "cell_type": "code",
   "execution_count": null,
   "metadata": {
    "ExecuteTime": {
     "end_time": "2018-09-21T09:55:37.486349Z",
     "start_time": "2018-09-21T09:55:37.483032Z"
    }
   },
   "outputs": [],
   "source": [
    "# Test your new functions here"
   ]
  },
  {
   "cell_type": "markdown",
   "metadata": {},
   "source": [
    "# Use your code to explore the data"
   ]
  },
  {
   "cell_type": "markdown",
   "metadata": {},
   "source": [
    "# Calculate a correlation matrix for your data"
   ]
  },
  {
   "cell_type": "markdown",
   "metadata": {},
   "source": [
    "Hint: The pandas.DataFrame.corr() function will do the work for you! This function can be applied to a DataFrame and will return a correlation matrix as a DataFrame.\n",
    "\n",
    "If you have a DataFrame called df, the correlation matrix could be calculated as follows:\n",
    "\n",
    "corr_matrix = df.corr()"
   ]
  },
  {
   "cell_type": "code",
   "execution_count": null,
   "metadata": {},
   "outputs": [],
   "source": []
  },
  {
   "cell_type": "markdown",
   "metadata": {},
   "source": [
    "# Write a function to plot your correlation matrix as a heatmap"
   ]
  },
  {
   "cell_type": "code",
   "execution_count": null,
   "metadata": {
    "ExecuteTime": {
     "end_time": "2018-09-21T09:52:21.189500Z",
     "start_time": "2018-09-21T09:52:21.184614Z"
    }
   },
   "outputs": [],
   "source": [
    "def plot_corr_matrix(data):\n",
    "    # write your code here"
   ]
  },
  {
   "cell_type": "code",
   "execution_count": null,
   "metadata": {
    "ExecuteTime": {
     "end_time": "2018-09-21T09:56:06.395787Z",
     "start_time": "2018-09-21T09:56:06.391458Z"
    }
   },
   "outputs": [],
   "source": [
    "# Try your function here"
   ]
  },
  {
   "cell_type": "markdown",
   "metadata": {},
   "source": [
    "# Adjust your function so that your correlation heatmap will only use input variables on the vertical axis and only output variables on the horizontal axis"
   ]
  },
  {
   "cell_type": "markdown",
   "metadata": {},
   "source": [
    "## Merge input and output data if necessary"
   ]
  },
  {
   "cell_type": "code",
   "execution_count": null,
   "metadata": {},
   "outputs": [],
   "source": []
  },
  {
   "cell_type": "markdown",
   "metadata": {},
   "source": [
    "## Calculate the correlation matrix for your merged data"
   ]
  },
  {
   "cell_type": "code",
   "execution_count": null,
   "metadata": {},
   "outputs": [],
   "source": []
  },
  {
   "cell_type": "markdown",
   "metadata": {},
   "source": [
    "## Write the adjusted heatmap function"
   ]
  },
  {
   "cell_type": "code",
   "execution_count": null,
   "metadata": {
    "ExecuteTime": {
     "end_time": "2018-09-21T09:56:30.530434Z",
     "start_time": "2018-09-21T09:56:30.523695Z"
    }
   },
   "outputs": [],
   "source": [
    "def plot_corr_matrix(data, output_variables):\n",
    "    # write your code here"
   ]
  },
  {
   "cell_type": "code",
   "execution_count": null,
   "metadata": {},
   "outputs": [],
   "source": [
    "# use your function here"
   ]
  },
  {
   "cell_type": "markdown",
   "metadata": {},
   "source": [
    "# Use violin plots to examine the distribution of your data"
   ]
  },
  {
   "cell_type": "code",
   "execution_count": null,
   "metadata": {},
   "outputs": [],
   "source": []
  },
  {
   "cell_type": "markdown",
   "metadata": {},
   "source": [
    "# Use boxplots to further examine your variables (e.g. to assess the amount of outliers)"
   ]
  },
  {
   "cell_type": "code",
   "execution_count": null,
   "metadata": {},
   "outputs": [],
   "source": []
  }
 ],
 "metadata": {
  "kernelspec": {
   "display_name": "Python 3",
   "language": "python",
   "name": "python3"
  },
  "language_info": {
   "codemirror_mode": {
    "name": "ipython",
    "version": 3
   },
   "file_extension": ".py",
   "mimetype": "text/x-python",
   "name": "python",
   "nbconvert_exporter": "python",
   "pygments_lexer": "ipython3",
   "version": "3.6.5"
  },
  "toc": {
   "base_numbering": 1,
   "nav_menu": {},
   "number_sections": true,
   "sideBar": true,
   "skip_h1_title": false,
   "title_cell": "Table of Contents",
   "title_sidebar": "Contents",
   "toc_cell": false,
   "toc_position": {},
   "toc_section_display": true,
   "toc_window_display": false
  }
 },
 "nbformat": 4,
 "nbformat_minor": 2
}
