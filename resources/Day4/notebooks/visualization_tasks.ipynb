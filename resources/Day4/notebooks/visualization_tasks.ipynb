{
 "cells": [
  {
   "cell_type": "markdown",
   "metadata": {},
   "source": [
    "# Import libraries"
   ]
  },
  {
   "cell_type": "code",
   "execution_count": null,
   "metadata": {
    "ExecuteTime": {
     "end_time": "2018-09-23T16:16:31.352545Z",
     "start_time": "2018-09-23T16:16:31.332759Z"
    }
   },
   "outputs": [],
   "source": [
    "# import pandas\n",
    "\n",
    "\n",
    "# import matplotlib.pyplot and seaborn\n",
    "\n"
   ]
  },
  {
   "cell_type": "markdown",
   "metadata": {},
   "source": [
    "# Reading in the data"
   ]
  },
  {
   "cell_type": "code",
   "execution_count": null,
   "metadata": {
    "ExecuteTime": {
     "end_time": "2018-09-23T16:46:01.649647Z",
     "start_time": "2018-09-23T16:45:57.245757Z"
    }
   },
   "outputs": [],
   "source": [
    "# Reading in the dc_final data containing the ErrAbbr values\n",
    "df_final = pd.read_csv(\"data/preprocessed_data/csv_without_empty_cols/dc_final.csv\", index_col=0)\n",
    "\n",
    "# Reading in merged data (handling -9999 and -99999 as NaNs so that our plots want be affected by those values)\n",
    "#   (Note: This data is not perfectly preprocessed but is sufficient for our plotting excercises. \n",
    "#    If you managed to do all the preprocessing steps of our last session and you saved the preprocessed data,\n",
    "#    you can also load your one file.)\n",
    "\n",
    "df = pd.read_csv(\"data/preprocessed_data/csv_without_empty_cols_and_merged/all_data.csv\",\n",
    "                 index_col=0,\n",
    "                 na_values=[-99999, -9999])\n",
    "\n",
    "# Dropping duplicates\n",
    "df.drop_duplicates(inplace=True)"
   ]
  },
  {
   "cell_type": "markdown",
   "metadata": {},
   "source": [
    "# Task 1: Define a function to plot value counts of categorical variables"
   ]
  },
  {
   "cell_type": "code",
   "execution_count": null,
   "metadata": {},
   "outputs": [],
   "source": [
    "def plot_value_counts(variable_name, dataframe):\n",
    "    \"\"\"\n",
    "    This function plots the value counts of a categorical variable as a bar plot.\n",
    "    \n",
    "    Parameters\n",
    "    ----------\n",
    "    variable_name (string): Name of the variable that will be plotted\n",
    "    dataframe (pandas.DataFrame): A DataFrame that contains the data for the variable that is to be plotted\n",
    "    \"\"\"\n",
    "    # create a new figure\n",
    "    \n",
    "    \n",
    "    # calculate the value counts of the variable that you want to plot\n",
    "    \n",
    "    \n",
    "    # plot the value counts as a bar plot\n",
    "    \n",
    "    \n",
    "    # define title, xlabel and ylabel of the plot\n",
    "    \n",
    "    \n",
    "    # show the figure\n",
    "    \n",
    "    \n",
    "    "
   ]
  },
  {
   "cell_type": "code",
   "execution_count": null,
   "metadata": {
    "ExecuteTime": {
     "end_time": "2018-09-23T16:50:55.355581Z",
     "start_time": "2018-09-23T16:50:55.214989Z"
    }
   },
   "outputs": [],
   "source": [
    "% matplotlib qt\n",
    "\n",
    "# Execute this cell once your function is ready to plot the value counts of ErrAbbr\n",
    "plot_value_counts(\"ErrAbbr\", df_final)\n"
   ]
  },
  {
   "cell_type": "markdown",
   "metadata": {},
   "source": [
    "# Task 2: Write a function to create a scatter plot"
   ]
  },
  {
   "cell_type": "code",
   "execution_count": null,
   "metadata": {},
   "outputs": [],
   "source": [
    "der scatter_plot(x, y, dataframe):\n",
    "    \"\"\"\n",
    "    This function creates a scatter plot for a combination of two variables.\n",
    "    \n",
    "    Parameters\n",
    "    ----------\n",
    "    x, y (string): Names of the variables to be plotted in the scatter plot\n",
    "    dataframe (pandas.DataFrame): DataFrame that contains the data that are to be plotted\n",
    "    \"\"\"\n",
    "    \n",
    "    # Create a new figure\n",
    "    \n",
    "    \n",
    "    # Create a scatter plot for the two input parameters x and y\n",
    "    \n",
    "    \n",
    "    # define title, xlabel and ylabel of the plot\n",
    "    \n",
    "    \n",
    "    # Show the figure\n",
    "    \n",
    "    \n",
    "    "
   ]
  },
  {
   "cell_type": "markdown",
   "metadata": {},
   "source": [
    "__Use your function to plot and explore the relationships of the following variable combinations:__\n",
    "\n",
    "- WIGGLE_pMAX_W vs. TxOma_mW\n",
    "- T_PO_W vs. TxOma_mW\n",
    "- VI_KINK vs. Ldi_mA\n",
    "- T_PO_dBm vs. TxPower_dBm\n",
    "- SLOPE_WperA vs. TxPower_dBm\n",
    "- R_LD_ohm vs TxCrossing_pct\n",
    "\n",
    "Tip: Once you have made sure that your functions works, set  _edgecolor=\"w\"_  inside Pyplots scatter function. This will probably help to distinguish single points in your plots."
   ]
  },
  {
   "cell_type": "code",
   "execution_count": null,
   "metadata": {},
   "outputs": [],
   "source": [
    "% matplotlib qt\n",
    "\n",
    "# WIGGLE_pMAX_W vs. TxOma_mW\n",
    "\n",
    "\n",
    "# T_PO_W vs. TxOma_mW\n",
    "\n",
    "\n",
    "# VI_KINK vs. Ldi_mA\n",
    "\n",
    "\n",
    "# T_PO_dBm vs. TxPower_dBm\n",
    "\n",
    "\n",
    "# SLOPE_WperA vs. TxPower_dBm\n",
    "\n",
    "\n",
    "# R_LD_ohm vs TxCrossing_pct\n"
   ]
  },
  {
   "cell_type": "markdown",
   "metadata": {},
   "source": [
    "# Task 3: Use (seaborn's) violin plots to examine the distribution of your data"
   ]
  },
  {
   "cell_type": "code",
   "execution_count": null,
   "metadata": {},
   "outputs": [],
   "source": []
  },
  {
   "cell_type": "code",
   "execution_count": null,
   "metadata": {},
   "outputs": [],
   "source": []
  },
  {
   "cell_type": "code",
   "execution_count": null,
   "metadata": {},
   "outputs": [],
   "source": []
  },
  {
   "cell_type": "markdown",
   "metadata": {},
   "source": [
    "# Task 4: Use (seaborn's) box plots to spot outliers in your data. Do you think those outliers are actual valid data?"
   ]
  },
  {
   "cell_type": "code",
   "execution_count": null,
   "metadata": {},
   "outputs": [],
   "source": []
  },
  {
   "cell_type": "code",
   "execution_count": null,
   "metadata": {},
   "outputs": [],
   "source": []
  },
  {
   "cell_type": "code",
   "execution_count": null,
   "metadata": {},
   "outputs": [],
   "source": []
  },
  {
   "cell_type": "code",
   "execution_count": null,
   "metadata": {},
   "outputs": [],
   "source": []
  },
  {
   "cell_type": "code",
   "execution_count": null,
   "metadata": {},
   "outputs": [],
   "source": []
  }
 ],
 "metadata": {
  "kernelspec": {
   "display_name": "Python 3",
   "language": "python",
   "name": "python3"
  },
  "language_info": {
   "codemirror_mode": {
    "name": "ipython",
    "version": 3
   },
   "file_extension": ".py",
   "mimetype": "text/x-python",
   "name": "python",
   "nbconvert_exporter": "python",
   "pygments_lexer": "ipython3",
   "version": "3.6.5"
  },
  "toc": {
   "base_numbering": 1,
   "nav_menu": {},
   "number_sections": true,
   "sideBar": true,
   "skip_h1_title": false,
   "title_cell": "Table of Contents",
   "title_sidebar": "Contents",
   "toc_cell": false,
   "toc_position": {},
   "toc_section_display": true,
   "toc_window_display": false
  }
 },
 "nbformat": 4,
 "nbformat_minor": 2
}
