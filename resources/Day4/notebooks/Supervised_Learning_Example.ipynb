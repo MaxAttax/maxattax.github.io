{
 "cells": [
  {
   "cell_type": "markdown",
   "metadata": {},
   "source": [
    "# Importing required libraries"
   ]
  },
  {
   "cell_type": "code",
   "execution_count": 11,
   "metadata": {
    "ExecuteTime": {
     "end_time": "2018-09-24T01:56:57.900113Z",
     "start_time": "2018-09-24T01:56:57.892946Z"
    }
   },
   "outputs": [],
   "source": [
    "import pandas as pd\n",
    "from sklearn.neighbors import KNeighborsClassifier\n",
    "from sklearn.model_selection import train_test_split\n",
    "from sklearn.metrics import confusion_matrix\n",
    "from sklearn.metrics import accuracy_score\n",
    "from sklearn.model_selection import cross_val_score\n",
    "from sklearn.model_selection import ShuffleSplit\n",
    "from sklearn.ensemble import RandomForestClassifier\n",
    "from sklearn.model_selection import GridSearchCV\n",
    "from sklearn.ensemble import GradientBoostingRegressor\n",
    "from sklearn.metrics import mean_absolute_error\n",
    "from sklearn.metrics import r2_score"
   ]
  },
  {
   "cell_type": "markdown",
   "metadata": {},
   "source": [
    "# Reading in the data"
   ]
  },
  {
   "cell_type": "code",
   "execution_count": 12,
   "metadata": {
    "ExecuteTime": {
     "end_time": "2018-09-24T01:56:58.372464Z",
     "start_time": "2018-09-24T01:56:58.367085Z"
    }
   },
   "outputs": [],
   "source": [
    "path = \"data/preprocessed_data/csv_without_empty_cols_and_merged/\""
   ]
  },
  {
   "cell_type": "code",
   "execution_count": 13,
   "metadata": {
    "ExecuteTime": {
     "end_time": "2018-09-24T01:57:00.994505Z",
     "start_time": "2018-09-24T01:56:58.615017Z"
    }
   },
   "outputs": [
    {
     "name": "stderr",
     "output_type": "stream",
     "text": [
      "C:\\Users\\mb335485\\AppData\\Local\\Continuum\\anaconda3\\lib\\site-packages\\IPython\\core\\interactiveshell.py:2785: DtypeWarning: Columns (69) have mixed types. Specify dtype option on import or set low_memory=False.\n",
      "  interactivity=interactivity, compiler=compiler, result=result)\n"
     ]
    }
   ],
   "source": [
    "test = pd.read_csv(path+\"all_data.csv\", index_col=0, na_values=[-9999, -99999])"
   ]
  },
  {
   "cell_type": "code",
   "execution_count": 14,
   "metadata": {
    "ExecuteTime": {
     "end_time": "2018-09-24T01:57:03.226737Z",
     "start_time": "2018-09-24T01:57:00.995874Z"
    }
   },
   "outputs": [],
   "source": [
    "path = \"data/preprocessed_data/csv_without_empty_cols_and_merged/\"\n",
    "\n",
    "df_tosa = pd.read_csv(path+\"cof_tosa_aligner.csv\", index_col=0, na_values=[-9999, -99999])\n",
    "df_dctest = pd.read_csv(path+\"cof_dctest.csv\", index_col=0, na_values=[-9999, -99999], low_memory=False)\n",
    "df_final = pd.read_csv(path+\"final.csv\", index_col=0, na_values=[-9999, -99999])\n"
   ]
  },
  {
   "cell_type": "markdown",
   "metadata": {},
   "source": [
    "# Taking care of OsaSerialNum duplicates (DCTest)"
   ]
  },
  {
   "cell_type": "code",
   "execution_count": 15,
   "metadata": {
    "ExecuteTime": {
     "end_time": "2018-09-24T01:57:03.234187Z",
     "start_time": "2018-09-24T01:57:03.227725Z"
    }
   },
   "outputs": [],
   "source": [
    "# df_dctest.sort_values(by=[\"OsaSerialNum\", \"TestTimeStamp\"], inplace=True)"
   ]
  },
  {
   "cell_type": "code",
   "execution_count": 16,
   "metadata": {
    "ExecuteTime": {
     "end_time": "2018-09-24T01:57:03.246390Z",
     "start_time": "2018-09-24T01:57:03.234187Z"
    }
   },
   "outputs": [],
   "source": [
    "# df_dctest.drop_duplicates(subset=\"OsaSerialNum\", keep=\"last\", inplace=True)"
   ]
  },
  {
   "cell_type": "markdown",
   "metadata": {},
   "source": [
    "# Taking care of Containername duplicates (Tosa)"
   ]
  },
  {
   "cell_type": "code",
   "execution_count": 17,
   "metadata": {
    "ExecuteTime": {
     "end_time": "2018-09-24T01:57:03.254589Z",
     "start_time": "2018-09-24T01:57:03.248384Z"
    }
   },
   "outputs": [],
   "source": [
    "# df_tosa.sort_values(by=[\"Containername\", \"TestTimeStamp\"], inplace=True)"
   ]
  },
  {
   "cell_type": "code",
   "execution_count": 18,
   "metadata": {
    "ExecuteTime": {
     "end_time": "2018-09-24T01:57:03.258368Z",
     "start_time": "2018-09-24T01:57:03.256116Z"
    }
   },
   "outputs": [],
   "source": [
    "# df_tosa.drop_duplicates(subset=\"Containername\", keep=\"last\", inplace=True)"
   ]
  },
  {
   "cell_type": "markdown",
   "metadata": {},
   "source": [
    "# Dropping duplicates and almost empty rows from the output data"
   ]
  },
  {
   "cell_type": "code",
   "execution_count": 19,
   "metadata": {
    "ExecuteTime": {
     "end_time": "2018-09-24T01:57:03.329775Z",
     "start_time": "2018-09-24T01:57:03.261361Z"
    }
   },
   "outputs": [],
   "source": [
    "df_final.drop_duplicates(inplace=True)\n",
    "\n",
    "# Instead of removing all rows that do not reach a certain threshhold of non-missing values, like we\n",
    "# did in the other excercise before, I just dropped all rows that miss the value for \"ModuleTxCalPower_dBm\".\n",
    "# This will remove the columns where all the output data are missing (but possibly also some other rows, if we\n",
    "# are unlucky).\n",
    "df_final.dropna(subset=[\"ModuleTxCalPower_dBm\"], inplace=True)"
   ]
  },
  {
   "cell_type": "markdown",
   "metadata": {},
   "source": [
    "# Merging the DataFrames"
   ]
  },
  {
   "cell_type": "code",
   "execution_count": 20,
   "metadata": {
    "ExecuteTime": {
     "end_time": "2018-09-24T01:57:03.739549Z",
     "start_time": "2018-09-24T01:57:03.332964Z"
    }
   },
   "outputs": [
    {
     "name": "stdout",
     "output_type": "stream",
     "text": [
      "(33746, 32)\n",
      "(33967, 84)\n",
      "(37839, 116)\n"
     ]
    }
   ],
   "source": [
    "df_input = df_tosa.merge(df_dctest,\n",
    "                         left_on=\"Containername\",\n",
    "                         right_on=\"OsaSerialNum\",\n",
    "                         suffixes=(\"_tosa\", \"_dctest\"))\n",
    "\n",
    "print(df_tosa.shape)\n",
    "print(df_dctest.shape)\n",
    "print(df_input.shape)"
   ]
  },
  {
   "cell_type": "code",
   "execution_count": 21,
   "metadata": {
    "ExecuteTime": {
     "end_time": "2018-09-24T01:57:05.325366Z",
     "start_time": "2018-09-24T01:57:03.740547Z"
    }
   },
   "outputs": [],
   "source": [
    "df_traceability = pd.read_excel(\"data/original_data/Linkage Map and Traceability.xlsx\", \"Traceability\")"
   ]
  },
  {
   "cell_type": "code",
   "execution_count": 22,
   "metadata": {
    "ExecuteTime": {
     "end_time": "2018-09-24T01:57:05.423246Z",
     "start_time": "2018-09-24T01:57:05.327360Z"
    }
   },
   "outputs": [],
   "source": [
    "df_input = df_input.merge(df_traceability,\n",
    "                          on=\"Component\")"
   ]
  },
  {
   "cell_type": "code",
   "execution_count": 23,
   "metadata": {
    "ExecuteTime": {
     "end_time": "2018-09-24T01:57:05.430613Z",
     "start_time": "2018-09-24T01:57:05.425017Z"
    }
   },
   "outputs": [
    {
     "data": {
      "text/plain": [
       "(37839, 117)"
      ]
     },
     "execution_count": 23,
     "metadata": {},
     "output_type": "execute_result"
    }
   ],
   "source": [
    "df_input.shape"
   ]
  },
  {
   "cell_type": "code",
   "execution_count": 24,
   "metadata": {
    "ExecuteTime": {
     "end_time": "2018-09-24T01:57:05.530642Z",
     "start_time": "2018-09-24T01:57:05.432607Z"
    }
   },
   "outputs": [],
   "source": [
    "df = df_input.merge(df_final,\n",
    "                    left_on=\"ToContainer\",\n",
    "                    right_on=\"ModuleSerialNum\",\n",
    "                    suffixes=(\"\",\"_final\"))"
   ]
  },
  {
   "cell_type": "markdown",
   "metadata": {},
   "source": [
    "# Removing ID columns"
   ]
  },
  {
   "cell_type": "code",
   "execution_count": 25,
   "metadata": {
    "ExecuteTime": {
     "end_time": "2018-09-24T01:57:05.689869Z",
     "start_time": "2018-09-24T01:57:05.534193Z"
    }
   },
   "outputs": [
    {
     "name": "stdout",
     "output_type": "stream",
     "text": [
      "['CDOTypeId_tosa', 'DataCollectionDefId_tosa', 'dc_COF_TOSA_AlignerHistoryId', 'HistoryId_tosa', 'HistoryMainlineId_tosa', 'TxnId_tosa', 'CDOTypeId_dctest', 'DataCollectionDefId_dctest', 'dc_COF_DCTestHistoryId', 'HistoryId_dctest', 'HistoryMainlineId_dctest', 'TxnId_dctest', 'dce_HistoryID_tosa', 'ParentHistoryID_tosa', 'dce_HistoryID_dctest', 'ParentHistoryID_dctest']\n"
     ]
    }
   ],
   "source": [
    "ids = list(df.filter(like=\"Id\").columns)\n",
    "ids += list(df.filter(like=\"HistoryID\").columns)\n",
    "print(ids)\n",
    "\n",
    "df.drop(columns=ids, inplace=True)"
   ]
  },
  {
   "cell_type": "markdown",
   "metadata": {},
   "source": [
    "# Removing columns without variance"
   ]
  },
  {
   "cell_type": "code",
   "execution_count": 26,
   "metadata": {
    "ExecuteTime": {
     "end_time": "2018-09-24T01:57:06.909048Z",
     "start_time": "2018-09-24T01:57:05.690869Z"
    }
   },
   "outputs": [
    {
     "name": "stdout",
     "output_type": "stream",
     "text": [
      "Columns without variance: ['EngrDataDefID_tosa', 'ParentTableID_tosa', 'ChangeCount_tosa', 'PartNum', 'TestOperator_tosa', 'WhichTest_tosa', 'EngrDataDefID_dctest', 'ParentTableID_dctest', 'FXT_VCSL', 'Wavelength_nm', 'BaseAssemblyNum', 'BasePartNum', 'ChangeCount_dctest', 'IsRetest', 'OsaPartNum', 'Rework', 'TestPlanDate', 'TestPlanName', 'TestPlanVersion', 'WhichTest_dctest']\n"
     ]
    },
    {
     "data": {
      "text/plain": [
       "(37786, 97)"
      ]
     },
     "execution_count": 26,
     "metadata": {},
     "output_type": "execute_result"
    }
   ],
   "source": [
    "# Dropping columns without variance\n",
    "dropped_columns = []\n",
    "\n",
    "for c in df.columns:\n",
    "    count_of_unique_values = len(df[c].dropna().unique())\n",
    "    if count_of_unique_values == 1:      \n",
    "        df.drop(columns=c, inplace=True)\n",
    "        dropped_columns.append(c)\n",
    "        \n",
    "print(\"Columns without variance: %s\" % dropped_columns)\n",
    "\n",
    "df.shape"
   ]
  },
  {
   "cell_type": "code",
   "execution_count": 27,
   "metadata": {
    "ExecuteTime": {
     "end_time": "2018-09-24T01:57:12.545485Z",
     "start_time": "2018-09-24T01:57:06.910377Z"
    }
   },
   "outputs": [],
   "source": [
    "df.to_csv(\"data_for_modelling.csv\")"
   ]
  },
  {
   "cell_type": "markdown",
   "metadata": {},
   "source": [
    "# Classification"
   ]
  },
  {
   "cell_type": "markdown",
   "metadata": {},
   "source": [
    "## Preparing input and output data"
   ]
  },
  {
   "cell_type": "code",
   "execution_count": 28,
   "metadata": {
    "ExecuteTime": {
     "end_time": "2018-09-24T01:57:12.619442Z",
     "start_time": "2018-09-24T01:57:12.545485Z"
    },
    "scrolled": true
   },
   "outputs": [],
   "source": [
    "df = df[df.groupby(\"ErrAbbr\")[\"ErrAbbr\"].transform(len) > 100]\n",
    "df = df[(df[\"ErrAbbr\"] != \"PASS\")]"
   ]
  },
  {
   "cell_type": "code",
   "execution_count": 29,
   "metadata": {
    "ExecuteTime": {
     "end_time": "2018-09-24T01:57:12.627704Z",
     "start_time": "2018-09-24T01:57:12.621663Z"
    }
   },
   "outputs": [],
   "source": [
    "X = df.drop(columns=df_final.columns)\n",
    "y = df[\"ErrAbbr\"]"
   ]
  },
  {
   "cell_type": "markdown",
   "metadata": {},
   "source": [
    "## Estimating missing input data"
   ]
  },
  {
   "cell_type": "code",
   "execution_count": 30,
   "metadata": {
    "ExecuteTime": {
     "end_time": "2018-09-24T01:57:12.747208Z",
     "start_time": "2018-09-24T01:57:12.629675Z"
    }
   },
   "outputs": [],
   "source": [
    "# Handling missing values\n",
    "X.dropna(axis=1, how=\"all\", inplace=True)\n",
    "X.fillna(X.median(), inplace=True)"
   ]
  },
  {
   "cell_type": "markdown",
   "metadata": {
    "ExecuteTime": {
     "end_time": "2018-09-23T09:31:08.040353Z",
     "start_time": "2018-09-23T09:31:08.031324Z"
    }
   },
   "source": [
    "## Transforming the categorical variables"
   ]
  },
  {
   "cell_type": "code",
   "execution_count": 31,
   "metadata": {
    "ExecuteTime": {
     "end_time": "2018-09-24T01:57:12.785569Z",
     "start_time": "2018-09-24T01:57:12.748596Z"
    }
   },
   "outputs": [],
   "source": [
    "categorical_variables = [\"TestStation_tosa\", \"TestStation_dctest\", \"Site\", \"Att_bins\", \"SlotNum\"]\n",
    "\n",
    "X = pd.get_dummies(X, columns=categorical_variables)\n",
    "X = X.select_dtypes(exclude=object)"
   ]
  },
  {
   "cell_type": "code",
   "execution_count": 32,
   "metadata": {
    "ExecuteTime": {
     "end_time": "2018-09-24T01:57:12.797677Z",
     "start_time": "2018-09-24T01:57:12.787564Z"
    },
    "scrolled": true
   },
   "outputs": [
    {
     "name": "stdout",
     "output_type": "stream",
     "text": [
      "LDPWR_mWs\n",
      "AliPwr_mWs\n",
      "CurePwr_mWs\n",
      "ITH_mA\n",
      "Slope_Eff\n",
      "LD_Res\n",
      "LD_Volt\n",
      "CALF_COMP\n",
      "CALF_CONN\n",
      "T_PO_W\n",
      "ID_PD_A\n",
      "BVR_PD_V\n",
      "BOND_A\n",
      "BVR_LD_A\n",
      "SNP_BK\n",
      "PO_LD_W\n",
      "VF_LD_V\n",
      "PO_PCT\n",
      "SLOPE_WperA\n",
      "KINK\n",
      "CORREL\n",
      "THOLD_A\n",
      "ROLL\n",
      "I_NOM_A\n",
      "IL_PD_A\n",
      "R_LD_ohm\n",
      "TRACK8_AperW\n",
      "TRACK10_AperW\n",
      "TRACK12_AperW\n",
      "TRACK15_AperW\n",
      "DELTRK\n",
      "PO_H_W\n",
      "PO_L_W\n",
      "KINK1\n",
      "KINK2\n",
      "WIGGLE_dB\n",
      "FFT\n",
      "KINKMULT1\n",
      "IMAX_A\n",
      "KINKMULT2\n",
      "PMAX_W\n",
      "KINK2BETTER\n",
      "VI_MASK\n",
      "VI_KINK\n",
      "PO_PCT2\n",
      "T_PO_dBm\n",
      "PO_LD_dBm\n",
      "BMRipStd\n",
      "Wiggle_pMin_W\n",
      "WIGGLE_pMax_W\n",
      "TestDuration_s\n",
      "TestResult\n",
      "TestStation_tosa_AT-ALIGNCOFT-01\n",
      "TestStation_tosa_AT-ALIGNCOFT-02\n",
      "TestStation_tosa_AT-ALIGNCOFT-03\n",
      "TestStation_tosa_AT-ALIGNCOFT-04\n",
      "TestStation_tosa_AT-ALIGNCOFT-05\n",
      "TestStation_tosa_AT-ALIGNCOFT-06\n",
      "TestStation_tosa_AT-ALIGNCOFT-07\n",
      "TestStation_tosa_AT-ALIGNCOFT-08\n",
      "TestStation_tosa_AT-ALIGNCOFT-09\n",
      "TestStation_tosa_AT-ALIGNCOFT-10\n",
      "TestStation_dctest_IPH_COFT_01\n",
      "TestStation_dctest_IPH_COFT_02\n",
      "TestStation_dctest_IPH_COFT_03\n",
      "TestStation_dctest_IPH_COFT_04\n",
      "TestStation_dctest_IPH_COFT_05\n",
      "TestStation_dctest_IPH_COFT_06\n",
      "TestStation_dctest_IPH_COFT_07\n",
      "TestStation_dctest_IPH_COFT_08\n",
      "TestStation_dctest_IPH_COFT_09\n",
      "Site_0\n",
      "Site_1\n",
      "Site_2\n",
      "Site_3\n",
      "Site_4\n",
      "Site_5\n",
      "Site_6\n",
      "Site_7\n",
      "Site_8\n",
      "Site_9\n",
      "Att_bins_-1\n",
      "Att_bins_0\n",
      "Att_bins_1\n",
      "Att_bins_2\n",
      "Att_bins_3\n",
      "Att_bins_4\n",
      "Att_bins_5\n",
      "SlotNum_0.0\n",
      "SlotNum_1.0\n",
      "SlotNum_2.0\n",
      "SlotNum_3.0\n",
      "SlotNum_4.0\n",
      "SlotNum_5.0\n",
      "SlotNum_6.0\n",
      "SlotNum_7.0\n",
      "SlotNum_8.0\n",
      "SlotNum_9.0\n"
     ]
    }
   ],
   "source": [
    "for c in X.columns:\n",
    "    print(c)"
   ]
  },
  {
   "cell_type": "code",
   "execution_count": 33,
   "metadata": {
    "ExecuteTime": {
     "end_time": "2018-09-24T01:57:13.029573Z",
     "start_time": "2018-09-24T01:57:12.926569Z"
    }
   },
   "outputs": [
    {
     "data": {
      "text/html": [
       "<div>\n",
       "<style scoped>\n",
       "    .dataframe tbody tr th:only-of-type {\n",
       "        vertical-align: middle;\n",
       "    }\n",
       "\n",
       "    .dataframe tbody tr th {\n",
       "        vertical-align: top;\n",
       "    }\n",
       "\n",
       "    .dataframe thead th {\n",
       "        text-align: right;\n",
       "    }\n",
       "</style>\n",
       "<table border=\"1\" class=\"dataframe\">\n",
       "  <thead>\n",
       "    <tr style=\"text-align: right;\">\n",
       "      <th></th>\n",
       "      <th>LDPWR_mWs</th>\n",
       "      <th>AliPwr_mWs</th>\n",
       "      <th>CurePwr_mWs</th>\n",
       "      <th>ITH_mA</th>\n",
       "      <th>Slope_Eff</th>\n",
       "      <th>LD_Res</th>\n",
       "      <th>LD_Volt</th>\n",
       "      <th>CALF_COMP</th>\n",
       "      <th>CALF_CONN</th>\n",
       "      <th>T_PO_W</th>\n",
       "      <th>ID_PD_A</th>\n",
       "      <th>BVR_PD_V</th>\n",
       "      <th>BOND_A</th>\n",
       "      <th>BVR_LD_A</th>\n",
       "      <th>SNP_BK</th>\n",
       "      <th>PO_LD_W</th>\n",
       "      <th>VF_LD_V</th>\n",
       "      <th>PO_PCT</th>\n",
       "      <th>SLOPE_WperA</th>\n",
       "      <th>KINK</th>\n",
       "      <th>CORREL</th>\n",
       "      <th>THOLD_A</th>\n",
       "      <th>ROLL</th>\n",
       "      <th>I_NOM_A</th>\n",
       "      <th>IL_PD_A</th>\n",
       "      <th>R_LD_ohm</th>\n",
       "      <th>TRACK8_AperW</th>\n",
       "      <th>TRACK10_AperW</th>\n",
       "      <th>TRACK12_AperW</th>\n",
       "      <th>TRACK15_AperW</th>\n",
       "      <th>DELTRK</th>\n",
       "      <th>PO_H_W</th>\n",
       "      <th>PO_L_W</th>\n",
       "      <th>KINK1</th>\n",
       "      <th>KINK2</th>\n",
       "      <th>WIGGLE_dB</th>\n",
       "      <th>FFT</th>\n",
       "      <th>KINKMULT1</th>\n",
       "      <th>IMAX_A</th>\n",
       "      <th>KINKMULT2</th>\n",
       "      <th>PMAX_W</th>\n",
       "      <th>KINK2BETTER</th>\n",
       "      <th>VI_MASK</th>\n",
       "      <th>VI_KINK</th>\n",
       "      <th>PO_PCT2</th>\n",
       "      <th>T_PO_dBm</th>\n",
       "      <th>PO_LD_dBm</th>\n",
       "      <th>BMRipStd</th>\n",
       "      <th>Wiggle_pMin_W</th>\n",
       "      <th>WIGGLE_pMax_W</th>\n",
       "      <th>TestDuration_s</th>\n",
       "      <th>TestResult</th>\n",
       "      <th>TestStation_tosa_AT-ALIGNCOFT-01</th>\n",
       "      <th>TestStation_tosa_AT-ALIGNCOFT-02</th>\n",
       "      <th>TestStation_tosa_AT-ALIGNCOFT-03</th>\n",
       "      <th>TestStation_tosa_AT-ALIGNCOFT-04</th>\n",
       "      <th>TestStation_tosa_AT-ALIGNCOFT-05</th>\n",
       "      <th>TestStation_tosa_AT-ALIGNCOFT-06</th>\n",
       "      <th>TestStation_tosa_AT-ALIGNCOFT-07</th>\n",
       "      <th>TestStation_tosa_AT-ALIGNCOFT-08</th>\n",
       "      <th>TestStation_tosa_AT-ALIGNCOFT-09</th>\n",
       "      <th>TestStation_tosa_AT-ALIGNCOFT-10</th>\n",
       "      <th>TestStation_dctest_IPH_COFT_01</th>\n",
       "      <th>TestStation_dctest_IPH_COFT_02</th>\n",
       "      <th>TestStation_dctest_IPH_COFT_03</th>\n",
       "      <th>TestStation_dctest_IPH_COFT_04</th>\n",
       "      <th>TestStation_dctest_IPH_COFT_05</th>\n",
       "      <th>TestStation_dctest_IPH_COFT_06</th>\n",
       "      <th>TestStation_dctest_IPH_COFT_07</th>\n",
       "      <th>TestStation_dctest_IPH_COFT_08</th>\n",
       "      <th>TestStation_dctest_IPH_COFT_09</th>\n",
       "      <th>Site_0</th>\n",
       "      <th>Site_1</th>\n",
       "      <th>Site_2</th>\n",
       "      <th>Site_3</th>\n",
       "      <th>Site_4</th>\n",
       "      <th>Site_5</th>\n",
       "      <th>Site_6</th>\n",
       "      <th>Site_7</th>\n",
       "      <th>Site_8</th>\n",
       "      <th>Site_9</th>\n",
       "      <th>Att_bins_-1</th>\n",
       "      <th>Att_bins_0</th>\n",
       "      <th>Att_bins_1</th>\n",
       "      <th>Att_bins_2</th>\n",
       "      <th>Att_bins_3</th>\n",
       "      <th>Att_bins_4</th>\n",
       "      <th>Att_bins_5</th>\n",
       "      <th>SlotNum_0.0</th>\n",
       "      <th>SlotNum_1.0</th>\n",
       "      <th>SlotNum_2.0</th>\n",
       "      <th>SlotNum_3.0</th>\n",
       "      <th>SlotNum_4.0</th>\n",
       "      <th>SlotNum_5.0</th>\n",
       "      <th>SlotNum_6.0</th>\n",
       "      <th>SlotNum_7.0</th>\n",
       "      <th>SlotNum_8.0</th>\n",
       "      <th>SlotNum_9.0</th>\n",
       "    </tr>\n",
       "  </thead>\n",
       "  <tbody>\n",
       "    <tr>\n",
       "      <th>13</th>\n",
       "      <td>3.3820</td>\n",
       "      <td>0.5775</td>\n",
       "      <td>0.5660</td>\n",
       "      <td>0.0</td>\n",
       "      <td>0.0</td>\n",
       "      <td>0.0</td>\n",
       "      <td>0.0</td>\n",
       "      <td>2.0401</td>\n",
       "      <td>1.9964</td>\n",
       "      <td>0.000402</td>\n",
       "      <td>2.131228e-09</td>\n",
       "      <td>31.005</td>\n",
       "      <td>2.085000e-08</td>\n",
       "      <td>1.208360e-09</td>\n",
       "      <td>0.0</td>\n",
       "      <td>0.000337</td>\n",
       "      <td>2.076523</td>\n",
       "      <td>83.72990</td>\n",
       "      <td>0.047092</td>\n",
       "      <td>0.557364</td>\n",
       "      <td>0.999624</td>\n",
       "      <td>0.001061</td>\n",
       "      <td>-2.528080</td>\n",
       "      <td>0.0135</td>\n",
       "      <td>0.000552</td>\n",
       "      <td>52.78397</td>\n",
       "      <td>1.713896</td>\n",
       "      <td>1.615484</td>\n",
       "      <td>1.562788</td>\n",
       "      <td>1.521265</td>\n",
       "      <td>0.941677</td>\n",
       "      <td>0.000536</td>\n",
       "      <td>0.000484</td>\n",
       "      <td>50.51240</td>\n",
       "      <td>233.0817</td>\n",
       "      <td>0.126665</td>\n",
       "      <td>0.169505</td>\n",
       "      <td>129.91130</td>\n",
       "      <td>0.0200</td>\n",
       "      <td>2.113647</td>\n",
       "      <td>0.000774</td>\n",
       "      <td>6.166465</td>\n",
       "      <td>0.0</td>\n",
       "      <td>5.769901</td>\n",
       "      <td>83.06193</td>\n",
       "      <td>-3.956720</td>\n",
       "      <td>-4.727914</td>\n",
       "      <td>0.295899</td>\n",
       "      <td>0.000334</td>\n",
       "      <td>0.000344</td>\n",
       "      <td>22</td>\n",
       "      <td>-10293</td>\n",
       "      <td>0</td>\n",
       "      <td>1</td>\n",
       "      <td>0</td>\n",
       "      <td>0</td>\n",
       "      <td>0</td>\n",
       "      <td>0</td>\n",
       "      <td>0</td>\n",
       "      <td>0</td>\n",
       "      <td>0</td>\n",
       "      <td>0</td>\n",
       "      <td>0</td>\n",
       "      <td>0</td>\n",
       "      <td>1</td>\n",
       "      <td>0</td>\n",
       "      <td>0</td>\n",
       "      <td>0</td>\n",
       "      <td>0</td>\n",
       "      <td>0</td>\n",
       "      <td>0</td>\n",
       "      <td>0</td>\n",
       "      <td>0</td>\n",
       "      <td>0</td>\n",
       "      <td>0</td>\n",
       "      <td>0</td>\n",
       "      <td>1</td>\n",
       "      <td>0</td>\n",
       "      <td>0</td>\n",
       "      <td>0</td>\n",
       "      <td>0</td>\n",
       "      <td>0</td>\n",
       "      <td>0</td>\n",
       "      <td>0</td>\n",
       "      <td>0</td>\n",
       "      <td>0</td>\n",
       "      <td>0</td>\n",
       "      <td>1</td>\n",
       "      <td>0</td>\n",
       "      <td>0</td>\n",
       "      <td>0</td>\n",
       "      <td>0</td>\n",
       "      <td>0</td>\n",
       "      <td>1</td>\n",
       "      <td>0</td>\n",
       "      <td>0</td>\n",
       "      <td>0</td>\n",
       "      <td>0</td>\n",
       "    </tr>\n",
       "    <tr>\n",
       "      <th>14</th>\n",
       "      <td>3.3820</td>\n",
       "      <td>0.5775</td>\n",
       "      <td>0.5660</td>\n",
       "      <td>0.0</td>\n",
       "      <td>0.0</td>\n",
       "      <td>0.0</td>\n",
       "      <td>0.0</td>\n",
       "      <td>2.0071</td>\n",
       "      <td>2.0109</td>\n",
       "      <td>0.000603</td>\n",
       "      <td>7.796370e-10</td>\n",
       "      <td>31.001</td>\n",
       "      <td>3.990000e-09</td>\n",
       "      <td>4.498360e-10</td>\n",
       "      <td>0.0</td>\n",
       "      <td>0.000536</td>\n",
       "      <td>2.080706</td>\n",
       "      <td>88.89952</td>\n",
       "      <td>0.068550</td>\n",
       "      <td>0.689251</td>\n",
       "      <td>0.999669</td>\n",
       "      <td>0.000910</td>\n",
       "      <td>-4.386859</td>\n",
       "      <td>0.0089</td>\n",
       "      <td>0.000551</td>\n",
       "      <td>53.26843</td>\n",
       "      <td>1.025409</td>\n",
       "      <td>1.035641</td>\n",
       "      <td>1.027327</td>\n",
       "      <td>1.019694</td>\n",
       "      <td>0.984602</td>\n",
       "      <td>0.000806</td>\n",
       "      <td>0.000729</td>\n",
       "      <td>26.26116</td>\n",
       "      <td>173.4647</td>\n",
       "      <td>0.083197</td>\n",
       "      <td>0.363242</td>\n",
       "      <td>119.56060</td>\n",
       "      <td>0.0199</td>\n",
       "      <td>2.077588</td>\n",
       "      <td>0.001058</td>\n",
       "      <td>5.800860</td>\n",
       "      <td>0.0</td>\n",
       "      <td>5.896650</td>\n",
       "      <td>87.46564</td>\n",
       "      <td>-2.194358</td>\n",
       "      <td>-2.705364</td>\n",
       "      <td>0.261453</td>\n",
       "      <td>0.000528</td>\n",
       "      <td>0.000538</td>\n",
       "      <td>25</td>\n",
       "      <td>0</td>\n",
       "      <td>0</td>\n",
       "      <td>1</td>\n",
       "      <td>0</td>\n",
       "      <td>0</td>\n",
       "      <td>0</td>\n",
       "      <td>0</td>\n",
       "      <td>0</td>\n",
       "      <td>0</td>\n",
       "      <td>0</td>\n",
       "      <td>0</td>\n",
       "      <td>1</td>\n",
       "      <td>0</td>\n",
       "      <td>0</td>\n",
       "      <td>0</td>\n",
       "      <td>0</td>\n",
       "      <td>0</td>\n",
       "      <td>0</td>\n",
       "      <td>0</td>\n",
       "      <td>0</td>\n",
       "      <td>0</td>\n",
       "      <td>0</td>\n",
       "      <td>0</td>\n",
       "      <td>0</td>\n",
       "      <td>0</td>\n",
       "      <td>1</td>\n",
       "      <td>0</td>\n",
       "      <td>0</td>\n",
       "      <td>0</td>\n",
       "      <td>0</td>\n",
       "      <td>0</td>\n",
       "      <td>0</td>\n",
       "      <td>0</td>\n",
       "      <td>0</td>\n",
       "      <td>0</td>\n",
       "      <td>0</td>\n",
       "      <td>1</td>\n",
       "      <td>0</td>\n",
       "      <td>0</td>\n",
       "      <td>0</td>\n",
       "      <td>0</td>\n",
       "      <td>0</td>\n",
       "      <td>1</td>\n",
       "      <td>0</td>\n",
       "      <td>0</td>\n",
       "      <td>0</td>\n",
       "      <td>0</td>\n",
       "    </tr>\n",
       "    <tr>\n",
       "      <th>27</th>\n",
       "      <td>3.3765</td>\n",
       "      <td>0.0000</td>\n",
       "      <td>0.0000</td>\n",
       "      <td>0.0</td>\n",
       "      <td>0.0</td>\n",
       "      <td>0.0</td>\n",
       "      <td>0.0</td>\n",
       "      <td>2.0401</td>\n",
       "      <td>1.9964</td>\n",
       "      <td>0.000621</td>\n",
       "      <td>3.127711e-09</td>\n",
       "      <td>31.011</td>\n",
       "      <td>1.619000e-08</td>\n",
       "      <td>6.474027e-10</td>\n",
       "      <td>0.0</td>\n",
       "      <td>0.000561</td>\n",
       "      <td>2.075640</td>\n",
       "      <td>90.38322</td>\n",
       "      <td>0.071896</td>\n",
       "      <td>0.765628</td>\n",
       "      <td>0.999524</td>\n",
       "      <td>0.000916</td>\n",
       "      <td>-5.415378</td>\n",
       "      <td>0.0085</td>\n",
       "      <td>0.000531</td>\n",
       "      <td>52.64173</td>\n",
       "      <td>0.969051</td>\n",
       "      <td>0.941226</td>\n",
       "      <td>0.962550</td>\n",
       "      <td>0.958889</td>\n",
       "      <td>1.018765</td>\n",
       "      <td>0.000833</td>\n",
       "      <td>0.000767</td>\n",
       "      <td>28.24946</td>\n",
       "      <td>100.4635</td>\n",
       "      <td>0.107034</td>\n",
       "      <td>0.368255</td>\n",
       "      <td>76.91773</td>\n",
       "      <td>0.0200</td>\n",
       "      <td>1.886027</td>\n",
       "      <td>0.001087</td>\n",
       "      <td>5.804416</td>\n",
       "      <td>0.0</td>\n",
       "      <td>5.778452</td>\n",
       "      <td>88.24277</td>\n",
       "      <td>-2.071950</td>\n",
       "      <td>-2.511072</td>\n",
       "      <td>0.408408</td>\n",
       "      <td>0.000548</td>\n",
       "      <td>0.000561</td>\n",
       "      <td>22</td>\n",
       "      <td>0</td>\n",
       "      <td>0</td>\n",
       "      <td>1</td>\n",
       "      <td>0</td>\n",
       "      <td>0</td>\n",
       "      <td>0</td>\n",
       "      <td>0</td>\n",
       "      <td>0</td>\n",
       "      <td>0</td>\n",
       "      <td>0</td>\n",
       "      <td>0</td>\n",
       "      <td>0</td>\n",
       "      <td>0</td>\n",
       "      <td>1</td>\n",
       "      <td>0</td>\n",
       "      <td>0</td>\n",
       "      <td>0</td>\n",
       "      <td>0</td>\n",
       "      <td>0</td>\n",
       "      <td>0</td>\n",
       "      <td>0</td>\n",
       "      <td>0</td>\n",
       "      <td>0</td>\n",
       "      <td>0</td>\n",
       "      <td>0</td>\n",
       "      <td>1</td>\n",
       "      <td>0</td>\n",
       "      <td>0</td>\n",
       "      <td>0</td>\n",
       "      <td>0</td>\n",
       "      <td>0</td>\n",
       "      <td>0</td>\n",
       "      <td>0</td>\n",
       "      <td>0</td>\n",
       "      <td>1</td>\n",
       "      <td>0</td>\n",
       "      <td>0</td>\n",
       "      <td>0</td>\n",
       "      <td>0</td>\n",
       "      <td>0</td>\n",
       "      <td>0</td>\n",
       "      <td>0</td>\n",
       "      <td>1</td>\n",
       "      <td>0</td>\n",
       "      <td>0</td>\n",
       "      <td>0</td>\n",
       "      <td>0</td>\n",
       "    </tr>\n",
       "    <tr>\n",
       "      <th>28</th>\n",
       "      <td>3.3765</td>\n",
       "      <td>0.5716</td>\n",
       "      <td>0.5603</td>\n",
       "      <td>0.0</td>\n",
       "      <td>0.0</td>\n",
       "      <td>0.0</td>\n",
       "      <td>0.0</td>\n",
       "      <td>2.0401</td>\n",
       "      <td>1.9964</td>\n",
       "      <td>0.000621</td>\n",
       "      <td>3.127711e-09</td>\n",
       "      <td>31.011</td>\n",
       "      <td>1.619000e-08</td>\n",
       "      <td>6.474027e-10</td>\n",
       "      <td>0.0</td>\n",
       "      <td>0.000561</td>\n",
       "      <td>2.075640</td>\n",
       "      <td>90.38322</td>\n",
       "      <td>0.071896</td>\n",
       "      <td>0.765628</td>\n",
       "      <td>0.999524</td>\n",
       "      <td>0.000916</td>\n",
       "      <td>-5.415378</td>\n",
       "      <td>0.0085</td>\n",
       "      <td>0.000531</td>\n",
       "      <td>52.64173</td>\n",
       "      <td>0.969051</td>\n",
       "      <td>0.941226</td>\n",
       "      <td>0.962550</td>\n",
       "      <td>0.958889</td>\n",
       "      <td>1.018765</td>\n",
       "      <td>0.000833</td>\n",
       "      <td>0.000767</td>\n",
       "      <td>28.24946</td>\n",
       "      <td>100.4635</td>\n",
       "      <td>0.107034</td>\n",
       "      <td>0.368255</td>\n",
       "      <td>76.91773</td>\n",
       "      <td>0.0200</td>\n",
       "      <td>1.886027</td>\n",
       "      <td>0.001087</td>\n",
       "      <td>5.804416</td>\n",
       "      <td>0.0</td>\n",
       "      <td>5.778452</td>\n",
       "      <td>88.24277</td>\n",
       "      <td>-2.071950</td>\n",
       "      <td>-2.511072</td>\n",
       "      <td>0.408408</td>\n",
       "      <td>0.000548</td>\n",
       "      <td>0.000561</td>\n",
       "      <td>22</td>\n",
       "      <td>0</td>\n",
       "      <td>0</td>\n",
       "      <td>1</td>\n",
       "      <td>0</td>\n",
       "      <td>0</td>\n",
       "      <td>0</td>\n",
       "      <td>0</td>\n",
       "      <td>0</td>\n",
       "      <td>0</td>\n",
       "      <td>0</td>\n",
       "      <td>0</td>\n",
       "      <td>0</td>\n",
       "      <td>0</td>\n",
       "      <td>1</td>\n",
       "      <td>0</td>\n",
       "      <td>0</td>\n",
       "      <td>0</td>\n",
       "      <td>0</td>\n",
       "      <td>0</td>\n",
       "      <td>0</td>\n",
       "      <td>0</td>\n",
       "      <td>0</td>\n",
       "      <td>0</td>\n",
       "      <td>0</td>\n",
       "      <td>0</td>\n",
       "      <td>1</td>\n",
       "      <td>0</td>\n",
       "      <td>0</td>\n",
       "      <td>0</td>\n",
       "      <td>0</td>\n",
       "      <td>0</td>\n",
       "      <td>0</td>\n",
       "      <td>0</td>\n",
       "      <td>0</td>\n",
       "      <td>0</td>\n",
       "      <td>1</td>\n",
       "      <td>0</td>\n",
       "      <td>0</td>\n",
       "      <td>0</td>\n",
       "      <td>0</td>\n",
       "      <td>0</td>\n",
       "      <td>0</td>\n",
       "      <td>1</td>\n",
       "      <td>0</td>\n",
       "      <td>0</td>\n",
       "      <td>0</td>\n",
       "      <td>0</td>\n",
       "    </tr>\n",
       "    <tr>\n",
       "      <th>103</th>\n",
       "      <td>3.3221</td>\n",
       "      <td>0.5672</td>\n",
       "      <td>0.5653</td>\n",
       "      <td>0.0</td>\n",
       "      <td>0.0</td>\n",
       "      <td>0.0</td>\n",
       "      <td>0.0</td>\n",
       "      <td>2.0352</td>\n",
       "      <td>2.0120</td>\n",
       "      <td>0.000632</td>\n",
       "      <td>2.196320e-09</td>\n",
       "      <td>31.004</td>\n",
       "      <td>1.854000e-08</td>\n",
       "      <td>3.018457e-10</td>\n",
       "      <td>0.0</td>\n",
       "      <td>0.000564</td>\n",
       "      <td>2.092213</td>\n",
       "      <td>89.36993</td>\n",
       "      <td>0.072621</td>\n",
       "      <td>0.633654</td>\n",
       "      <td>0.999375</td>\n",
       "      <td>0.000877</td>\n",
       "      <td>-5.383078</td>\n",
       "      <td>0.0084</td>\n",
       "      <td>0.000567</td>\n",
       "      <td>54.28913</td>\n",
       "      <td>1.021971</td>\n",
       "      <td>0.993983</td>\n",
       "      <td>1.018520</td>\n",
       "      <td>0.987671</td>\n",
       "      <td>0.993650</td>\n",
       "      <td>0.000841</td>\n",
       "      <td>0.000769</td>\n",
       "      <td>28.81562</td>\n",
       "      <td>435.9929</td>\n",
       "      <td>0.141585</td>\n",
       "      <td>0.471527</td>\n",
       "      <td>276.26880</td>\n",
       "      <td>0.0200</td>\n",
       "      <td>2.441332</td>\n",
       "      <td>0.001066</td>\n",
       "      <td>6.380777</td>\n",
       "      <td>0.0</td>\n",
       "      <td>5.758220</td>\n",
       "      <td>86.92415</td>\n",
       "      <td>-1.995694</td>\n",
       "      <td>-2.483780</td>\n",
       "      <td>0.449284</td>\n",
       "      <td>0.000549</td>\n",
       "      <td>0.000567</td>\n",
       "      <td>22</td>\n",
       "      <td>0</td>\n",
       "      <td>0</td>\n",
       "      <td>1</td>\n",
       "      <td>0</td>\n",
       "      <td>0</td>\n",
       "      <td>0</td>\n",
       "      <td>0</td>\n",
       "      <td>0</td>\n",
       "      <td>0</td>\n",
       "      <td>0</td>\n",
       "      <td>0</td>\n",
       "      <td>0</td>\n",
       "      <td>0</td>\n",
       "      <td>0</td>\n",
       "      <td>1</td>\n",
       "      <td>0</td>\n",
       "      <td>0</td>\n",
       "      <td>0</td>\n",
       "      <td>0</td>\n",
       "      <td>0</td>\n",
       "      <td>0</td>\n",
       "      <td>0</td>\n",
       "      <td>0</td>\n",
       "      <td>0</td>\n",
       "      <td>0</td>\n",
       "      <td>0</td>\n",
       "      <td>0</td>\n",
       "      <td>0</td>\n",
       "      <td>1</td>\n",
       "      <td>0</td>\n",
       "      <td>0</td>\n",
       "      <td>0</td>\n",
       "      <td>0</td>\n",
       "      <td>0</td>\n",
       "      <td>0</td>\n",
       "      <td>1</td>\n",
       "      <td>0</td>\n",
       "      <td>0</td>\n",
       "      <td>0</td>\n",
       "      <td>0</td>\n",
       "      <td>0</td>\n",
       "      <td>0</td>\n",
       "      <td>0</td>\n",
       "      <td>0</td>\n",
       "      <td>0</td>\n",
       "      <td>1</td>\n",
       "      <td>0</td>\n",
       "    </tr>\n",
       "  </tbody>\n",
       "</table>\n",
       "</div>"
      ],
      "text/plain": [
       "     LDPWR_mWs  AliPwr_mWs  CurePwr_mWs  ITH_mA  Slope_Eff  LD_Res  LD_Volt  \\\n",
       "13      3.3820      0.5775       0.5660     0.0        0.0     0.0      0.0   \n",
       "14      3.3820      0.5775       0.5660     0.0        0.0     0.0      0.0   \n",
       "27      3.3765      0.0000       0.0000     0.0        0.0     0.0      0.0   \n",
       "28      3.3765      0.5716       0.5603     0.0        0.0     0.0      0.0   \n",
       "103     3.3221      0.5672       0.5653     0.0        0.0     0.0      0.0   \n",
       "\n",
       "     CALF_COMP  CALF_CONN    T_PO_W       ID_PD_A  BVR_PD_V        BOND_A  \\\n",
       "13      2.0401     1.9964  0.000402  2.131228e-09    31.005  2.085000e-08   \n",
       "14      2.0071     2.0109  0.000603  7.796370e-10    31.001  3.990000e-09   \n",
       "27      2.0401     1.9964  0.000621  3.127711e-09    31.011  1.619000e-08   \n",
       "28      2.0401     1.9964  0.000621  3.127711e-09    31.011  1.619000e-08   \n",
       "103     2.0352     2.0120  0.000632  2.196320e-09    31.004  1.854000e-08   \n",
       "\n",
       "         BVR_LD_A  SNP_BK   PO_LD_W   VF_LD_V    PO_PCT  SLOPE_WperA  \\\n",
       "13   1.208360e-09     0.0  0.000337  2.076523  83.72990     0.047092   \n",
       "14   4.498360e-10     0.0  0.000536  2.080706  88.89952     0.068550   \n",
       "27   6.474027e-10     0.0  0.000561  2.075640  90.38322     0.071896   \n",
       "28   6.474027e-10     0.0  0.000561  2.075640  90.38322     0.071896   \n",
       "103  3.018457e-10     0.0  0.000564  2.092213  89.36993     0.072621   \n",
       "\n",
       "         KINK    CORREL   THOLD_A      ROLL  I_NOM_A   IL_PD_A  R_LD_ohm  \\\n",
       "13   0.557364  0.999624  0.001061 -2.528080   0.0135  0.000552  52.78397   \n",
       "14   0.689251  0.999669  0.000910 -4.386859   0.0089  0.000551  53.26843   \n",
       "27   0.765628  0.999524  0.000916 -5.415378   0.0085  0.000531  52.64173   \n",
       "28   0.765628  0.999524  0.000916 -5.415378   0.0085  0.000531  52.64173   \n",
       "103  0.633654  0.999375  0.000877 -5.383078   0.0084  0.000567  54.28913   \n",
       "\n",
       "     TRACK8_AperW  TRACK10_AperW  TRACK12_AperW  TRACK15_AperW    DELTRK  \\\n",
       "13       1.713896       1.615484       1.562788       1.521265  0.941677   \n",
       "14       1.025409       1.035641       1.027327       1.019694  0.984602   \n",
       "27       0.969051       0.941226       0.962550       0.958889  1.018765   \n",
       "28       0.969051       0.941226       0.962550       0.958889  1.018765   \n",
       "103      1.021971       0.993983       1.018520       0.987671  0.993650   \n",
       "\n",
       "       PO_H_W    PO_L_W     KINK1     KINK2  WIGGLE_dB       FFT  KINKMULT1  \\\n",
       "13   0.000536  0.000484  50.51240  233.0817   0.126665  0.169505  129.91130   \n",
       "14   0.000806  0.000729  26.26116  173.4647   0.083197  0.363242  119.56060   \n",
       "27   0.000833  0.000767  28.24946  100.4635   0.107034  0.368255   76.91773   \n",
       "28   0.000833  0.000767  28.24946  100.4635   0.107034  0.368255   76.91773   \n",
       "103  0.000841  0.000769  28.81562  435.9929   0.141585  0.471527  276.26880   \n",
       "\n",
       "     IMAX_A  KINKMULT2    PMAX_W  KINK2BETTER  VI_MASK   VI_KINK   PO_PCT2  \\\n",
       "13   0.0200   2.113647  0.000774     6.166465      0.0  5.769901  83.06193   \n",
       "14   0.0199   2.077588  0.001058     5.800860      0.0  5.896650  87.46564   \n",
       "27   0.0200   1.886027  0.001087     5.804416      0.0  5.778452  88.24277   \n",
       "28   0.0200   1.886027  0.001087     5.804416      0.0  5.778452  88.24277   \n",
       "103  0.0200   2.441332  0.001066     6.380777      0.0  5.758220  86.92415   \n",
       "\n",
       "     T_PO_dBm  PO_LD_dBm  BMRipStd  Wiggle_pMin_W  WIGGLE_pMax_W  \\\n",
       "13  -3.956720  -4.727914  0.295899       0.000334       0.000344   \n",
       "14  -2.194358  -2.705364  0.261453       0.000528       0.000538   \n",
       "27  -2.071950  -2.511072  0.408408       0.000548       0.000561   \n",
       "28  -2.071950  -2.511072  0.408408       0.000548       0.000561   \n",
       "103 -1.995694  -2.483780  0.449284       0.000549       0.000567   \n",
       "\n",
       "     TestDuration_s  TestResult  TestStation_tosa_AT-ALIGNCOFT-01  \\\n",
       "13               22      -10293                                 0   \n",
       "14               25           0                                 0   \n",
       "27               22           0                                 0   \n",
       "28               22           0                                 0   \n",
       "103              22           0                                 0   \n",
       "\n",
       "     TestStation_tosa_AT-ALIGNCOFT-02  TestStation_tosa_AT-ALIGNCOFT-03  \\\n",
       "13                                  1                                 0   \n",
       "14                                  1                                 0   \n",
       "27                                  1                                 0   \n",
       "28                                  1                                 0   \n",
       "103                                 1                                 0   \n",
       "\n",
       "     TestStation_tosa_AT-ALIGNCOFT-04  TestStation_tosa_AT-ALIGNCOFT-05  \\\n",
       "13                                  0                                 0   \n",
       "14                                  0                                 0   \n",
       "27                                  0                                 0   \n",
       "28                                  0                                 0   \n",
       "103                                 0                                 0   \n",
       "\n",
       "     TestStation_tosa_AT-ALIGNCOFT-06  TestStation_tosa_AT-ALIGNCOFT-07  \\\n",
       "13                                  0                                 0   \n",
       "14                                  0                                 0   \n",
       "27                                  0                                 0   \n",
       "28                                  0                                 0   \n",
       "103                                 0                                 0   \n",
       "\n",
       "     TestStation_tosa_AT-ALIGNCOFT-08  TestStation_tosa_AT-ALIGNCOFT-09  \\\n",
       "13                                  0                                 0   \n",
       "14                                  0                                 0   \n",
       "27                                  0                                 0   \n",
       "28                                  0                                 0   \n",
       "103                                 0                                 0   \n",
       "\n",
       "     TestStation_tosa_AT-ALIGNCOFT-10  TestStation_dctest_IPH_COFT_01  \\\n",
       "13                                  0                               0   \n",
       "14                                  0                               1   \n",
       "27                                  0                               0   \n",
       "28                                  0                               0   \n",
       "103                                 0                               0   \n",
       "\n",
       "     TestStation_dctest_IPH_COFT_02  TestStation_dctest_IPH_COFT_03  \\\n",
       "13                                0                               1   \n",
       "14                                0                               0   \n",
       "27                                0                               1   \n",
       "28                                0                               1   \n",
       "103                               0                               0   \n",
       "\n",
       "     TestStation_dctest_IPH_COFT_04  TestStation_dctest_IPH_COFT_05  \\\n",
       "13                                0                               0   \n",
       "14                                0                               0   \n",
       "27                                0                               0   \n",
       "28                                0                               0   \n",
       "103                               1                               0   \n",
       "\n",
       "     TestStation_dctest_IPH_COFT_06  TestStation_dctest_IPH_COFT_07  \\\n",
       "13                                0                               0   \n",
       "14                                0                               0   \n",
       "27                                0                               0   \n",
       "28                                0                               0   \n",
       "103                               0                               0   \n",
       "\n",
       "     TestStation_dctest_IPH_COFT_08  TestStation_dctest_IPH_COFT_09  Site_0  \\\n",
       "13                                0                               0       0   \n",
       "14                                0                               0       0   \n",
       "27                                0                               0       0   \n",
       "28                                0                               0       0   \n",
       "103                               0                               0       0   \n",
       "\n",
       "     Site_1  Site_2  Site_3  Site_4  Site_5  Site_6  Site_7  Site_8  Site_9  \\\n",
       "13        0       0       0       0       1       0       0       0       0   \n",
       "14        0       0       0       0       1       0       0       0       0   \n",
       "27        0       0       0       0       1       0       0       0       0   \n",
       "28        0       0       0       0       1       0       0       0       0   \n",
       "103       0       0       0       0       0       0       0       1       0   \n",
       "\n",
       "     Att_bins_-1  Att_bins_0  Att_bins_1  Att_bins_2  Att_bins_3  Att_bins_4  \\\n",
       "13             0           0           0           0           0           0   \n",
       "14             0           0           0           0           0           0   \n",
       "27             0           0           0           0           1           0   \n",
       "28             0           0           0           0           0           1   \n",
       "103            0           0           0           0           0           1   \n",
       "\n",
       "     Att_bins_5  SlotNum_0.0  SlotNum_1.0  SlotNum_2.0  SlotNum_3.0  \\\n",
       "13            1            0            0            0            0   \n",
       "14            1            0            0            0            0   \n",
       "27            0            0            0            0            0   \n",
       "28            0            0            0            0            0   \n",
       "103           0            0            0            0            0   \n",
       "\n",
       "     SlotNum_4.0  SlotNum_5.0  SlotNum_6.0  SlotNum_7.0  SlotNum_8.0  \\\n",
       "13             0            1            0            0            0   \n",
       "14             0            1            0            0            0   \n",
       "27             0            1            0            0            0   \n",
       "28             0            1            0            0            0   \n",
       "103            0            0            0            0            1   \n",
       "\n",
       "     SlotNum_9.0  \n",
       "13             0  \n",
       "14             0  \n",
       "27             0  \n",
       "28             0  \n",
       "103            0  "
      ]
     },
     "metadata": {},
     "output_type": "display_data"
    }
   ],
   "source": [
    "with pd.option_context('display.max_columns', 150):\n",
    "    display(X.head())"
   ]
  },
  {
   "cell_type": "markdown",
   "metadata": {},
   "source": [
    "## Creating a classification model"
   ]
  },
  {
   "cell_type": "markdown",
   "metadata": {},
   "source": [
    "### Splitting in training and testing data"
   ]
  },
  {
   "cell_type": "code",
   "execution_count": 34,
   "metadata": {
    "ExecuteTime": {
     "end_time": "2018-09-24T01:57:14.644283Z",
     "start_time": "2018-09-24T01:57:14.642470Z"
    }
   },
   "outputs": [],
   "source": [
    "from sklearn.model_selection import train_test_split"
   ]
  },
  {
   "cell_type": "code",
   "execution_count": 35,
   "metadata": {
    "ExecuteTime": {
     "end_time": "2018-09-24T01:57:15.019120Z",
     "start_time": "2018-09-24T01:57:15.010574Z"
    }
   },
   "outputs": [],
   "source": [
    "X_train, X_test, y_train, y_test = train_test_split(X, y, test_size=0.1)"
   ]
  },
  {
   "cell_type": "markdown",
   "metadata": {},
   "source": [
    "### KNN Classifier"
   ]
  },
  {
   "cell_type": "markdown",
   "metadata": {},
   "source": [
    "#### Training a KNN classifier"
   ]
  },
  {
   "cell_type": "code",
   "execution_count": 36,
   "metadata": {
    "ExecuteTime": {
     "end_time": "2018-09-24T01:57:21.507362Z",
     "start_time": "2018-09-24T01:57:21.504058Z"
    }
   },
   "outputs": [],
   "source": [
    "from sklearn.neighbors import KNeighborsClassifier"
   ]
  },
  {
   "cell_type": "code",
   "execution_count": 37,
   "metadata": {
    "ExecuteTime": {
     "end_time": "2018-09-24T01:57:21.809001Z",
     "start_time": "2018-09-24T01:57:21.788817Z"
    }
   },
   "outputs": [
    {
     "data": {
      "text/plain": [
       "KNeighborsClassifier(algorithm='auto', leaf_size=30, metric='minkowski',\n",
       "           metric_params=None, n_jobs=1, n_neighbors=5, p=2,\n",
       "           weights='uniform')"
      ]
     },
     "execution_count": 37,
     "metadata": {},
     "output_type": "execute_result"
    }
   ],
   "source": [
    "clf = KNeighborsClassifier()\n",
    "clf.fit(X_train, y_train)"
   ]
  },
  {
   "cell_type": "markdown",
   "metadata": {},
   "source": [
    "#### Making predictions"
   ]
  },
  {
   "cell_type": "code",
   "execution_count": 38,
   "metadata": {
    "ExecuteTime": {
     "end_time": "2018-09-24T01:57:22.467432Z",
     "start_time": "2018-09-24T01:57:22.441239Z"
    },
    "scrolled": true
   },
   "outputs": [
    {
     "data": {
      "text/html": [
       "<div>\n",
       "<style scoped>\n",
       "    .dataframe tbody tr th:only-of-type {\n",
       "        vertical-align: middle;\n",
       "    }\n",
       "\n",
       "    .dataframe tbody tr th {\n",
       "        vertical-align: top;\n",
       "    }\n",
       "\n",
       "    .dataframe thead th {\n",
       "        text-align: right;\n",
       "    }\n",
       "</style>\n",
       "<table border=\"1\" class=\"dataframe\">\n",
       "  <thead>\n",
       "    <tr style=\"text-align: right;\">\n",
       "      <th></th>\n",
       "      <th>y_pred</th>\n",
       "      <th>y_test</th>\n",
       "    </tr>\n",
       "  </thead>\n",
       "  <tbody>\n",
       "    <tr>\n",
       "      <th>13653</th>\n",
       "      <td>TxCal</td>\n",
       "      <td>RxMsk</td>\n",
       "    </tr>\n",
       "    <tr>\n",
       "      <th>26269</th>\n",
       "      <td>-1732</td>\n",
       "      <td>RxMsk</td>\n",
       "    </tr>\n",
       "    <tr>\n",
       "      <th>12433</th>\n",
       "      <td>RxMsk</td>\n",
       "      <td>-1732</td>\n",
       "    </tr>\n",
       "    <tr>\n",
       "      <th>12417</th>\n",
       "      <td>RxMsk</td>\n",
       "      <td>-1732</td>\n",
       "    </tr>\n",
       "    <tr>\n",
       "      <th>7380</th>\n",
       "      <td>LoPwr</td>\n",
       "      <td>-1732</td>\n",
       "    </tr>\n",
       "    <tr>\n",
       "      <th>23296</th>\n",
       "      <td>-1732</td>\n",
       "      <td>TxCal</td>\n",
       "    </tr>\n",
       "    <tr>\n",
       "      <th>30743</th>\n",
       "      <td>-1732</td>\n",
       "      <td>-1732</td>\n",
       "    </tr>\n",
       "    <tr>\n",
       "      <th>25626</th>\n",
       "      <td>TxCal</td>\n",
       "      <td>TxCal</td>\n",
       "    </tr>\n",
       "    <tr>\n",
       "      <th>26362</th>\n",
       "      <td>LoPwr</td>\n",
       "      <td>LoPwr</td>\n",
       "    </tr>\n",
       "    <tr>\n",
       "      <th>29172</th>\n",
       "      <td>-1732</td>\n",
       "      <td>LoPwr</td>\n",
       "    </tr>\n",
       "    <tr>\n",
       "      <th>2470</th>\n",
       "      <td>LoPwr</td>\n",
       "      <td>-1732</td>\n",
       "    </tr>\n",
       "    <tr>\n",
       "      <th>5254</th>\n",
       "      <td>LoPwr</td>\n",
       "      <td>LoPwr</td>\n",
       "    </tr>\n",
       "    <tr>\n",
       "      <th>14033</th>\n",
       "      <td>LoPwr</td>\n",
       "      <td>LoPwr</td>\n",
       "    </tr>\n",
       "    <tr>\n",
       "      <th>35212</th>\n",
       "      <td>RxMsk</td>\n",
       "      <td>-1732</td>\n",
       "    </tr>\n",
       "    <tr>\n",
       "      <th>37099</th>\n",
       "      <td>-1732</td>\n",
       "      <td>-1732</td>\n",
       "    </tr>\n",
       "    <tr>\n",
       "      <th>20448</th>\n",
       "      <td>TxCal</td>\n",
       "      <td>-1732</td>\n",
       "    </tr>\n",
       "    <tr>\n",
       "      <th>1244</th>\n",
       "      <td>RxMsk</td>\n",
       "      <td>LoPwr</td>\n",
       "    </tr>\n",
       "    <tr>\n",
       "      <th>15114</th>\n",
       "      <td>RxMsk</td>\n",
       "      <td>LoPwr</td>\n",
       "    </tr>\n",
       "    <tr>\n",
       "      <th>27764</th>\n",
       "      <td>-1732</td>\n",
       "      <td>LoPwr</td>\n",
       "    </tr>\n",
       "    <tr>\n",
       "      <th>25557</th>\n",
       "      <td>-1732</td>\n",
       "      <td>RxMsk</td>\n",
       "    </tr>\n",
       "    <tr>\n",
       "      <th>35346</th>\n",
       "      <td>-1732</td>\n",
       "      <td>-1732</td>\n",
       "    </tr>\n",
       "    <tr>\n",
       "      <th>9399</th>\n",
       "      <td>LoPwr</td>\n",
       "      <td>RxMsk</td>\n",
       "    </tr>\n",
       "    <tr>\n",
       "      <th>9554</th>\n",
       "      <td>-1732</td>\n",
       "      <td>RxMsk</td>\n",
       "    </tr>\n",
       "    <tr>\n",
       "      <th>34117</th>\n",
       "      <td>-1732</td>\n",
       "      <td>LoPwr</td>\n",
       "    </tr>\n",
       "    <tr>\n",
       "      <th>26436</th>\n",
       "      <td>TxCal</td>\n",
       "      <td>-1732</td>\n",
       "    </tr>\n",
       "    <tr>\n",
       "      <th>25210</th>\n",
       "      <td>TxCal</td>\n",
       "      <td>TxCal</td>\n",
       "    </tr>\n",
       "    <tr>\n",
       "      <th>32766</th>\n",
       "      <td>LoPwr</td>\n",
       "      <td>RxMsk</td>\n",
       "    </tr>\n",
       "    <tr>\n",
       "      <th>25625</th>\n",
       "      <td>RxMsk</td>\n",
       "      <td>TxCal</td>\n",
       "    </tr>\n",
       "    <tr>\n",
       "      <th>30186</th>\n",
       "      <td>RxMsk</td>\n",
       "      <td>TxCal</td>\n",
       "    </tr>\n",
       "    <tr>\n",
       "      <th>36482</th>\n",
       "      <td>TxCal</td>\n",
       "      <td>-1732</td>\n",
       "    </tr>\n",
       "    <tr>\n",
       "      <th>...</th>\n",
       "      <td>...</td>\n",
       "      <td>...</td>\n",
       "    </tr>\n",
       "    <tr>\n",
       "      <th>20414</th>\n",
       "      <td>-1732</td>\n",
       "      <td>TxCal</td>\n",
       "    </tr>\n",
       "    <tr>\n",
       "      <th>30185</th>\n",
       "      <td>TxCal</td>\n",
       "      <td>TxCal</td>\n",
       "    </tr>\n",
       "    <tr>\n",
       "      <th>29723</th>\n",
       "      <td>RxMsk</td>\n",
       "      <td>TxCal</td>\n",
       "    </tr>\n",
       "    <tr>\n",
       "      <th>8845</th>\n",
       "      <td>TxCal</td>\n",
       "      <td>-1732</td>\n",
       "    </tr>\n",
       "    <tr>\n",
       "      <th>6534</th>\n",
       "      <td>-1732</td>\n",
       "      <td>TxCal</td>\n",
       "    </tr>\n",
       "    <tr>\n",
       "      <th>36010</th>\n",
       "      <td>-1732</td>\n",
       "      <td>-1732</td>\n",
       "    </tr>\n",
       "    <tr>\n",
       "      <th>32203</th>\n",
       "      <td>-1732</td>\n",
       "      <td>-1732</td>\n",
       "    </tr>\n",
       "    <tr>\n",
       "      <th>20293</th>\n",
       "      <td>-1732</td>\n",
       "      <td>TxCal</td>\n",
       "    </tr>\n",
       "    <tr>\n",
       "      <th>20888</th>\n",
       "      <td>-1732</td>\n",
       "      <td>-1732</td>\n",
       "    </tr>\n",
       "    <tr>\n",
       "      <th>19754</th>\n",
       "      <td>TxCal</td>\n",
       "      <td>TxCal</td>\n",
       "    </tr>\n",
       "    <tr>\n",
       "      <th>24625</th>\n",
       "      <td>-1732</td>\n",
       "      <td>-1732</td>\n",
       "    </tr>\n",
       "    <tr>\n",
       "      <th>21588</th>\n",
       "      <td>-1732</td>\n",
       "      <td>RxMsk</td>\n",
       "    </tr>\n",
       "    <tr>\n",
       "      <th>28432</th>\n",
       "      <td>LoPwr</td>\n",
       "      <td>LoPwr</td>\n",
       "    </tr>\n",
       "    <tr>\n",
       "      <th>10477</th>\n",
       "      <td>-1732</td>\n",
       "      <td>LoPwr</td>\n",
       "    </tr>\n",
       "    <tr>\n",
       "      <th>22231</th>\n",
       "      <td>RxMsk</td>\n",
       "      <td>TxCal</td>\n",
       "    </tr>\n",
       "    <tr>\n",
       "      <th>15441</th>\n",
       "      <td>-1732</td>\n",
       "      <td>TxCal</td>\n",
       "    </tr>\n",
       "    <tr>\n",
       "      <th>5667</th>\n",
       "      <td>RxMsk</td>\n",
       "      <td>TxCal</td>\n",
       "    </tr>\n",
       "    <tr>\n",
       "      <th>22199</th>\n",
       "      <td>RxMsk</td>\n",
       "      <td>RxMsk</td>\n",
       "    </tr>\n",
       "    <tr>\n",
       "      <th>2163</th>\n",
       "      <td>TxCal</td>\n",
       "      <td>RxMsk</td>\n",
       "    </tr>\n",
       "    <tr>\n",
       "      <th>3264</th>\n",
       "      <td>-1732</td>\n",
       "      <td>TxCal</td>\n",
       "    </tr>\n",
       "    <tr>\n",
       "      <th>33453</th>\n",
       "      <td>-1732</td>\n",
       "      <td>RxMsk</td>\n",
       "    </tr>\n",
       "    <tr>\n",
       "      <th>11351</th>\n",
       "      <td>-1732</td>\n",
       "      <td>-1732</td>\n",
       "    </tr>\n",
       "    <tr>\n",
       "      <th>32904</th>\n",
       "      <td>LoPwr</td>\n",
       "      <td>TxCal</td>\n",
       "    </tr>\n",
       "    <tr>\n",
       "      <th>25917</th>\n",
       "      <td>RxMsk</td>\n",
       "      <td>LoPwr</td>\n",
       "    </tr>\n",
       "    <tr>\n",
       "      <th>33853</th>\n",
       "      <td>TxCal</td>\n",
       "      <td>TxCal</td>\n",
       "    </tr>\n",
       "    <tr>\n",
       "      <th>7529</th>\n",
       "      <td>-1732</td>\n",
       "      <td>-1732</td>\n",
       "    </tr>\n",
       "    <tr>\n",
       "      <th>13</th>\n",
       "      <td>-1732</td>\n",
       "      <td>RxMsk</td>\n",
       "    </tr>\n",
       "    <tr>\n",
       "      <th>15911</th>\n",
       "      <td>TxCal</td>\n",
       "      <td>TxCal</td>\n",
       "    </tr>\n",
       "    <tr>\n",
       "      <th>29596</th>\n",
       "      <td>TxCal</td>\n",
       "      <td>LoPwr</td>\n",
       "    </tr>\n",
       "    <tr>\n",
       "      <th>32972</th>\n",
       "      <td>-1732</td>\n",
       "      <td>LoPwr</td>\n",
       "    </tr>\n",
       "  </tbody>\n",
       "</table>\n",
       "<p>75 rows × 2 columns</p>\n",
       "</div>"
      ],
      "text/plain": [
       "      y_pred y_test\n",
       "13653  TxCal  RxMsk\n",
       "26269  -1732  RxMsk\n",
       "12433  RxMsk  -1732\n",
       "12417  RxMsk  -1732\n",
       "7380   LoPwr  -1732\n",
       "23296  -1732  TxCal\n",
       "30743  -1732  -1732\n",
       "25626  TxCal  TxCal\n",
       "26362  LoPwr  LoPwr\n",
       "29172  -1732  LoPwr\n",
       "2470   LoPwr  -1732\n",
       "5254   LoPwr  LoPwr\n",
       "14033  LoPwr  LoPwr\n",
       "35212  RxMsk  -1732\n",
       "37099  -1732  -1732\n",
       "20448  TxCal  -1732\n",
       "1244   RxMsk  LoPwr\n",
       "15114  RxMsk  LoPwr\n",
       "27764  -1732  LoPwr\n",
       "25557  -1732  RxMsk\n",
       "35346  -1732  -1732\n",
       "9399   LoPwr  RxMsk\n",
       "9554   -1732  RxMsk\n",
       "34117  -1732  LoPwr\n",
       "26436  TxCal  -1732\n",
       "25210  TxCal  TxCal\n",
       "32766  LoPwr  RxMsk\n",
       "25625  RxMsk  TxCal\n",
       "30186  RxMsk  TxCal\n",
       "36482  TxCal  -1732\n",
       "...      ...    ...\n",
       "20414  -1732  TxCal\n",
       "30185  TxCal  TxCal\n",
       "29723  RxMsk  TxCal\n",
       "8845   TxCal  -1732\n",
       "6534   -1732  TxCal\n",
       "36010  -1732  -1732\n",
       "32203  -1732  -1732\n",
       "20293  -1732  TxCal\n",
       "20888  -1732  -1732\n",
       "19754  TxCal  TxCal\n",
       "24625  -1732  -1732\n",
       "21588  -1732  RxMsk\n",
       "28432  LoPwr  LoPwr\n",
       "10477  -1732  LoPwr\n",
       "22231  RxMsk  TxCal\n",
       "15441  -1732  TxCal\n",
       "5667   RxMsk  TxCal\n",
       "22199  RxMsk  RxMsk\n",
       "2163   TxCal  RxMsk\n",
       "3264   -1732  TxCal\n",
       "33453  -1732  RxMsk\n",
       "11351  -1732  -1732\n",
       "32904  LoPwr  TxCal\n",
       "25917  RxMsk  LoPwr\n",
       "33853  TxCal  TxCal\n",
       "7529   -1732  -1732\n",
       "13     -1732  RxMsk\n",
       "15911  TxCal  TxCal\n",
       "29596  TxCal  LoPwr\n",
       "32972  -1732  LoPwr\n",
       "\n",
       "[75 rows x 2 columns]"
      ]
     },
     "execution_count": 38,
     "metadata": {},
     "output_type": "execute_result"
    }
   ],
   "source": [
    "y_pred = clf.predict(X_test)\n",
    "\n",
    "df_results = pd.DataFrame({\"y_pred\": y_pred, \"y_test\": y_test})\n",
    "\n",
    "df_results"
   ]
  },
  {
   "cell_type": "markdown",
   "metadata": {},
   "source": [
    "#### Evaluating the KNN classifier"
   ]
  },
  {
   "cell_type": "code",
   "execution_count": 39,
   "metadata": {
    "ExecuteTime": {
     "end_time": "2018-09-24T01:57:23.610186Z",
     "start_time": "2018-09-24T01:57:23.608270Z"
    }
   },
   "outputs": [],
   "source": [
    "from sklearn.metrics import confusion_matrix\n",
    "from sklearn.metrics import accuracy_score"
   ]
  },
  {
   "cell_type": "code",
   "execution_count": 40,
   "metadata": {
    "ExecuteTime": {
     "end_time": "2018-09-24T01:57:24.021222Z",
     "start_time": "2018-09-24T01:57:24.014863Z"
    }
   },
   "outputs": [
    {
     "name": "stdout",
     "output_type": "stream",
     "text": [
      "Accuracy: 0.3333333333333333\n",
      "[[11  2  3  5]\n",
      " [ 5  4  4  3]\n",
      " [ 7  2  3  3]\n",
      " [ 9  1  6  7]]\n"
     ]
    }
   ],
   "source": [
    "print(\"Accuracy: %s\" % accuracy_score(y_test, y_pred))\n",
    "\n",
    "print(confusion_matrix(y_test, y_pred))"
   ]
  },
  {
   "cell_type": "markdown",
   "metadata": {},
   "source": [
    "#### Cross-validation"
   ]
  },
  {
   "cell_type": "code",
   "execution_count": 41,
   "metadata": {
    "ExecuteTime": {
     "end_time": "2018-09-24T01:57:25.026682Z",
     "start_time": "2018-09-24T01:57:25.021002Z"
    }
   },
   "outputs": [],
   "source": [
    "from sklearn.model_selection import cross_val_score\n",
    "from sklearn.model_selection import ShuffleSplit"
   ]
  },
  {
   "cell_type": "code",
   "execution_count": 42,
   "metadata": {
    "ExecuteTime": {
     "end_time": "2018-09-24T01:57:25.784608Z",
     "start_time": "2018-09-24T01:57:25.453869Z"
    }
   },
   "outputs": [
    {
     "name": "stdout",
     "output_type": "stream",
     "text": [
      "[0.36       0.30666667 0.26666667 0.26666667 0.29333333 0.32\n",
      " 0.38666667 0.34666667 0.38666667 0.28      ]\n",
      "0.3306666666666667\n"
     ]
    }
   ],
   "source": [
    "cv = ShuffleSplit(n_splits=10, test_size=0.1)\n",
    "\n",
    "print(cross_val_score(clf, X, y, cv=cv))\n",
    "\n",
    "print(cross_val_score(clf, X, y, cv=cv).mean())"
   ]
  },
  {
   "cell_type": "markdown",
   "metadata": {},
   "source": [
    "### Random Forest Classifier"
   ]
  },
  {
   "cell_type": "markdown",
   "metadata": {},
   "source": [
    "#### Training the Random Forest"
   ]
  },
  {
   "cell_type": "code",
   "execution_count": 43,
   "metadata": {
    "ExecuteTime": {
     "end_time": "2018-09-24T01:57:27.023972Z",
     "start_time": "2018-09-24T01:57:27.018770Z"
    }
   },
   "outputs": [],
   "source": [
    "from sklearn.ensemble import RandomForestClassifier"
   ]
  },
  {
   "cell_type": "code",
   "execution_count": 44,
   "metadata": {
    "ExecuteTime": {
     "end_time": "2018-09-24T01:57:29.568110Z",
     "start_time": "2018-09-24T01:57:29.525292Z"
    }
   },
   "outputs": [
    {
     "data": {
      "text/plain": [
       "RandomForestClassifier(bootstrap=True, class_weight=None, criterion='gini',\n",
       "            max_depth=None, max_features='auto', max_leaf_nodes=None,\n",
       "            min_impurity_decrease=0.0, min_impurity_split=None,\n",
       "            min_samples_leaf=1, min_samples_split=2,\n",
       "            min_weight_fraction_leaf=0.0, n_estimators=10, n_jobs=1,\n",
       "            oob_score=False, random_state=None, verbose=0,\n",
       "            warm_start=False)"
      ]
     },
     "execution_count": 44,
     "metadata": {},
     "output_type": "execute_result"
    }
   ],
   "source": [
    "clf = RandomForestClassifier()\n",
    "clf.fit(X_train, y_train)"
   ]
  },
  {
   "cell_type": "markdown",
   "metadata": {},
   "source": [
    "#### Making predictions"
   ]
  },
  {
   "cell_type": "code",
   "execution_count": 45,
   "metadata": {
    "ExecuteTime": {
     "end_time": "2018-09-24T01:57:30.602780Z",
     "start_time": "2018-09-24T01:57:30.584175Z"
    },
    "scrolled": true
   },
   "outputs": [
    {
     "data": {
      "text/html": [
       "<div>\n",
       "<style scoped>\n",
       "    .dataframe tbody tr th:only-of-type {\n",
       "        vertical-align: middle;\n",
       "    }\n",
       "\n",
       "    .dataframe tbody tr th {\n",
       "        vertical-align: top;\n",
       "    }\n",
       "\n",
       "    .dataframe thead th {\n",
       "        text-align: right;\n",
       "    }\n",
       "</style>\n",
       "<table border=\"1\" class=\"dataframe\">\n",
       "  <thead>\n",
       "    <tr style=\"text-align: right;\">\n",
       "      <th></th>\n",
       "      <th>y_pred</th>\n",
       "      <th>y_test</th>\n",
       "    </tr>\n",
       "  </thead>\n",
       "  <tbody>\n",
       "    <tr>\n",
       "      <th>13653</th>\n",
       "      <td>LoPwr</td>\n",
       "      <td>RxMsk</td>\n",
       "    </tr>\n",
       "    <tr>\n",
       "      <th>26269</th>\n",
       "      <td>TxCal</td>\n",
       "      <td>RxMsk</td>\n",
       "    </tr>\n",
       "    <tr>\n",
       "      <th>12433</th>\n",
       "      <td>-1732</td>\n",
       "      <td>-1732</td>\n",
       "    </tr>\n",
       "    <tr>\n",
       "      <th>12417</th>\n",
       "      <td>LoPwr</td>\n",
       "      <td>-1732</td>\n",
       "    </tr>\n",
       "    <tr>\n",
       "      <th>7380</th>\n",
       "      <td>TxCal</td>\n",
       "      <td>-1732</td>\n",
       "    </tr>\n",
       "    <tr>\n",
       "      <th>23296</th>\n",
       "      <td>-1732</td>\n",
       "      <td>TxCal</td>\n",
       "    </tr>\n",
       "    <tr>\n",
       "      <th>30743</th>\n",
       "      <td>-1732</td>\n",
       "      <td>-1732</td>\n",
       "    </tr>\n",
       "    <tr>\n",
       "      <th>25626</th>\n",
       "      <td>TxCal</td>\n",
       "      <td>TxCal</td>\n",
       "    </tr>\n",
       "    <tr>\n",
       "      <th>26362</th>\n",
       "      <td>-1732</td>\n",
       "      <td>LoPwr</td>\n",
       "    </tr>\n",
       "    <tr>\n",
       "      <th>29172</th>\n",
       "      <td>LoPwr</td>\n",
       "      <td>LoPwr</td>\n",
       "    </tr>\n",
       "    <tr>\n",
       "      <th>2470</th>\n",
       "      <td>LoPwr</td>\n",
       "      <td>-1732</td>\n",
       "    </tr>\n",
       "    <tr>\n",
       "      <th>5254</th>\n",
       "      <td>-1732</td>\n",
       "      <td>LoPwr</td>\n",
       "    </tr>\n",
       "    <tr>\n",
       "      <th>14033</th>\n",
       "      <td>LoPwr</td>\n",
       "      <td>LoPwr</td>\n",
       "    </tr>\n",
       "    <tr>\n",
       "      <th>35212</th>\n",
       "      <td>LoPwr</td>\n",
       "      <td>-1732</td>\n",
       "    </tr>\n",
       "    <tr>\n",
       "      <th>37099</th>\n",
       "      <td>LoPwr</td>\n",
       "      <td>-1732</td>\n",
       "    </tr>\n",
       "    <tr>\n",
       "      <th>20448</th>\n",
       "      <td>-1732</td>\n",
       "      <td>-1732</td>\n",
       "    </tr>\n",
       "    <tr>\n",
       "      <th>1244</th>\n",
       "      <td>LoPwr</td>\n",
       "      <td>LoPwr</td>\n",
       "    </tr>\n",
       "    <tr>\n",
       "      <th>15114</th>\n",
       "      <td>RxMsk</td>\n",
       "      <td>LoPwr</td>\n",
       "    </tr>\n",
       "    <tr>\n",
       "      <th>27764</th>\n",
       "      <td>-1732</td>\n",
       "      <td>LoPwr</td>\n",
       "    </tr>\n",
       "    <tr>\n",
       "      <th>25557</th>\n",
       "      <td>-1732</td>\n",
       "      <td>RxMsk</td>\n",
       "    </tr>\n",
       "    <tr>\n",
       "      <th>35346</th>\n",
       "      <td>-1732</td>\n",
       "      <td>-1732</td>\n",
       "    </tr>\n",
       "    <tr>\n",
       "      <th>9399</th>\n",
       "      <td>-1732</td>\n",
       "      <td>RxMsk</td>\n",
       "    </tr>\n",
       "    <tr>\n",
       "      <th>9554</th>\n",
       "      <td>LoPwr</td>\n",
       "      <td>RxMsk</td>\n",
       "    </tr>\n",
       "    <tr>\n",
       "      <th>34117</th>\n",
       "      <td>LoPwr</td>\n",
       "      <td>LoPwr</td>\n",
       "    </tr>\n",
       "    <tr>\n",
       "      <th>26436</th>\n",
       "      <td>-1732</td>\n",
       "      <td>-1732</td>\n",
       "    </tr>\n",
       "    <tr>\n",
       "      <th>25210</th>\n",
       "      <td>TxCal</td>\n",
       "      <td>TxCal</td>\n",
       "    </tr>\n",
       "    <tr>\n",
       "      <th>32766</th>\n",
       "      <td>RxMsk</td>\n",
       "      <td>RxMsk</td>\n",
       "    </tr>\n",
       "    <tr>\n",
       "      <th>25625</th>\n",
       "      <td>TxCal</td>\n",
       "      <td>TxCal</td>\n",
       "    </tr>\n",
       "    <tr>\n",
       "      <th>30186</th>\n",
       "      <td>RxMsk</td>\n",
       "      <td>TxCal</td>\n",
       "    </tr>\n",
       "    <tr>\n",
       "      <th>36482</th>\n",
       "      <td>-1732</td>\n",
       "      <td>-1732</td>\n",
       "    </tr>\n",
       "    <tr>\n",
       "      <th>...</th>\n",
       "      <td>...</td>\n",
       "      <td>...</td>\n",
       "    </tr>\n",
       "    <tr>\n",
       "      <th>20414</th>\n",
       "      <td>TxCal</td>\n",
       "      <td>TxCal</td>\n",
       "    </tr>\n",
       "    <tr>\n",
       "      <th>30185</th>\n",
       "      <td>TxCal</td>\n",
       "      <td>TxCal</td>\n",
       "    </tr>\n",
       "    <tr>\n",
       "      <th>29723</th>\n",
       "      <td>TxCal</td>\n",
       "      <td>TxCal</td>\n",
       "    </tr>\n",
       "    <tr>\n",
       "      <th>8845</th>\n",
       "      <td>-1732</td>\n",
       "      <td>-1732</td>\n",
       "    </tr>\n",
       "    <tr>\n",
       "      <th>6534</th>\n",
       "      <td>LoPwr</td>\n",
       "      <td>TxCal</td>\n",
       "    </tr>\n",
       "    <tr>\n",
       "      <th>36010</th>\n",
       "      <td>-1732</td>\n",
       "      <td>-1732</td>\n",
       "    </tr>\n",
       "    <tr>\n",
       "      <th>32203</th>\n",
       "      <td>-1732</td>\n",
       "      <td>-1732</td>\n",
       "    </tr>\n",
       "    <tr>\n",
       "      <th>20293</th>\n",
       "      <td>TxCal</td>\n",
       "      <td>TxCal</td>\n",
       "    </tr>\n",
       "    <tr>\n",
       "      <th>20888</th>\n",
       "      <td>-1732</td>\n",
       "      <td>-1732</td>\n",
       "    </tr>\n",
       "    <tr>\n",
       "      <th>19754</th>\n",
       "      <td>TxCal</td>\n",
       "      <td>TxCal</td>\n",
       "    </tr>\n",
       "    <tr>\n",
       "      <th>24625</th>\n",
       "      <td>-1732</td>\n",
       "      <td>-1732</td>\n",
       "    </tr>\n",
       "    <tr>\n",
       "      <th>21588</th>\n",
       "      <td>RxMsk</td>\n",
       "      <td>RxMsk</td>\n",
       "    </tr>\n",
       "    <tr>\n",
       "      <th>28432</th>\n",
       "      <td>LoPwr</td>\n",
       "      <td>LoPwr</td>\n",
       "    </tr>\n",
       "    <tr>\n",
       "      <th>10477</th>\n",
       "      <td>LoPwr</td>\n",
       "      <td>LoPwr</td>\n",
       "    </tr>\n",
       "    <tr>\n",
       "      <th>22231</th>\n",
       "      <td>-1732</td>\n",
       "      <td>TxCal</td>\n",
       "    </tr>\n",
       "    <tr>\n",
       "      <th>15441</th>\n",
       "      <td>-1732</td>\n",
       "      <td>TxCal</td>\n",
       "    </tr>\n",
       "    <tr>\n",
       "      <th>5667</th>\n",
       "      <td>-1732</td>\n",
       "      <td>TxCal</td>\n",
       "    </tr>\n",
       "    <tr>\n",
       "      <th>22199</th>\n",
       "      <td>RxMsk</td>\n",
       "      <td>RxMsk</td>\n",
       "    </tr>\n",
       "    <tr>\n",
       "      <th>2163</th>\n",
       "      <td>LoPwr</td>\n",
       "      <td>RxMsk</td>\n",
       "    </tr>\n",
       "    <tr>\n",
       "      <th>3264</th>\n",
       "      <td>TxCal</td>\n",
       "      <td>TxCal</td>\n",
       "    </tr>\n",
       "    <tr>\n",
       "      <th>33453</th>\n",
       "      <td>-1732</td>\n",
       "      <td>RxMsk</td>\n",
       "    </tr>\n",
       "    <tr>\n",
       "      <th>11351</th>\n",
       "      <td>TxCal</td>\n",
       "      <td>-1732</td>\n",
       "    </tr>\n",
       "    <tr>\n",
       "      <th>32904</th>\n",
       "      <td>-1732</td>\n",
       "      <td>TxCal</td>\n",
       "    </tr>\n",
       "    <tr>\n",
       "      <th>25917</th>\n",
       "      <td>RxMsk</td>\n",
       "      <td>LoPwr</td>\n",
       "    </tr>\n",
       "    <tr>\n",
       "      <th>33853</th>\n",
       "      <td>LoPwr</td>\n",
       "      <td>TxCal</td>\n",
       "    </tr>\n",
       "    <tr>\n",
       "      <th>7529</th>\n",
       "      <td>-1732</td>\n",
       "      <td>-1732</td>\n",
       "    </tr>\n",
       "    <tr>\n",
       "      <th>13</th>\n",
       "      <td>LoPwr</td>\n",
       "      <td>RxMsk</td>\n",
       "    </tr>\n",
       "    <tr>\n",
       "      <th>15911</th>\n",
       "      <td>-1732</td>\n",
       "      <td>TxCal</td>\n",
       "    </tr>\n",
       "    <tr>\n",
       "      <th>29596</th>\n",
       "      <td>LoPwr</td>\n",
       "      <td>LoPwr</td>\n",
       "    </tr>\n",
       "    <tr>\n",
       "      <th>32972</th>\n",
       "      <td>LoPwr</td>\n",
       "      <td>LoPwr</td>\n",
       "    </tr>\n",
       "  </tbody>\n",
       "</table>\n",
       "<p>75 rows × 2 columns</p>\n",
       "</div>"
      ],
      "text/plain": [
       "      y_pred y_test\n",
       "13653  LoPwr  RxMsk\n",
       "26269  TxCal  RxMsk\n",
       "12433  -1732  -1732\n",
       "12417  LoPwr  -1732\n",
       "7380   TxCal  -1732\n",
       "23296  -1732  TxCal\n",
       "30743  -1732  -1732\n",
       "25626  TxCal  TxCal\n",
       "26362  -1732  LoPwr\n",
       "29172  LoPwr  LoPwr\n",
       "2470   LoPwr  -1732\n",
       "5254   -1732  LoPwr\n",
       "14033  LoPwr  LoPwr\n",
       "35212  LoPwr  -1732\n",
       "37099  LoPwr  -1732\n",
       "20448  -1732  -1732\n",
       "1244   LoPwr  LoPwr\n",
       "15114  RxMsk  LoPwr\n",
       "27764  -1732  LoPwr\n",
       "25557  -1732  RxMsk\n",
       "35346  -1732  -1732\n",
       "9399   -1732  RxMsk\n",
       "9554   LoPwr  RxMsk\n",
       "34117  LoPwr  LoPwr\n",
       "26436  -1732  -1732\n",
       "25210  TxCal  TxCal\n",
       "32766  RxMsk  RxMsk\n",
       "25625  TxCal  TxCal\n",
       "30186  RxMsk  TxCal\n",
       "36482  -1732  -1732\n",
       "...      ...    ...\n",
       "20414  TxCal  TxCal\n",
       "30185  TxCal  TxCal\n",
       "29723  TxCal  TxCal\n",
       "8845   -1732  -1732\n",
       "6534   LoPwr  TxCal\n",
       "36010  -1732  -1732\n",
       "32203  -1732  -1732\n",
       "20293  TxCal  TxCal\n",
       "20888  -1732  -1732\n",
       "19754  TxCal  TxCal\n",
       "24625  -1732  -1732\n",
       "21588  RxMsk  RxMsk\n",
       "28432  LoPwr  LoPwr\n",
       "10477  LoPwr  LoPwr\n",
       "22231  -1732  TxCal\n",
       "15441  -1732  TxCal\n",
       "5667   -1732  TxCal\n",
       "22199  RxMsk  RxMsk\n",
       "2163   LoPwr  RxMsk\n",
       "3264   TxCal  TxCal\n",
       "33453  -1732  RxMsk\n",
       "11351  TxCal  -1732\n",
       "32904  -1732  TxCal\n",
       "25917  RxMsk  LoPwr\n",
       "33853  LoPwr  TxCal\n",
       "7529   -1732  -1732\n",
       "13     LoPwr  RxMsk\n",
       "15911  -1732  TxCal\n",
       "29596  LoPwr  LoPwr\n",
       "32972  LoPwr  LoPwr\n",
       "\n",
       "[75 rows x 2 columns]"
      ]
     },
     "execution_count": 45,
     "metadata": {},
     "output_type": "execute_result"
    }
   ],
   "source": [
    "y_pred = clf.predict(X_test)\n",
    "\n",
    "df_results = pd.DataFrame({\"y_pred\": y_pred, \"y_test\": y_test})\n",
    "\n",
    "df_results"
   ]
  },
  {
   "cell_type": "markdown",
   "metadata": {},
   "source": [
    "#### Evaluating the Random Forest"
   ]
  },
  {
   "cell_type": "code",
   "execution_count": 46,
   "metadata": {
    "ExecuteTime": {
     "end_time": "2018-09-24T01:57:31.769690Z",
     "start_time": "2018-09-24T01:57:31.761929Z"
    }
   },
   "outputs": [
    {
     "name": "stdout",
     "output_type": "stream",
     "text": [
      "Accuracy: 0.5066666666666667\n",
      "[[15  4  0  2]\n",
      " [ 4  8  3  1]\n",
      " [ 6  4  4  1]\n",
      " [ 7  2  3 11]]\n"
     ]
    }
   ],
   "source": [
    "print(\"Accuracy: %s\" % accuracy_score(y_test, y_pred))\n",
    "print(confusion_matrix(y_test, y_pred))"
   ]
  },
  {
   "cell_type": "markdown",
   "metadata": {},
   "source": [
    "#### Cross-validation"
   ]
  },
  {
   "cell_type": "code",
   "execution_count": 47,
   "metadata": {
    "ExecuteTime": {
     "end_time": "2018-09-24T01:57:36.261162Z",
     "start_time": "2018-09-24T01:57:35.196534Z"
    }
   },
   "outputs": [
    {
     "name": "stdout",
     "output_type": "stream",
     "text": [
      "[0.42666667 0.33333333 0.48       0.45333333 0.48       0.4\n",
      " 0.38666667 0.48       0.42666667 0.52      ]\n",
      "0.44266666666666665\n"
     ]
    }
   ],
   "source": [
    "cv = ShuffleSplit(n_splits=10, test_size=0.1)\n",
    "\n",
    "print(cross_val_score(clf, X, y, cv=cv))\n",
    "\n",
    "print(cross_val_score(clf, X, y, cv=cv).mean())"
   ]
  },
  {
   "cell_type": "markdown",
   "metadata": {},
   "source": [
    "#### Model Tuning"
   ]
  },
  {
   "cell_type": "code",
   "execution_count": 48,
   "metadata": {
    "ExecuteTime": {
     "end_time": "2018-09-24T01:57:38.278910Z",
     "start_time": "2018-09-24T01:57:38.272452Z"
    }
   },
   "outputs": [],
   "source": [
    "from sklearn.model_selection import GridSearchCV"
   ]
  },
  {
   "cell_type": "code",
   "execution_count": 49,
   "metadata": {
    "ExecuteTime": {
     "end_time": "2018-09-24T01:57:50.837883Z",
     "start_time": "2018-09-24T01:57:38.572186Z"
    }
   },
   "outputs": [
    {
     "name": "stdout",
     "output_type": "stream",
     "text": [
      "Fitting 10 folds for each of 8 candidates, totalling 80 fits\n"
     ]
    },
    {
     "name": "stderr",
     "output_type": "stream",
     "text": [
      "[Parallel(n_jobs=-1)]: Done  34 tasks      | elapsed:    9.0s\n",
      "[Parallel(n_jobs=-1)]: Done  80 out of  80 | elapsed:   11.8s finished\n"
     ]
    },
    {
     "data": {
      "text/plain": [
       "GridSearchCV(cv=ShuffleSplit(n_splits=10, random_state=None, test_size=0.1, train_size=None),\n",
       "       error_score='raise',\n",
       "       estimator=RandomForestClassifier(bootstrap=True, class_weight=None, criterion='gini',\n",
       "            max_depth=None, max_features='auto', max_leaf_nodes=None,\n",
       "            min_impurity_decrease=0.0, min_impurity_split=None,\n",
       "            min_samples_leaf=1, min_samples_split=2,\n",
       "            min_weight_fraction_leaf=0.0, n_estimators=10, n_jobs=1,\n",
       "            oob_score=False, random_state=None, verbose=0,\n",
       "            warm_start=False),\n",
       "       fit_params=None, iid=True, n_jobs=-1,\n",
       "       param_grid={'n_estimators': [5, 10, 15, 20, 40, 50, 75, 100]},\n",
       "       pre_dispatch='2*n_jobs', refit=True, return_train_score='warn',\n",
       "       scoring='accuracy', verbose=1)"
      ]
     },
     "execution_count": 49,
     "metadata": {},
     "output_type": "execute_result"
    }
   ],
   "source": [
    "# initializing the model\n",
    "rand_forr = RandomForestClassifier()\n",
    "\n",
    "# specifying parameters to tune\n",
    "param_grid = {\"n_estimators\": [5, 10, 15, 20, 40, 50, 75, 100]}\n",
    "\n",
    "clf = GridSearchCV(rand_forr, param_grid=param_grid, scoring=\"accuracy\", cv=cv, verbose=1, n_jobs=-1)\n",
    "\n",
    "# training\n",
    "clf.fit(X_train, y_train)"
   ]
  },
  {
   "cell_type": "code",
   "execution_count": 50,
   "metadata": {
    "ExecuteTime": {
     "end_time": "2018-09-24T01:57:50.845515Z",
     "start_time": "2018-09-24T01:57:50.838882Z"
    }
   },
   "outputs": [
    {
     "name": "stdout",
     "output_type": "stream",
     "text": [
      "Best parametersc(SVM): {'n_estimators': 50}\n",
      "Best score (SVM): 0.4852941176470588\n"
     ]
    }
   ],
   "source": [
    "# get the best models parameters and score\n",
    "print(\"Best parametersc(SVM): %s\" % clf.best_params_)\n",
    "print(\"Best score (SVM): %s\" % clf.best_score_)"
   ]
  },
  {
   "cell_type": "code",
   "execution_count": 51,
   "metadata": {
    "ExecuteTime": {
     "end_time": "2018-09-24T01:57:50.878897Z",
     "start_time": "2018-09-24T01:57:50.846514Z"
    },
    "scrolled": true
   },
   "outputs": [
    {
     "data": {
      "text/html": [
       "<div>\n",
       "<style scoped>\n",
       "    .dataframe tbody tr th:only-of-type {\n",
       "        vertical-align: middle;\n",
       "    }\n",
       "\n",
       "    .dataframe tbody tr th {\n",
       "        vertical-align: top;\n",
       "    }\n",
       "\n",
       "    .dataframe thead th {\n",
       "        text-align: right;\n",
       "    }\n",
       "</style>\n",
       "<table border=\"1\" class=\"dataframe\">\n",
       "  <thead>\n",
       "    <tr style=\"text-align: right;\">\n",
       "      <th></th>\n",
       "      <th>y_pred</th>\n",
       "      <th>y_test</th>\n",
       "    </tr>\n",
       "  </thead>\n",
       "  <tbody>\n",
       "    <tr>\n",
       "      <th>13653</th>\n",
       "      <td>LoPwr</td>\n",
       "      <td>RxMsk</td>\n",
       "    </tr>\n",
       "    <tr>\n",
       "      <th>26269</th>\n",
       "      <td>-1732</td>\n",
       "      <td>RxMsk</td>\n",
       "    </tr>\n",
       "    <tr>\n",
       "      <th>12433</th>\n",
       "      <td>-1732</td>\n",
       "      <td>-1732</td>\n",
       "    </tr>\n",
       "    <tr>\n",
       "      <th>12417</th>\n",
       "      <td>LoPwr</td>\n",
       "      <td>-1732</td>\n",
       "    </tr>\n",
       "    <tr>\n",
       "      <th>7380</th>\n",
       "      <td>TxCal</td>\n",
       "      <td>-1732</td>\n",
       "    </tr>\n",
       "    <tr>\n",
       "      <th>23296</th>\n",
       "      <td>-1732</td>\n",
       "      <td>TxCal</td>\n",
       "    </tr>\n",
       "    <tr>\n",
       "      <th>30743</th>\n",
       "      <td>-1732</td>\n",
       "      <td>-1732</td>\n",
       "    </tr>\n",
       "    <tr>\n",
       "      <th>25626</th>\n",
       "      <td>TxCal</td>\n",
       "      <td>TxCal</td>\n",
       "    </tr>\n",
       "    <tr>\n",
       "      <th>26362</th>\n",
       "      <td>RxMsk</td>\n",
       "      <td>LoPwr</td>\n",
       "    </tr>\n",
       "    <tr>\n",
       "      <th>29172</th>\n",
       "      <td>LoPwr</td>\n",
       "      <td>LoPwr</td>\n",
       "    </tr>\n",
       "    <tr>\n",
       "      <th>2470</th>\n",
       "      <td>-1732</td>\n",
       "      <td>-1732</td>\n",
       "    </tr>\n",
       "    <tr>\n",
       "      <th>5254</th>\n",
       "      <td>LoPwr</td>\n",
       "      <td>LoPwr</td>\n",
       "    </tr>\n",
       "    <tr>\n",
       "      <th>14033</th>\n",
       "      <td>LoPwr</td>\n",
       "      <td>LoPwr</td>\n",
       "    </tr>\n",
       "    <tr>\n",
       "      <th>35212</th>\n",
       "      <td>-1732</td>\n",
       "      <td>-1732</td>\n",
       "    </tr>\n",
       "    <tr>\n",
       "      <th>37099</th>\n",
       "      <td>-1732</td>\n",
       "      <td>-1732</td>\n",
       "    </tr>\n",
       "    <tr>\n",
       "      <th>20448</th>\n",
       "      <td>-1732</td>\n",
       "      <td>-1732</td>\n",
       "    </tr>\n",
       "    <tr>\n",
       "      <th>1244</th>\n",
       "      <td>LoPwr</td>\n",
       "      <td>LoPwr</td>\n",
       "    </tr>\n",
       "    <tr>\n",
       "      <th>15114</th>\n",
       "      <td>LoPwr</td>\n",
       "      <td>LoPwr</td>\n",
       "    </tr>\n",
       "    <tr>\n",
       "      <th>27764</th>\n",
       "      <td>-1732</td>\n",
       "      <td>LoPwr</td>\n",
       "    </tr>\n",
       "    <tr>\n",
       "      <th>25557</th>\n",
       "      <td>-1732</td>\n",
       "      <td>RxMsk</td>\n",
       "    </tr>\n",
       "    <tr>\n",
       "      <th>35346</th>\n",
       "      <td>-1732</td>\n",
       "      <td>-1732</td>\n",
       "    </tr>\n",
       "    <tr>\n",
       "      <th>9399</th>\n",
       "      <td>-1732</td>\n",
       "      <td>RxMsk</td>\n",
       "    </tr>\n",
       "    <tr>\n",
       "      <th>9554</th>\n",
       "      <td>LoPwr</td>\n",
       "      <td>RxMsk</td>\n",
       "    </tr>\n",
       "    <tr>\n",
       "      <th>34117</th>\n",
       "      <td>LoPwr</td>\n",
       "      <td>LoPwr</td>\n",
       "    </tr>\n",
       "    <tr>\n",
       "      <th>26436</th>\n",
       "      <td>-1732</td>\n",
       "      <td>-1732</td>\n",
       "    </tr>\n",
       "    <tr>\n",
       "      <th>25210</th>\n",
       "      <td>TxCal</td>\n",
       "      <td>TxCal</td>\n",
       "    </tr>\n",
       "    <tr>\n",
       "      <th>32766</th>\n",
       "      <td>RxMsk</td>\n",
       "      <td>RxMsk</td>\n",
       "    </tr>\n",
       "    <tr>\n",
       "      <th>25625</th>\n",
       "      <td>TxCal</td>\n",
       "      <td>TxCal</td>\n",
       "    </tr>\n",
       "    <tr>\n",
       "      <th>30186</th>\n",
       "      <td>TxCal</td>\n",
       "      <td>TxCal</td>\n",
       "    </tr>\n",
       "    <tr>\n",
       "      <th>36482</th>\n",
       "      <td>-1732</td>\n",
       "      <td>-1732</td>\n",
       "    </tr>\n",
       "    <tr>\n",
       "      <th>...</th>\n",
       "      <td>...</td>\n",
       "      <td>...</td>\n",
       "    </tr>\n",
       "    <tr>\n",
       "      <th>20414</th>\n",
       "      <td>TxCal</td>\n",
       "      <td>TxCal</td>\n",
       "    </tr>\n",
       "    <tr>\n",
       "      <th>30185</th>\n",
       "      <td>-1732</td>\n",
       "      <td>TxCal</td>\n",
       "    </tr>\n",
       "    <tr>\n",
       "      <th>29723</th>\n",
       "      <td>RxMsk</td>\n",
       "      <td>TxCal</td>\n",
       "    </tr>\n",
       "    <tr>\n",
       "      <th>8845</th>\n",
       "      <td>-1732</td>\n",
       "      <td>-1732</td>\n",
       "    </tr>\n",
       "    <tr>\n",
       "      <th>6534</th>\n",
       "      <td>LoPwr</td>\n",
       "      <td>TxCal</td>\n",
       "    </tr>\n",
       "    <tr>\n",
       "      <th>36010</th>\n",
       "      <td>-1732</td>\n",
       "      <td>-1732</td>\n",
       "    </tr>\n",
       "    <tr>\n",
       "      <th>32203</th>\n",
       "      <td>-1732</td>\n",
       "      <td>-1732</td>\n",
       "    </tr>\n",
       "    <tr>\n",
       "      <th>20293</th>\n",
       "      <td>TxCal</td>\n",
       "      <td>TxCal</td>\n",
       "    </tr>\n",
       "    <tr>\n",
       "      <th>20888</th>\n",
       "      <td>-1732</td>\n",
       "      <td>-1732</td>\n",
       "    </tr>\n",
       "    <tr>\n",
       "      <th>19754</th>\n",
       "      <td>TxCal</td>\n",
       "      <td>TxCal</td>\n",
       "    </tr>\n",
       "    <tr>\n",
       "      <th>24625</th>\n",
       "      <td>TxCal</td>\n",
       "      <td>-1732</td>\n",
       "    </tr>\n",
       "    <tr>\n",
       "      <th>21588</th>\n",
       "      <td>-1732</td>\n",
       "      <td>RxMsk</td>\n",
       "    </tr>\n",
       "    <tr>\n",
       "      <th>28432</th>\n",
       "      <td>LoPwr</td>\n",
       "      <td>LoPwr</td>\n",
       "    </tr>\n",
       "    <tr>\n",
       "      <th>10477</th>\n",
       "      <td>LoPwr</td>\n",
       "      <td>LoPwr</td>\n",
       "    </tr>\n",
       "    <tr>\n",
       "      <th>22231</th>\n",
       "      <td>-1732</td>\n",
       "      <td>TxCal</td>\n",
       "    </tr>\n",
       "    <tr>\n",
       "      <th>15441</th>\n",
       "      <td>-1732</td>\n",
       "      <td>TxCal</td>\n",
       "    </tr>\n",
       "    <tr>\n",
       "      <th>5667</th>\n",
       "      <td>-1732</td>\n",
       "      <td>TxCal</td>\n",
       "    </tr>\n",
       "    <tr>\n",
       "      <th>22199</th>\n",
       "      <td>-1732</td>\n",
       "      <td>RxMsk</td>\n",
       "    </tr>\n",
       "    <tr>\n",
       "      <th>2163</th>\n",
       "      <td>RxMsk</td>\n",
       "      <td>RxMsk</td>\n",
       "    </tr>\n",
       "    <tr>\n",
       "      <th>3264</th>\n",
       "      <td>TxCal</td>\n",
       "      <td>TxCal</td>\n",
       "    </tr>\n",
       "    <tr>\n",
       "      <th>33453</th>\n",
       "      <td>-1732</td>\n",
       "      <td>RxMsk</td>\n",
       "    </tr>\n",
       "    <tr>\n",
       "      <th>11351</th>\n",
       "      <td>TxCal</td>\n",
       "      <td>-1732</td>\n",
       "    </tr>\n",
       "    <tr>\n",
       "      <th>32904</th>\n",
       "      <td>-1732</td>\n",
       "      <td>TxCal</td>\n",
       "    </tr>\n",
       "    <tr>\n",
       "      <th>25917</th>\n",
       "      <td>-1732</td>\n",
       "      <td>LoPwr</td>\n",
       "    </tr>\n",
       "    <tr>\n",
       "      <th>33853</th>\n",
       "      <td>-1732</td>\n",
       "      <td>TxCal</td>\n",
       "    </tr>\n",
       "    <tr>\n",
       "      <th>7529</th>\n",
       "      <td>-1732</td>\n",
       "      <td>-1732</td>\n",
       "    </tr>\n",
       "    <tr>\n",
       "      <th>13</th>\n",
       "      <td>LoPwr</td>\n",
       "      <td>RxMsk</td>\n",
       "    </tr>\n",
       "    <tr>\n",
       "      <th>15911</th>\n",
       "      <td>-1732</td>\n",
       "      <td>TxCal</td>\n",
       "    </tr>\n",
       "    <tr>\n",
       "      <th>29596</th>\n",
       "      <td>LoPwr</td>\n",
       "      <td>LoPwr</td>\n",
       "    </tr>\n",
       "    <tr>\n",
       "      <th>32972</th>\n",
       "      <td>LoPwr</td>\n",
       "      <td>LoPwr</td>\n",
       "    </tr>\n",
       "  </tbody>\n",
       "</table>\n",
       "<p>75 rows × 2 columns</p>\n",
       "</div>"
      ],
      "text/plain": [
       "      y_pred y_test\n",
       "13653  LoPwr  RxMsk\n",
       "26269  -1732  RxMsk\n",
       "12433  -1732  -1732\n",
       "12417  LoPwr  -1732\n",
       "7380   TxCal  -1732\n",
       "23296  -1732  TxCal\n",
       "30743  -1732  -1732\n",
       "25626  TxCal  TxCal\n",
       "26362  RxMsk  LoPwr\n",
       "29172  LoPwr  LoPwr\n",
       "2470   -1732  -1732\n",
       "5254   LoPwr  LoPwr\n",
       "14033  LoPwr  LoPwr\n",
       "35212  -1732  -1732\n",
       "37099  -1732  -1732\n",
       "20448  -1732  -1732\n",
       "1244   LoPwr  LoPwr\n",
       "15114  LoPwr  LoPwr\n",
       "27764  -1732  LoPwr\n",
       "25557  -1732  RxMsk\n",
       "35346  -1732  -1732\n",
       "9399   -1732  RxMsk\n",
       "9554   LoPwr  RxMsk\n",
       "34117  LoPwr  LoPwr\n",
       "26436  -1732  -1732\n",
       "25210  TxCal  TxCal\n",
       "32766  RxMsk  RxMsk\n",
       "25625  TxCal  TxCal\n",
       "30186  TxCal  TxCal\n",
       "36482  -1732  -1732\n",
       "...      ...    ...\n",
       "20414  TxCal  TxCal\n",
       "30185  -1732  TxCal\n",
       "29723  RxMsk  TxCal\n",
       "8845   -1732  -1732\n",
       "6534   LoPwr  TxCal\n",
       "36010  -1732  -1732\n",
       "32203  -1732  -1732\n",
       "20293  TxCal  TxCal\n",
       "20888  -1732  -1732\n",
       "19754  TxCal  TxCal\n",
       "24625  TxCal  -1732\n",
       "21588  -1732  RxMsk\n",
       "28432  LoPwr  LoPwr\n",
       "10477  LoPwr  LoPwr\n",
       "22231  -1732  TxCal\n",
       "15441  -1732  TxCal\n",
       "5667   -1732  TxCal\n",
       "22199  -1732  RxMsk\n",
       "2163   RxMsk  RxMsk\n",
       "3264   TxCal  TxCal\n",
       "33453  -1732  RxMsk\n",
       "11351  TxCal  -1732\n",
       "32904  -1732  TxCal\n",
       "25917  -1732  LoPwr\n",
       "33853  -1732  TxCal\n",
       "7529   -1732  -1732\n",
       "13     LoPwr  RxMsk\n",
       "15911  -1732  TxCal\n",
       "29596  LoPwr  LoPwr\n",
       "32972  LoPwr  LoPwr\n",
       "\n",
       "[75 rows x 2 columns]"
      ]
     },
     "execution_count": 51,
     "metadata": {},
     "output_type": "execute_result"
    }
   ],
   "source": [
    "# making predictions with the optimized model\n",
    "\n",
    "y_pred = clf.predict(X_test)\n",
    "\n",
    "df_results = pd.DataFrame({\"y_pred\": y_pred, \"y_test\": y_test})\n",
    "\n",
    "df_results\n"
   ]
  },
  {
   "cell_type": "code",
   "execution_count": 52,
   "metadata": {
    "ExecuteTime": {
     "end_time": "2018-09-24T01:57:50.887081Z",
     "start_time": "2018-09-24T01:57:50.880233Z"
    }
   },
   "outputs": [
    {
     "name": "stdout",
     "output_type": "stream",
     "text": [
      "[[17  1  0  3]\n",
      " [ 2 12  1  1]\n",
      " [ 8  4  3  0]\n",
      " [ 9  2  3  9]]\n",
      "0.5466666666666666\n"
     ]
    }
   ],
   "source": [
    "# Checking the performance of our model on unseen data\n",
    "\n",
    "print(confusion_matrix(y_test, y_pred))\n",
    "\n",
    "print(accuracy_score(y_test, y_pred))\n"
   ]
  },
  {
   "cell_type": "markdown",
   "metadata": {},
   "source": [
    "#### Some ideas that might improve your model\n",
    "- Feature engineering: Create new features, e.g. transform a continuous variable into a discrete one (for instance create a new variable x_is_critical that is 1 if the original variable x exceeds a critical value and 0 if it doesn't)\n",
    "- Use your domain knowledge to drop irrelevant input variables\n",
    "- Combine models: Maybe one model is very good at predicting a certain error type. Use this model to just predict if this particular error will occur. If the model predicts that this error will not occur, feed the input data into a second model that predicts which of the remaining possible errors will happen.\n",
    "- Have a look at statistical outliers (you could find those for example using boxplots) and decide whether they should be removed or kept\n",
    "- Check for other data that should be removed (for instance you mentioned that sometimes the same product is tested multiple times. Here you should use the data that is likely to be the most valid.)\n",
    "- If you want to predict extremely imbalanced data (e.g. your data contain lots of PASS values but relatively few errors), you need to compensate for the imbalance. For instance, you could under-sample the majority class or over-sample the minority class."
   ]
  },
  {
   "cell_type": "markdown",
   "metadata": {},
   "source": [
    "#### Interesting feature of tree models, such as Random Forest --> feature importances"
   ]
  },
  {
   "cell_type": "markdown",
   "metadata": {},
   "source": [
    "The feature importances can be used to see which features contributed the model. PLEASE, BE AWARE: A HIGH FEATURE IMPORTANCE DOES NOT NECESSARILY MEAN THAT A CERTAIN FEATURE HAS A STRONG INFLUENCE ON THE OUTPUT. It is just means that the feature contributed to improving the model's accuracy!\n",
    "\n",
    "Feature importances can be used for reverse feature selection (dropping features that have a low importance one by one and see how the model changes, if it is re-trained with the reduced feature set)"
   ]
  },
  {
   "cell_type": "code",
   "execution_count": 1630,
   "metadata": {
    "ExecuteTime": {
     "end_time": "2018-09-23T15:38:52.062056Z",
     "start_time": "2018-09-23T15:38:49.658008Z"
    }
   },
   "outputs": [
    {
     "data": {
      "image/png": "[encoded data removed]",
      "text/plain": [
       "<Figure size 720x1440 with 1 Axes>"
      ]
     },
     "metadata": {},
     "output_type": "display_data"
    }
   ],
   "source": [
    "# get the best model from the GridSearchCV object\n",
    "model = clf.best_estimator_\n",
    "\n",
    "# get feature importances\n",
    "fi = model.feature_importances_\n",
    "col_names = X.columns\n",
    "\n",
    "import matplotlib.pyplot as plt\n",
    "plt.figure(figsize=(10,20))\n",
    "plt.barh(col_names, fi)\n",
    "plt.show()"
   ]
  },
  {
   "cell_type": "markdown",
   "metadata": {},
   "source": [
    "# Regression"
   ]
  },
  {
   "cell_type": "markdown",
   "metadata": {},
   "source": [
    "## Prepare input and output data"
   ]
  },
  {
   "cell_type": "code",
   "execution_count": 1648,
   "metadata": {
    "ExecuteTime": {
     "end_time": "2018-09-23T15:55:39.989508Z",
     "start_time": "2018-09-23T15:55:38.860049Z"
    }
   },
   "outputs": [],
   "source": [
    "df = pd.read_csv(\"data_for_modelling.csv\", index_col=0)\n",
    "df.dropna(subset=[\"TxOma_mW\"], inplace=True)"
   ]
  },
  {
   "cell_type": "code",
   "execution_count": 1649,
   "metadata": {
    "ExecuteTime": {
     "end_time": "2018-09-23T15:55:43.643716Z",
     "start_time": "2018-09-23T15:55:39.989508Z"
    }
   },
   "outputs": [],
   "source": [
    "y = df[\"TxOma_mW\"]\n",
    "X = df.drop(columns=df_final.columns)\n",
    "\n",
    "# Handling missing values\n",
    "X.dropna(axis=1, how=\"all\", inplace=True)\n",
    "X.fillna(X.median(), inplace=True)\n",
    "\n",
    "# Transforming categorical variables\n",
    "categorical_variables = [\"TestStation_tosa\", \"TestStation_dctest\", \"Site\", \"Att_bins\", \"SlotNum\"]\n",
    "\n",
    "X = pd.get_dummies(X, columns=categorical_variables)\n",
    "X = X.select_dtypes(exclude=object)\n",
    "\n",
    "# Remove remaining categorical data\n",
    "X = X.select_dtypes(exclude=object)\n",
    "\n",
    "# Train Test split\n",
    "X_train, X_test, y_train, y_test = train_test_split(X, y, test_size=0.1)"
   ]
  },
  {
   "cell_type": "code",
   "execution_count": 1652,
   "metadata": {
    "ExecuteTime": {
     "end_time": "2018-09-23T15:56:04.068560Z",
     "start_time": "2018-09-23T15:56:04.054845Z"
    }
   },
   "outputs": [
    {
     "name": "stdout",
     "output_type": "stream",
     "text": [
      "(30119, 98)\n"
     ]
    }
   ],
   "source": [
    "print(X.shape)"
   ]
  },
  {
   "cell_type": "markdown",
   "metadata": {},
   "source": [
    "## Training the regression model"
   ]
  },
  {
   "cell_type": "code",
   "execution_count": 1650,
   "metadata": {
    "ExecuteTime": {
     "end_time": "2018-09-23T15:55:43.659081Z",
     "start_time": "2018-09-23T15:55:43.643716Z"
    }
   },
   "outputs": [],
   "source": [
    "from sklearn.ensemble import GradientBoostingRegressor"
   ]
  },
  {
   "cell_type": "code",
   "execution_count": 1692,
   "metadata": {
    "ExecuteTime": {
     "end_time": "2018-09-23T18:09:45.551690Z",
     "start_time": "2018-09-23T17:56:56.310795Z"
    }
   },
   "outputs": [
    {
     "data": {
      "text/plain": [
       "GradientBoostingRegressor(alpha=0.9, criterion='friedman_mse', init=None,\n",
       "             learning_rate=0.1, loss='ls', max_depth=10, max_features=None,\n",
       "             max_leaf_nodes=None, min_impurity_decrease=0.0,\n",
       "             min_impurity_split=None, min_samples_leaf=1,\n",
       "             min_samples_split=2, min_weight_fraction_leaf=0.0,\n",
       "             n_estimators=1000, presort='auto', random_state=None,\n",
       "             subsample=1.0, verbose=0, warm_start=False)"
      ]
     },
     "execution_count": 1692,
     "metadata": {},
     "output_type": "execute_result"
    }
   ],
   "source": [
    "gbr = GradientBoostingRegressor(n_estimators=1000, max_depth=10)\n",
    "gbr.fit(X_train, y_train)"
   ]
  },
  {
   "cell_type": "markdown",
   "metadata": {},
   "source": [
    "## Making predictions"
   ]
  },
  {
   "cell_type": "code",
   "execution_count": 1693,
   "metadata": {
    "ExecuteTime": {
     "end_time": "2018-09-23T18:09:45.707720Z",
     "start_time": "2018-09-23T18:09:45.551690Z"
    }
   },
   "outputs": [],
   "source": [
    "y_pred = gbr.predict(X_test)"
   ]
  },
  {
   "cell_type": "code",
   "execution_count": 1694,
   "metadata": {
    "ExecuteTime": {
     "end_time": "2018-09-23T18:09:45.738963Z",
     "start_time": "2018-09-23T18:09:45.707720Z"
    },
    "scrolled": true
   },
   "outputs": [
    {
     "data": {
      "text/html": [
       "<div>\n",
       "<style scoped>\n",
       "    .dataframe tbody tr th:only-of-type {\n",
       "        vertical-align: middle;\n",
       "    }\n",
       "\n",
       "    .dataframe tbody tr th {\n",
       "        vertical-align: top;\n",
       "    }\n",
       "\n",
       "    .dataframe thead th {\n",
       "        text-align: right;\n",
       "    }\n",
       "</style>\n",
       "<table border=\"1\" class=\"dataframe\">\n",
       "  <thead>\n",
       "    <tr style=\"text-align: right;\">\n",
       "      <th></th>\n",
       "      <th>y_pred</th>\n",
       "      <th>y_test</th>\n",
       "    </tr>\n",
       "  </thead>\n",
       "  <tbody>\n",
       "    <tr>\n",
       "      <th>6697</th>\n",
       "      <td>890.805735</td>\n",
       "      <td>905.358093</td>\n",
       "    </tr>\n",
       "    <tr>\n",
       "      <th>8298</th>\n",
       "      <td>855.279716</td>\n",
       "      <td>818.938538</td>\n",
       "    </tr>\n",
       "    <tr>\n",
       "      <th>29727</th>\n",
       "      <td>857.013844</td>\n",
       "      <td>900.023682</td>\n",
       "    </tr>\n",
       "    <tr>\n",
       "      <th>3360</th>\n",
       "      <td>831.641185</td>\n",
       "      <td>788.674988</td>\n",
       "    </tr>\n",
       "    <tr>\n",
       "      <th>3066</th>\n",
       "      <td>867.530161</td>\n",
       "      <td>853.032227</td>\n",
       "    </tr>\n",
       "    <tr>\n",
       "      <th>1155</th>\n",
       "      <td>902.233185</td>\n",
       "      <td>884.718201</td>\n",
       "    </tr>\n",
       "    <tr>\n",
       "      <th>21723</th>\n",
       "      <td>861.093405</td>\n",
       "      <td>867.158264</td>\n",
       "    </tr>\n",
       "    <tr>\n",
       "      <th>10683</th>\n",
       "      <td>775.628932</td>\n",
       "      <td>842.015259</td>\n",
       "    </tr>\n",
       "    <tr>\n",
       "      <th>19481</th>\n",
       "      <td>880.912442</td>\n",
       "      <td>893.920837</td>\n",
       "    </tr>\n",
       "    <tr>\n",
       "      <th>24704</th>\n",
       "      <td>865.224802</td>\n",
       "      <td>853.091553</td>\n",
       "    </tr>\n",
       "    <tr>\n",
       "      <th>21575</th>\n",
       "      <td>810.449670</td>\n",
       "      <td>766.671814</td>\n",
       "    </tr>\n",
       "    <tr>\n",
       "      <th>9897</th>\n",
       "      <td>948.856256</td>\n",
       "      <td>920.098694</td>\n",
       "    </tr>\n",
       "    <tr>\n",
       "      <th>23785</th>\n",
       "      <td>755.567956</td>\n",
       "      <td>794.225159</td>\n",
       "    </tr>\n",
       "    <tr>\n",
       "      <th>3065</th>\n",
       "      <td>867.741989</td>\n",
       "      <td>804.721619</td>\n",
       "    </tr>\n",
       "    <tr>\n",
       "      <th>19017</th>\n",
       "      <td>857.795152</td>\n",
       "      <td>973.268005</td>\n",
       "    </tr>\n",
       "    <tr>\n",
       "      <th>20902</th>\n",
       "      <td>997.890312</td>\n",
       "      <td>1044.911011</td>\n",
       "    </tr>\n",
       "    <tr>\n",
       "      <th>10587</th>\n",
       "      <td>827.234594</td>\n",
       "      <td>862.539734</td>\n",
       "    </tr>\n",
       "    <tr>\n",
       "      <th>11330</th>\n",
       "      <td>755.690398</td>\n",
       "      <td>750.378662</td>\n",
       "    </tr>\n",
       "    <tr>\n",
       "      <th>27465</th>\n",
       "      <td>821.563259</td>\n",
       "      <td>798.433167</td>\n",
       "    </tr>\n",
       "    <tr>\n",
       "      <th>26117</th>\n",
       "      <td>882.155818</td>\n",
       "      <td>828.523254</td>\n",
       "    </tr>\n",
       "    <tr>\n",
       "      <th>10840</th>\n",
       "      <td>871.738231</td>\n",
       "      <td>956.074890</td>\n",
       "    </tr>\n",
       "    <tr>\n",
       "      <th>30065</th>\n",
       "      <td>910.216998</td>\n",
       "      <td>890.444580</td>\n",
       "    </tr>\n",
       "    <tr>\n",
       "      <th>9802</th>\n",
       "      <td>776.246694</td>\n",
       "      <td>812.262329</td>\n",
       "    </tr>\n",
       "    <tr>\n",
       "      <th>2034</th>\n",
       "      <td>821.642714</td>\n",
       "      <td>802.954407</td>\n",
       "    </tr>\n",
       "    <tr>\n",
       "      <th>28200</th>\n",
       "      <td>914.211779</td>\n",
       "      <td>950.345520</td>\n",
       "    </tr>\n",
       "    <tr>\n",
       "      <th>6127</th>\n",
       "      <td>861.916746</td>\n",
       "      <td>877.445679</td>\n",
       "    </tr>\n",
       "    <tr>\n",
       "      <th>26537</th>\n",
       "      <td>879.381725</td>\n",
       "      <td>905.531128</td>\n",
       "    </tr>\n",
       "    <tr>\n",
       "      <th>17873</th>\n",
       "      <td>757.332627</td>\n",
       "      <td>755.435913</td>\n",
       "    </tr>\n",
       "    <tr>\n",
       "      <th>10074</th>\n",
       "      <td>951.046359</td>\n",
       "      <td>915.238037</td>\n",
       "    </tr>\n",
       "    <tr>\n",
       "      <th>27290</th>\n",
       "      <td>798.385172</td>\n",
       "      <td>821.202881</td>\n",
       "    </tr>\n",
       "    <tr>\n",
       "      <th>...</th>\n",
       "      <td>...</td>\n",
       "      <td>...</td>\n",
       "    </tr>\n",
       "    <tr>\n",
       "      <th>29215</th>\n",
       "      <td>753.809096</td>\n",
       "      <td>702.064941</td>\n",
       "    </tr>\n",
       "    <tr>\n",
       "      <th>15149</th>\n",
       "      <td>863.553279</td>\n",
       "      <td>937.503479</td>\n",
       "    </tr>\n",
       "    <tr>\n",
       "      <th>23877</th>\n",
       "      <td>863.621171</td>\n",
       "      <td>847.681091</td>\n",
       "    </tr>\n",
       "    <tr>\n",
       "      <th>12816</th>\n",
       "      <td>897.371066</td>\n",
       "      <td>845.376038</td>\n",
       "    </tr>\n",
       "    <tr>\n",
       "      <th>2736</th>\n",
       "      <td>816.689902</td>\n",
       "      <td>843.956238</td>\n",
       "    </tr>\n",
       "    <tr>\n",
       "      <th>19777</th>\n",
       "      <td>862.013354</td>\n",
       "      <td>930.797546</td>\n",
       "    </tr>\n",
       "    <tr>\n",
       "      <th>13323</th>\n",
       "      <td>833.265166</td>\n",
       "      <td>933.900391</td>\n",
       "    </tr>\n",
       "    <tr>\n",
       "      <th>7555</th>\n",
       "      <td>851.791656</td>\n",
       "      <td>888.653320</td>\n",
       "    </tr>\n",
       "    <tr>\n",
       "      <th>20255</th>\n",
       "      <td>808.898009</td>\n",
       "      <td>813.847717</td>\n",
       "    </tr>\n",
       "    <tr>\n",
       "      <th>29880</th>\n",
       "      <td>819.778662</td>\n",
       "      <td>865.884277</td>\n",
       "    </tr>\n",
       "    <tr>\n",
       "      <th>10000</th>\n",
       "      <td>832.238295</td>\n",
       "      <td>860.287476</td>\n",
       "    </tr>\n",
       "    <tr>\n",
       "      <th>4766</th>\n",
       "      <td>762.080193</td>\n",
       "      <td>716.660095</td>\n",
       "    </tr>\n",
       "    <tr>\n",
       "      <th>18075</th>\n",
       "      <td>832.563756</td>\n",
       "      <td>737.171692</td>\n",
       "    </tr>\n",
       "    <tr>\n",
       "      <th>19074</th>\n",
       "      <td>820.642067</td>\n",
       "      <td>913.907349</td>\n",
       "    </tr>\n",
       "    <tr>\n",
       "      <th>24681</th>\n",
       "      <td>794.125966</td>\n",
       "      <td>817.867676</td>\n",
       "    </tr>\n",
       "    <tr>\n",
       "      <th>9939</th>\n",
       "      <td>786.918254</td>\n",
       "      <td>703.843262</td>\n",
       "    </tr>\n",
       "    <tr>\n",
       "      <th>23810</th>\n",
       "      <td>851.796607</td>\n",
       "      <td>885.508362</td>\n",
       "    </tr>\n",
       "    <tr>\n",
       "      <th>18474</th>\n",
       "      <td>886.095439</td>\n",
       "      <td>917.952881</td>\n",
       "    </tr>\n",
       "    <tr>\n",
       "      <th>12004</th>\n",
       "      <td>926.885272</td>\n",
       "      <td>739.317749</td>\n",
       "    </tr>\n",
       "    <tr>\n",
       "      <th>19533</th>\n",
       "      <td>842.210073</td>\n",
       "      <td>789.744141</td>\n",
       "    </tr>\n",
       "    <tr>\n",
       "      <th>5991</th>\n",
       "      <td>846.737410</td>\n",
       "      <td>832.596436</td>\n",
       "    </tr>\n",
       "    <tr>\n",
       "      <th>17753</th>\n",
       "      <td>931.511646</td>\n",
       "      <td>850.915405</td>\n",
       "    </tr>\n",
       "    <tr>\n",
       "      <th>25431</th>\n",
       "      <td>863.663221</td>\n",
       "      <td>831.781311</td>\n",
       "    </tr>\n",
       "    <tr>\n",
       "      <th>9992</th>\n",
       "      <td>754.131309</td>\n",
       "      <td>847.718384</td>\n",
       "    </tr>\n",
       "    <tr>\n",
       "      <th>1053</th>\n",
       "      <td>850.749531</td>\n",
       "      <td>835.949646</td>\n",
       "    </tr>\n",
       "    <tr>\n",
       "      <th>23252</th>\n",
       "      <td>911.132952</td>\n",
       "      <td>918.540588</td>\n",
       "    </tr>\n",
       "    <tr>\n",
       "      <th>28039</th>\n",
       "      <td>903.932495</td>\n",
       "      <td>857.206543</td>\n",
       "    </tr>\n",
       "    <tr>\n",
       "      <th>18907</th>\n",
       "      <td>890.063417</td>\n",
       "      <td>882.200806</td>\n",
       "    </tr>\n",
       "    <tr>\n",
       "      <th>22908</th>\n",
       "      <td>863.013246</td>\n",
       "      <td>799.495056</td>\n",
       "    </tr>\n",
       "    <tr>\n",
       "      <th>18520</th>\n",
       "      <td>865.537093</td>\n",
       "      <td>879.183105</td>\n",
       "    </tr>\n",
       "  </tbody>\n",
       "</table>\n",
       "<p>3012 rows × 2 columns</p>\n",
       "</div>"
      ],
      "text/plain": [
       "           y_pred       y_test\n",
       "6697   890.805735   905.358093\n",
       "8298   855.279716   818.938538\n",
       "29727  857.013844   900.023682\n",
       "3360   831.641185   788.674988\n",
       "3066   867.530161   853.032227\n",
       "1155   902.233185   884.718201\n",
       "21723  861.093405   867.158264\n",
       "10683  775.628932   842.015259\n",
       "19481  880.912442   893.920837\n",
       "24704  865.224802   853.091553\n",
       "21575  810.449670   766.671814\n",
       "9897   948.856256   920.098694\n",
       "23785  755.567956   794.225159\n",
       "3065   867.741989   804.721619\n",
       "19017  857.795152   973.268005\n",
       "20902  997.890312  1044.911011\n",
       "10587  827.234594   862.539734\n",
       "11330  755.690398   750.378662\n",
       "27465  821.563259   798.433167\n",
       "26117  882.155818   828.523254\n",
       "10840  871.738231   956.074890\n",
       "30065  910.216998   890.444580\n",
       "9802   776.246694   812.262329\n",
       "2034   821.642714   802.954407\n",
       "28200  914.211779   950.345520\n",
       "6127   861.916746   877.445679\n",
       "26537  879.381725   905.531128\n",
       "17873  757.332627   755.435913\n",
       "10074  951.046359   915.238037\n",
       "27290  798.385172   821.202881\n",
       "...           ...          ...\n",
       "29215  753.809096   702.064941\n",
       "15149  863.553279   937.503479\n",
       "23877  863.621171   847.681091\n",
       "12816  897.371066   845.376038\n",
       "2736   816.689902   843.956238\n",
       "19777  862.013354   930.797546\n",
       "13323  833.265166   933.900391\n",
       "7555   851.791656   888.653320\n",
       "20255  808.898009   813.847717\n",
       "29880  819.778662   865.884277\n",
       "10000  832.238295   860.287476\n",
       "4766   762.080193   716.660095\n",
       "18075  832.563756   737.171692\n",
       "19074  820.642067   913.907349\n",
       "24681  794.125966   817.867676\n",
       "9939   786.918254   703.843262\n",
       "23810  851.796607   885.508362\n",
       "18474  886.095439   917.952881\n",
       "12004  926.885272   739.317749\n",
       "19533  842.210073   789.744141\n",
       "5991   846.737410   832.596436\n",
       "17753  931.511646   850.915405\n",
       "25431  863.663221   831.781311\n",
       "9992   754.131309   847.718384\n",
       "1053   850.749531   835.949646\n",
       "23252  911.132952   918.540588\n",
       "28039  903.932495   857.206543\n",
       "18907  890.063417   882.200806\n",
       "22908  863.013246   799.495056\n",
       "18520  865.537093   879.183105\n",
       "\n",
       "[3012 rows x 2 columns]"
      ]
     },
     "execution_count": 1694,
     "metadata": {},
     "output_type": "execute_result"
    }
   ],
   "source": [
    "df_results = pd.DataFrame({\"y_pred\": y_pred, \"y_test\": y_test})\n",
    "\n",
    "df_results"
   ]
  },
  {
   "cell_type": "markdown",
   "metadata": {},
   "source": [
    "## Model evaluation"
   ]
  },
  {
   "cell_type": "code",
   "execution_count": 1695,
   "metadata": {
    "ExecuteTime": {
     "end_time": "2018-09-23T18:09:45.754584Z",
     "start_time": "2018-09-23T18:09:45.738963Z"
    }
   },
   "outputs": [],
   "source": [
    "from sklearn.metrics import mean_absolute_error"
   ]
  },
  {
   "cell_type": "code",
   "execution_count": 1696,
   "metadata": {
    "ExecuteTime": {
     "end_time": "2018-09-23T18:09:46.035809Z",
     "start_time": "2018-09-23T18:09:45.754584Z"
    }
   },
   "outputs": [
    {
     "data": {
      "text/plain": [
       "<matplotlib.legend.Legend at 0x18c5c5db3c8>"
      ]
     },
     "execution_count": 1696,
     "metadata": {},
     "output_type": "execute_result"
    },
    {
     "data": {
      "image/png": "[encoded data removed]",
      "text/plain": [
       "<Figure size 1080x1080 with 1 Axes>"
      ]
     },
     "metadata": {},
     "output_type": "display_data"
    }
   ],
   "source": [
    "plt.figure(figsize=(15,15))\n",
    "df_results.reset_index(drop=True, inplace=True)\n",
    "\n",
    "n = 100\n",
    "\n",
    "df_results.loc[:n, \"y_test\"].plot(marker=\"o\", color=(0/255, 84/255, 159/255), alpha=0.8, label=\"y_test\")\n",
    "df_results.loc[:n, \"y_pred\"].plot(marker=\"o\", linestyle=\"--\", color=\"gray\", alpha=0.8, label=\"y_pred\")\n",
    "plt.fill_between(range(len(df_results.loc[:n, \"y_pred\"])),\n",
    "                 df_results.loc[:n, \"y_pred\"],\n",
    "                 df_results.loc[:n, \"y_test\"],\n",
    "                 color=\"r\",\n",
    "                 alpha=0.3,\n",
    "                 label=\"error\")\n",
    "\n",
    "plt.legend()"
   ]
  },
  {
   "cell_type": "code",
   "execution_count": 1697,
   "metadata": {
    "ExecuteTime": {
     "end_time": "2018-09-23T18:09:46.051421Z",
     "start_time": "2018-09-23T18:09:46.035809Z"
    }
   },
   "outputs": [
    {
     "name": "stdout",
     "output_type": "stream",
     "text": [
      "Mean absolute error (MAE): 38.98856510960182\n",
      "actual output variable has mean of 854.0872579425138 and STD of 62.05567218277861\n"
     ]
    }
   ],
   "source": [
    "mae = mean_absolute_error(y_test, y_pred)\n",
    "\n",
    "print(\"Mean absolute error (MAE): %s\" % (mae))\n",
    "print(\"actual output variable has mean of %s and STD of %s\" % (y_test.mean(), y_test.std()))"
   ]
  },
  {
   "cell_type": "markdown",
   "metadata": {},
   "source": [
    "## Model tuning"
   ]
  },
  {
   "cell_type": "code",
   "execution_count": null,
   "metadata": {},
   "outputs": [],
   "source": [
    "# initializing the model\n",
    "rand_forr = RandomForestClassifier()\n",
    "\n",
    "# specifying parameters to tune\n",
    "param_grid = {\"n_estimators\": [100, 300, 500],\n",
    "              \"max_depth\": [3, 5, 10]}\n",
    "\n",
    "clf = GridSearchCV(rand_forr, param_grid=param_grid, scoring=\"accuracy\", cv=cv, verbose=1, n_jobs=-1)\n",
    "\n",
    "# training\n",
    "clf.fit(X_train, y_train)"
   ]
  },
  {
   "cell_type": "code",
   "execution_count": null,
   "metadata": {
    "ExecuteTime": {
     "end_time": "2018-09-23T16:11:38.487337Z",
     "start_time": "2018-09-23T16:11:36.109Z"
    }
   },
   "outputs": [],
   "source": [
    "# get the best models parameters and score\n",
    "print(\"Best parametersc(SVM): %s\" % regr.best_params_)\n",
    "print(\"Best score (SVM): %s\" % regr.best_score_)"
   ]
  },
  {
   "cell_type": "code",
   "execution_count": null,
   "metadata": {
    "ExecuteTime": {
     "end_time": "2018-09-23T16:11:38.488329Z",
     "start_time": "2018-09-23T16:11:36.406Z"
    },
    "scrolled": true
   },
   "outputs": [],
   "source": [
    "# making predictions with the optimized model\n",
    "\n",
    "y_pred = regr.predict(X_test)\n",
    "\n",
    "df_results = pd.DataFrame({\"y_pred\": y_pred, \"y_test\": y_test})\n",
    "\n",
    "df_results\n"
   ]
  },
  {
   "cell_type": "code",
   "execution_count": 1679,
   "metadata": {
    "ExecuteTime": {
     "end_time": "2018-09-23T16:11:38.942422Z",
     "start_time": "2018-09-23T16:11:38.636325Z"
    }
   },
   "outputs": [
    {
     "ename": "TypeError",
     "evalue": "Empty 'DataFrame': no numeric data to plot",
     "output_type": "error",
     "traceback": [
      "\u001b[1;31m---------------------------------------------------------------------------\u001b[0m",
      "\u001b[1;31mTypeError\u001b[0m                                 Traceback (most recent call last)",
      "\u001b[1;32m<ipython-input-1679-ac59b007a754>\u001b[0m in \u001b[0;36m<module>\u001b[1;34m()\u001b[0m\n\u001b[0;32m      5\u001b[0m \u001b[1;33m\u001b[0m\u001b[0m\n\u001b[0;32m      6\u001b[0m \u001b[0mdf_results\u001b[0m\u001b[1;33m.\u001b[0m\u001b[0mloc\u001b[0m\u001b[1;33m[\u001b[0m\u001b[1;33m:\u001b[0m\u001b[0mn\u001b[0m\u001b[1;33m,\u001b[0m \u001b[1;34m\"y_test\"\u001b[0m\u001b[1;33m]\u001b[0m\u001b[1;33m.\u001b[0m\u001b[0mplot\u001b[0m\u001b[1;33m(\u001b[0m\u001b[0mmarker\u001b[0m\u001b[1;33m=\u001b[0m\u001b[1;34m\"o\"\u001b[0m\u001b[1;33m,\u001b[0m \u001b[0mcolor\u001b[0m\u001b[1;33m=\u001b[0m\u001b[1;33m(\u001b[0m\u001b[1;36m0\u001b[0m\u001b[1;33m/\u001b[0m\u001b[1;36m255\u001b[0m\u001b[1;33m,\u001b[0m \u001b[1;36m84\u001b[0m\u001b[1;33m/\u001b[0m\u001b[1;36m255\u001b[0m\u001b[1;33m,\u001b[0m \u001b[1;36m159\u001b[0m\u001b[1;33m/\u001b[0m\u001b[1;36m255\u001b[0m\u001b[1;33m)\u001b[0m\u001b[1;33m,\u001b[0m \u001b[0malpha\u001b[0m\u001b[1;33m=\u001b[0m\u001b[1;36m0.8\u001b[0m\u001b[1;33m,\u001b[0m \u001b[0mlabel\u001b[0m\u001b[1;33m=\u001b[0m\u001b[1;34m\"y_test\"\u001b[0m\u001b[1;33m)\u001b[0m\u001b[1;33m\u001b[0m\u001b[0m\n\u001b[1;32m----> 7\u001b[1;33m \u001b[0mdf_results\u001b[0m\u001b[1;33m.\u001b[0m\u001b[0mloc\u001b[0m\u001b[1;33m[\u001b[0m\u001b[1;33m:\u001b[0m\u001b[0mn\u001b[0m\u001b[1;33m,\u001b[0m \u001b[1;34m\"y_pred\"\u001b[0m\u001b[1;33m]\u001b[0m\u001b[1;33m.\u001b[0m\u001b[0mplot\u001b[0m\u001b[1;33m(\u001b[0m\u001b[0mmarker\u001b[0m\u001b[1;33m=\u001b[0m\u001b[1;34m\"o\"\u001b[0m\u001b[1;33m,\u001b[0m \u001b[0mlinestyle\u001b[0m\u001b[1;33m=\u001b[0m\u001b[1;34m\"--\"\u001b[0m\u001b[1;33m,\u001b[0m \u001b[0mcolor\u001b[0m\u001b[1;33m=\u001b[0m\u001b[1;34m\"gray\"\u001b[0m\u001b[1;33m,\u001b[0m \u001b[0malpha\u001b[0m\u001b[1;33m=\u001b[0m\u001b[1;36m0.8\u001b[0m\u001b[1;33m,\u001b[0m \u001b[0mlabel\u001b[0m\u001b[1;33m=\u001b[0m\u001b[1;34m\"y_pred\"\u001b[0m\u001b[1;33m)\u001b[0m\u001b[1;33m\u001b[0m\u001b[0m\n\u001b[0m\u001b[0;32m      8\u001b[0m plt.fill_between(range(len(df_results.loc[:n, \"y_pred\"])),\n\u001b[0;32m      9\u001b[0m                  \u001b[0mdf_results\u001b[0m\u001b[1;33m.\u001b[0m\u001b[0mloc\u001b[0m\u001b[1;33m[\u001b[0m\u001b[1;33m:\u001b[0m\u001b[0mn\u001b[0m\u001b[1;33m,\u001b[0m \u001b[1;34m\"y_pred\"\u001b[0m\u001b[1;33m]\u001b[0m\u001b[1;33m,\u001b[0m\u001b[1;33m\u001b[0m\u001b[0m\n",
      "\u001b[1;32m~\\AppData\\Local\\Continuum\\anaconda3\\lib\\site-packages\\pandas\\plotting\\_core.py\u001b[0m in \u001b[0;36m__call__\u001b[1;34m(self, kind, ax, figsize, use_index, title, grid, legend, style, logx, logy, loglog, xticks, yticks, xlim, ylim, rot, fontsize, colormap, table, yerr, xerr, label, secondary_y, **kwds)\u001b[0m\n\u001b[0;32m   2739\u001b[0m                            \u001b[0mcolormap\u001b[0m\u001b[1;33m=\u001b[0m\u001b[0mcolormap\u001b[0m\u001b[1;33m,\u001b[0m \u001b[0mtable\u001b[0m\u001b[1;33m=\u001b[0m\u001b[0mtable\u001b[0m\u001b[1;33m,\u001b[0m \u001b[0myerr\u001b[0m\u001b[1;33m=\u001b[0m\u001b[0myerr\u001b[0m\u001b[1;33m,\u001b[0m\u001b[1;33m\u001b[0m\u001b[0m\n\u001b[0;32m   2740\u001b[0m                            \u001b[0mxerr\u001b[0m\u001b[1;33m=\u001b[0m\u001b[0mxerr\u001b[0m\u001b[1;33m,\u001b[0m \u001b[0mlabel\u001b[0m\u001b[1;33m=\u001b[0m\u001b[0mlabel\u001b[0m\u001b[1;33m,\u001b[0m \u001b[0msecondary_y\u001b[0m\u001b[1;33m=\u001b[0m\u001b[0msecondary_y\u001b[0m\u001b[1;33m,\u001b[0m\u001b[1;33m\u001b[0m\u001b[0m\n\u001b[1;32m-> 2741\u001b[1;33m                            **kwds)\n\u001b[0m\u001b[0;32m   2742\u001b[0m     \u001b[0m__call__\u001b[0m\u001b[1;33m.\u001b[0m\u001b[0m__doc__\u001b[0m \u001b[1;33m=\u001b[0m \u001b[0mplot_series\u001b[0m\u001b[1;33m.\u001b[0m\u001b[0m__doc__\u001b[0m\u001b[1;33m\u001b[0m\u001b[0m\n\u001b[0;32m   2743\u001b[0m \u001b[1;33m\u001b[0m\u001b[0m\n",
      "\u001b[1;32m~\\AppData\\Local\\Continuum\\anaconda3\\lib\\site-packages\\pandas\\plotting\\_core.py\u001b[0m in \u001b[0;36mplot_series\u001b[1;34m(data, kind, ax, figsize, use_index, title, grid, legend, style, logx, logy, loglog, xticks, yticks, xlim, ylim, rot, fontsize, colormap, table, yerr, xerr, label, secondary_y, **kwds)\u001b[0m\n\u001b[0;32m   2000\u001b[0m                  \u001b[0myerr\u001b[0m\u001b[1;33m=\u001b[0m\u001b[0myerr\u001b[0m\u001b[1;33m,\u001b[0m \u001b[0mxerr\u001b[0m\u001b[1;33m=\u001b[0m\u001b[0mxerr\u001b[0m\u001b[1;33m,\u001b[0m\u001b[1;33m\u001b[0m\u001b[0m\n\u001b[0;32m   2001\u001b[0m                  \u001b[0mlabel\u001b[0m\u001b[1;33m=\u001b[0m\u001b[0mlabel\u001b[0m\u001b[1;33m,\u001b[0m \u001b[0msecondary_y\u001b[0m\u001b[1;33m=\u001b[0m\u001b[0msecondary_y\u001b[0m\u001b[1;33m,\u001b[0m\u001b[1;33m\u001b[0m\u001b[0m\n\u001b[1;32m-> 2002\u001b[1;33m                  **kwds)\n\u001b[0m\u001b[0;32m   2003\u001b[0m \u001b[1;33m\u001b[0m\u001b[0m\n\u001b[0;32m   2004\u001b[0m \u001b[1;33m\u001b[0m\u001b[0m\n",
      "\u001b[1;32m~\\AppData\\Local\\Continuum\\anaconda3\\lib\\site-packages\\pandas\\plotting\\_core.py\u001b[0m in \u001b[0;36m_plot\u001b[1;34m(data, x, y, subplots, ax, kind, **kwds)\u001b[0m\n\u001b[0;32m   1802\u001b[0m         \u001b[0mplot_obj\u001b[0m \u001b[1;33m=\u001b[0m \u001b[0mklass\u001b[0m\u001b[1;33m(\u001b[0m\u001b[0mdata\u001b[0m\u001b[1;33m,\u001b[0m \u001b[0msubplots\u001b[0m\u001b[1;33m=\u001b[0m\u001b[0msubplots\u001b[0m\u001b[1;33m,\u001b[0m \u001b[0max\u001b[0m\u001b[1;33m=\u001b[0m\u001b[0max\u001b[0m\u001b[1;33m,\u001b[0m \u001b[0mkind\u001b[0m\u001b[1;33m=\u001b[0m\u001b[0mkind\u001b[0m\u001b[1;33m,\u001b[0m \u001b[1;33m**\u001b[0m\u001b[0mkwds\u001b[0m\u001b[1;33m)\u001b[0m\u001b[1;33m\u001b[0m\u001b[0m\n\u001b[0;32m   1803\u001b[0m \u001b[1;33m\u001b[0m\u001b[0m\n\u001b[1;32m-> 1804\u001b[1;33m     \u001b[0mplot_obj\u001b[0m\u001b[1;33m.\u001b[0m\u001b[0mgenerate\u001b[0m\u001b[1;33m(\u001b[0m\u001b[1;33m)\u001b[0m\u001b[1;33m\u001b[0m\u001b[0m\n\u001b[0m\u001b[0;32m   1805\u001b[0m     \u001b[0mplot_obj\u001b[0m\u001b[1;33m.\u001b[0m\u001b[0mdraw\u001b[0m\u001b[1;33m(\u001b[0m\u001b[1;33m)\u001b[0m\u001b[1;33m\u001b[0m\u001b[0m\n\u001b[0;32m   1806\u001b[0m     \u001b[1;32mreturn\u001b[0m \u001b[0mplot_obj\u001b[0m\u001b[1;33m.\u001b[0m\u001b[0mresult\u001b[0m\u001b[1;33m\u001b[0m\u001b[0m\n",
      "\u001b[1;32m~\\AppData\\Local\\Continuum\\anaconda3\\lib\\site-packages\\pandas\\plotting\\_core.py\u001b[0m in \u001b[0;36mgenerate\u001b[1;34m(self)\u001b[0m\n\u001b[0;32m    256\u001b[0m     \u001b[1;32mdef\u001b[0m \u001b[0mgenerate\u001b[0m\u001b[1;33m(\u001b[0m\u001b[0mself\u001b[0m\u001b[1;33m)\u001b[0m\u001b[1;33m:\u001b[0m\u001b[1;33m\u001b[0m\u001b[0m\n\u001b[0;32m    257\u001b[0m         \u001b[0mself\u001b[0m\u001b[1;33m.\u001b[0m\u001b[0m_args_adjust\u001b[0m\u001b[1;33m(\u001b[0m\u001b[1;33m)\u001b[0m\u001b[1;33m\u001b[0m\u001b[0m\n\u001b[1;32m--> 258\u001b[1;33m         \u001b[0mself\u001b[0m\u001b[1;33m.\u001b[0m\u001b[0m_compute_plot_data\u001b[0m\u001b[1;33m(\u001b[0m\u001b[1;33m)\u001b[0m\u001b[1;33m\u001b[0m\u001b[0m\n\u001b[0m\u001b[0;32m    259\u001b[0m         \u001b[0mself\u001b[0m\u001b[1;33m.\u001b[0m\u001b[0m_setup_subplots\u001b[0m\u001b[1;33m(\u001b[0m\u001b[1;33m)\u001b[0m\u001b[1;33m\u001b[0m\u001b[0m\n\u001b[0;32m    260\u001b[0m         \u001b[0mself\u001b[0m\u001b[1;33m.\u001b[0m\u001b[0m_make_plot\u001b[0m\u001b[1;33m(\u001b[0m\u001b[1;33m)\u001b[0m\u001b[1;33m\u001b[0m\u001b[0m\n",
      "\u001b[1;32m~\\AppData\\Local\\Continuum\\anaconda3\\lib\\site-packages\\pandas\\plotting\\_core.py\u001b[0m in \u001b[0;36m_compute_plot_data\u001b[1;34m(self)\u001b[0m\n\u001b[0;32m    371\u001b[0m         \u001b[1;32mif\u001b[0m \u001b[0mis_empty\u001b[0m\u001b[1;33m:\u001b[0m\u001b[1;33m\u001b[0m\u001b[0m\n\u001b[0;32m    372\u001b[0m             raise TypeError('Empty {0!r}: no numeric data to '\n\u001b[1;32m--> 373\u001b[1;33m                             'plot'.format(numeric_data.__class__.__name__))\n\u001b[0m\u001b[0;32m    374\u001b[0m \u001b[1;33m\u001b[0m\u001b[0m\n\u001b[0;32m    375\u001b[0m         \u001b[0mself\u001b[0m\u001b[1;33m.\u001b[0m\u001b[0mdata\u001b[0m \u001b[1;33m=\u001b[0m \u001b[0mnumeric_data\u001b[0m\u001b[1;33m\u001b[0m\u001b[0m\n",
      "\u001b[1;31mTypeError\u001b[0m: Empty 'DataFrame': no numeric data to plot"
     ]
    },
    {
     "data": {
      "image/png": "[encoded data removed]",
      "text/plain": [
       "<Figure size 1080x1080 with 1 Axes>"
      ]
     },
     "metadata": {},
     "output_type": "display_data"
    }
   ],
   "source": [
    "plt.figure(figsize=(15,15))\n",
    "df_results.reset_index(drop=True, inplace=True)\n",
    "\n",
    "n = 100\n",
    "\n",
    "df_results.loc[:n, \"y_test\"].plot(marker=\"o\", color=(0/255, 84/255, 159/255), alpha=0.8, label=\"y_test\")\n",
    "df_results.loc[:n, \"y_pred\"].plot(marker=\"o\", linestyle=\"--\", color=\"gray\", alpha=0.8, label=\"y_pred\")\n",
    "plt.fill_between(range(len(df_results.loc[:n, \"y_pred\"])),\n",
    "                 df_results.loc[:n, \"y_pred\"],\n",
    "                 df_results.loc[:n, \"y_test\"],\n",
    "                 color=\"r\",\n",
    "                 alpha=0.3,\n",
    "                 label=\"error\")\n",
    "\n",
    "plt.legend()"
   ]
  },
  {
   "cell_type": "code",
   "execution_count": null,
   "metadata": {},
   "outputs": [],
   "source": [
    "mae = mean_absolute_error(y_test, y_pred)\n",
    "\n",
    "print(\"Mean absolute error (MAE): %s\" % (mae))\n",
    "print(\"actual output variable has mean of %s and STD of %s\" % (y_test.mean(), y_test.std()))"
   ]
  }
 ],
 "metadata": {
  "kernelspec": {
   "display_name": "Python 3",
   "language": "python",
   "name": "python3"
  },
  "language_info": {
   "codemirror_mode": {
    "name": "ipython",
    "version": 3
   },
   "file_extension": ".py",
   "mimetype": "text/x-python",
   "name": "python",
   "nbconvert_exporter": "python",
   "pygments_lexer": "ipython3",
   "version": "3.6.5"
  },
  "toc": {
   "base_numbering": 1,
   "nav_menu": {},
   "number_sections": true,
   "sideBar": true,
   "skip_h1_title": false,
   "title_cell": "Table of Contents",
   "title_sidebar": "Contents",
   "toc_cell": false,
   "toc_position": {
    "height": "calc(100% - 180px)",
    "left": "10px",
    "top": "150px",
    "width": "384px"
   },
   "toc_section_display": true,
   "toc_window_display": true
  }
 },
 "nbformat": 4,
 "nbformat_minor": 2
}
